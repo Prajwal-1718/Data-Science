{
 "cells": [
  {
   "cell_type": "markdown",
   "id": "b76a72af",
   "metadata": {},
   "source": [
    "# Sorting_List_Using_Swapping_Method\n"
   ]
  },
  {
   "cell_type": "code",
   "execution_count": 24,
   "id": "36b17d99",
   "metadata": {},
   "outputs": [
    {
     "name": "stdout",
     "output_type": "stream",
     "text": [
      "[-100, -63, -25, 17, 25, 52, 500]\n"
     ]
    }
   ],
   "source": [
    "def swap(swapIndex, toSwapIndex, listToGetSort):\n",
    "    \"\"\"\n",
    "    \"swap\" function is used to swap the values using temproary variable\n",
    "    And return the swapped list\n",
    "    Value from 'swapIndex' position to 'toSwapIndex' position\n",
    "    \"\"\"\n",
    "    temp = listToGetSort[swapIndex]\n",
    "    listToGetSort[swapIndex] = listToGetSort[toSwapIndex]\n",
    "    listToGetSort[toSwapIndex] = temp\n",
    "    return listToGetSort\n",
    "\n",
    "\n",
    "listToGetSort = [25, 52, -63, -25, -100, 500, 17]\n",
    "\n",
    "#Outer loop is to get the minimum value for ref against the list\n",
    "for each in range(0,len(listToGetSort)):\n",
    "    minValue = listToGetSort[each]\n",
    "    i = each + 1    #To start parsing from next index\n",
    "    \n",
    "    #Inner loop is compare the outer loop min value with each value in list\n",
    "    while i < len(listToGetSort):\n",
    "        if listToGetSort[i] < minValue:\n",
    "            # i-> Index of min_value & each-> Index of assumed min value\n",
    "            swap(swapIndex = i, toSwapIndex = each, listToGetSort = listToGetSort)   \n",
    "            minValue = listToGetSort[each]\n",
    "            # No increment to index just to compare the existing min_value with rest if the other values in the list\n",
    "        \n",
    "        # Increment to index is done when the assumed min_value is actually lesser than the compared value\n",
    "        else:\n",
    "            i += 1\n",
    "\n",
    "print(listToGetSort)"
   ]
  },
  {
   "cell_type": "code",
   "execution_count": 14,
   "id": "e078b98d",
   "metadata": {},
   "outputs": [],
   "source": [
    "swap??\n",
    "#<function_name> ?  ->  Gives you the function document[Docstring] which is the descriptiion written inside the function\n",
    "#<Function_name> ??  ->  Gives you the complete implementation of the function along with Docstring\n",
    "#help(<function_name>)    ->    Gives you the exact thing which the above [??] gives"
   ]
  },
  {
   "cell_type": "markdown",
   "id": "e66ebbb1",
   "metadata": {},
   "source": [
    "Probelm : Let say you are a teacher and you have different student\n",
    "records containing 'id' of a student and the marks list in each subject\n",
    "where different students have taken different number of subjects. All\n",
    "these records are in hard copy. You want to enter all the data in computer\n",
    "and want to compute the average marks of each student and display"
   ]
  },
  {
   "cell_type": "code",
   "execution_count": 2,
   "id": "21714b7f",
   "metadata": {},
   "outputs": [
    {
     "name": "stdout",
     "output_type": "stream",
     "text": [
      "Enter Student Id:R18EC206\n",
      "Enter the individual marks of each subject separated by comma(,):25,55,85,95,65\n",
      "Type 'yes' to quitno\n",
      "Enter Student Id:R18EC223\n",
      "Enter the individual marks of each subject separated by comma(,):65,75,85,95,90,54,63,97\n",
      "Type 'yes' to quityes\n",
      "Student ID: R18EC206 has scored an avg marks of : 65.0\n",
      "Student ID: R18EC223 has scored an avg marks of : 78.0\n"
     ]
    }
   ],
   "source": [
    "def getDataFromUser():\n",
    "    \n",
    "    '''\n",
    "    This function is to get the student ID and the all the individual marks scored by that student.\n",
    "    And storing them in a dictionary with student ID as KEY and the marks as VALUE in LIST format.\n",
    "    This function returns the 'Marks' dictionary with all the details of student ID and marks scored\n",
    "    '''\n",
    "    \n",
    "    #Declaring an empty dict to store the student ID and marks scored by the student\n",
    "    Marks = {}\n",
    "    \n",
    "    #To be in loop until all the students details have been added to the dict and user wants to quit\n",
    "    while True:\n",
    "        studentId = input(\"Enter Student Id:\")\n",
    "        marksScored = input(\"Enter the individual marks of each subject separated by comma(,):\")\n",
    "        \n",
    "        #If user wants to quit after enetering all students details to the database\n",
    "        moreStudentsToAdd = input(\"Type 'yes' to quit\") #If user wants add more students then user have to type anything except 'yes'\n",
    "        \n",
    "        #Checking if the student ID is already in the database(Marks dict) or not\n",
    "        if studentId in Marks :\n",
    "            print(\"Student Id\",studentId,\"is already in the database\")\n",
    "        else : #If the student ID is not in the database, the entered detalis will be added to the Marks dict\n",
    "            Marks[studentId] = marksScored.split(',')\n",
    "        \n",
    "        #For exiting the loop after user wants to quit\n",
    "        if moreStudentsToAdd.lower() == 'yes':\n",
    "            return Marks\n",
    "\n",
    "    \n",
    "\n",
    "def getAvgMarks(marksScored):\n",
    "    \n",
    "    '''\n",
    "    This functions gets the dictionary as the parameter and gets the marks from each student.\n",
    "    Calculates the AVG marks and stores in the avgMarks dictionary and returns the same.\n",
    "    '''\n",
    "        \n",
    "    #Declaring an empty dictionary to store the avg marks scored by each student.\n",
    "    avgMarks = {}\n",
    "        \n",
    "    for student in marksScored :\n",
    "        total = 0 #To calculate the total marks by adding all the individual scores\n",
    "        marks = marksScored[student] #Getting the LIST of marks to separate list\n",
    "            \n",
    "        for score in marks:\n",
    "            total += int(score)\n",
    "            \n",
    "        #Storing the avg marks against that student id, rouded to 2 decimal points\n",
    "        avgMarks[student] = round(total/len(marks),2)\n",
    "            \n",
    "    return avgMarks\n",
    "\n",
    "\n",
    "\n",
    "studentsData = getDataFromUser()\n",
    "\n",
    "studentsAvgMarks = getAvgMarks(studentsData)\n",
    "\n",
    "#For printing the avg marks\n",
    "for student in studentsAvgMarks:\n",
    "    print(\"Student ID:\",student,\"has scored an avg marks of :\",studentsAvgMarks[student])\n",
    "        \n",
    "        \n",
    "            \n",
    "        \n",
    "        \n",
    "    "
   ]
  },
  {
   "cell_type": "markdown",
   "id": "2d894dcc",
   "metadata": {},
   "source": [
    "Exercise: Python Variables\n",
    "\n",
    "1.Create two variables. One to store your birth year and another one to store current year. Now calculate your age using these two variables\n",
    "\n",
    "2.Store your first, middle and last name in three different variables and then print your full name using these variables"
   ]
  },
  {
   "cell_type": "code",
   "execution_count": 4,
   "id": "0546c3bf",
   "metadata": {},
   "outputs": [
    {
     "name": "stdout",
     "output_type": "stream",
     "text": [
      "Enter your birth year:2000\n",
      "Enter the current year:2023\n",
      "Your age is: 23\n",
      "Enetr your first name:Prajwal\n",
      "Enetr your middle name:H\n",
      "Enetr your last name:O\n",
      "Full name is: Prajwal H O\n"
     ]
    }
   ],
   "source": [
    "#1\n",
    "birth_year = int(input(\"Enter your birth year:\"))\n",
    "current_year = int(input(\"Enter the current year:\"))\n",
    "\n",
    "print(\"Your age is:\",(current_year-birth_year))\n",
    "\n",
    "\n",
    "#2\n",
    "first_name = input(\"Enetr your first name:\")\n",
    "middle_name = input(\"Enetr your middle name:\")\n",
    "last_name = input(\"Enetr your last name:\")\n",
    "\n",
    "print(\"Full name is:\",first_name+' '+middle_name+' '+last_name)"
   ]
  },
  {
   "cell_type": "markdown",
   "id": "29fefc11",
   "metadata": {},
   "source": [
    "Exercise: Numbers in python\n",
    "\n",
    "1.You have a football field that is 92 meter long and 48.8 meter wide. Find out total area using python and print it.\n",
    "\n",
    "2.You bought 9 packets of potato chips from a store. Each packet costs 1.49 dollar and you gave shopkeeper 20 dollar. Find out using python, how many dollars is the shopkeeper going to give you back?\n",
    "\n",
    "3.You want to replace tiles in your bathroom which is exactly square and 5.5 feet is its length. If tiles cost 500 rs per square feet, how much will be the total cost to replace all tiles. Calculate and print the cost using python (Hint: Use power operator ** to find area of a square)\n",
    "\n",
    "4.Print binary representation of number 17"
   ]
  },
  {
   "cell_type": "code",
   "execution_count": 25,
   "id": "6d6a4462",
   "metadata": {},
   "outputs": [
    {
     "name": "stdout",
     "output_type": "stream",
     "text": [
      "Total area of football field is: 4489.6\n",
      "The shopkeeper is going to give $ 6.59\n",
      "Total cost to replace all tiles will be: 15125.0\n",
      "The binary format of 17 is 10001\n"
     ]
    }
   ],
   "source": [
    "#1\n",
    "length = 92\n",
    "width = 48.8\n",
    "\n",
    "print(\"Total area of football field is:\", round((length*width),2))\n",
    "\n",
    "\n",
    "#2\n",
    "numberOfPackets = 9\n",
    "costPerPacket = 1.49\n",
    "amountPaid = 20\n",
    "\n",
    "print(\"The shopkeeper is going to give $\",(amountPaid-(numberOfPackets*costPerPacket)))\n",
    "\n",
    "\n",
    "#3\n",
    "lengthOfBathroom = 5.5\n",
    "costPerSqFeet = 500\n",
    "\n",
    "totalAreaOfBathroom = lengthOfBathroom**2\n",
    "print(\"Total cost to replace all tiles will be:\", (totalAreaOfBathroom*costPerSqFeet))\n",
    "\n",
    "#4\n",
    "number = 17\n",
    "print(\"The binary format of\",number,\"is\",format(number,'b'))"
   ]
  },
  {
   "cell_type": "markdown",
   "id": "787e6aa3",
   "metadata": {},
   "source": [
    "Exercise: String in Python\n",
    "\n",
    "1.Create 3 variables to store street, city and country, now create address variable to store entire address. Use two ways of creating this variable, one using + operator and the other using f-string. Now Print the address in such a way that the street, city and country prints in a separate line\n",
    "\n",
    "2.Create a variable to store the string \"Earth revolves around the sun\"\n",
    "Print \"revolves\" using slice operator\n",
    "Print \"sun\" using negative index\n",
    "\n",
    "3.Create two variables to store how many fruits and vegetables you eat in a day. Now Print \"I eat x veggies and y fruits daily\" where x and y presents vegetables and fruits that you eat everyday. Use python f string for this.\n",
    "\n",
    "4.I have a string variable called s='maine 200 banana khaye'. This of course is a wrong statement, the correct statement is 'maine 10 samosa khaye'. Replace incorrect words in original string with new ones and print the new string."
   ]
  },
  {
   "cell_type": "code",
   "execution_count": 36,
   "id": "d4995089",
   "metadata": {},
   "outputs": [
    {
     "name": "stdout",
     "output_type": "stream",
     "text": [
      "Address using + operator: Main Raod\n",
      "Hosadurga\n",
      "India\n",
      "\n",
      "Address using f-string: Main Raod\n",
      "Hosadurga\n",
      "India\n",
      "\n",
      "revolves\n",
      "sun\n",
      "I eat 5 veggies and 8 fruits daily\n",
      "maine 10 samosa khaye\n"
     ]
    }
   ],
   "source": [
    "#1\n",
    "street = \"Main Raod\"\n",
    "city = \"Hosadurga\"\n",
    "country = \"India\"\n",
    "\n",
    "addressUsingOperator = street+'\\n'+city+'\\n'+country+'\\n'\n",
    "addressUsingFString = f'{street}\\n{city}\\n{country}\\n'\n",
    "\n",
    "print(\"Address using + operator:\",addressUsingOperator)\n",
    "print(\"Address using f-string:\",addressUsingFString)\n",
    "\n",
    "\n",
    "#2\n",
    "line = \"Earth revolves around the sun\"\n",
    "\n",
    "print(line[6:14])\n",
    "print(line[-3:])\n",
    "\n",
    "#3\n",
    "fruits = 8\n",
    "vegetables = 5\n",
    "\n",
    "print(f'I eat {vegetables} veggies and {fruits} fruits daily')\n",
    "\n",
    "#4\n",
    "eating = \"maine 200 banana khaye\"\n",
    "print(eating.replace('200','10').replace('banana','samosa'))\n"
   ]
  },
  {
   "cell_type": "code",
   "execution_count": null,
   "id": "343cc9a7",
   "metadata": {},
   "outputs": [],
   "source": []
  }
 ],
 "metadata": {
  "kernelspec": {
   "display_name": "Python 3 (ipykernel)",
   "language": "python",
   "name": "python3"
  },
  "language_info": {
   "codemirror_mode": {
    "name": "ipython",
    "version": 3
   },
   "file_extension": ".py",
   "mimetype": "text/x-python",
   "name": "python",
   "nbconvert_exporter": "python",
   "pygments_lexer": "ipython3",
   "version": "3.11.5"
  }
 },
 "nbformat": 4,
 "nbformat_minor": 5
}
