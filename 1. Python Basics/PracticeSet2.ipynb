{
 "cells": [
  {
   "cell_type": "markdown",
   "id": "c4b08122",
   "metadata": {},
   "source": [
    "Let us say your expense for every month are listed below,\n",
    "\n",
    "    1.January - 2200\n",
    "    2.February - 2350\n",
    "    3.March - 2600\n",
    "    4.April - 2130\n",
    "    5.May - 2190\n",
    "    \n",
    "    \n",
    "Create a list to store these monthly expenses and using that find out,\n",
    "1. In Feb, how many dollars you spent extra compare to January?\n",
    "2. Find out your total expense in first quarter (first three months) of the year.\n",
    "3. Find out if you spent exactly 2000 dollars in any month\n",
    "4. June month just finished and your expense is 1980 dollar. Add this item to our monthly expense list\n",
    "5. You returned an item that you bought in a month of April and\n",
    "got a refund of 200$. Make a correction to your monthly expense list\n",
    "based on this"
   ]
  },
  {
   "cell_type": "code",
   "execution_count": 11,
   "id": "4357a50a",
   "metadata": {},
   "outputs": [
    {
     "name": "stdout",
     "output_type": "stream",
     "text": [
      "1. In Feb, 150 dollars was spent extra compare to January\n",
      "2. Total expense in first quarter(first three months) of the year: 7150\n",
      "3. Did I spent exactly $2000 in any month? False\n",
      "4. Expenese at the end of JUNE month: [2200, 2350, 2600, 2130, 2190, 1980]\n",
      "5. Expenses after the correction in APRIL month: [2200, 2350, 2600, 1930, 2190, 1980]\n"
     ]
    }
   ],
   "source": [
    "expenses = [2200,2350,2600,2130,2190]\n",
    "\n",
    "print(\"1. In Feb,\",expenses[1]-expenses[0],\"dollars was spent extra compare to January\")\n",
    "print(\"2. Total expense in first quarter(first three months) of the year:\",expenses[0]+expenses[1]+expenses[2])\n",
    "print(\"3. Did I spent exactly $2000 in any month?\", 2000 in expenses)\n",
    "expenses.append(1980)\n",
    "print(\"4. Expenese at the end of JUNE month:\",expenses)\n",
    "expenses[3] = expenses[3]-200\n",
    "print(\"5. Expenses after the correction in APRIL month:\",expenses)"
   ]
  },
  {
   "cell_type": "markdown",
   "id": "c458344a",
   "metadata": {},
   "source": [
    "\n",
    "\n",
    "You have a list of your favourite marvel super heros.\n",
    "    heros=['spider man','thor','hulk','iron man','captain america']\n",
    "\n",
    "Using this find out,\n",
    "1. Length of the list\n",
    "2. Add 'black panther' at the end of this list\n",
    "3. You realize that you need to add 'black panther' after 'hulk',\n",
    "   so remove it from the list first and then add it after 'hulk'\n",
    "4. Now you don't like thor and hulk because they get angry easily :)\n",
    "   So you want to remove thor and hulk from list and replace them with doctor strange (because he is cool).\n",
    "   Do that with one line of code.\n",
    "5. Sort the heros list in alphabetical order (Hint. Use dir() functions to list down all functions available in list)"
   ]
  },
  {
   "cell_type": "code",
   "execution_count": 24,
   "id": "b7fa145d",
   "metadata": {},
   "outputs": [
    {
     "name": "stdout",
     "output_type": "stream",
     "text": [
      "1. Length of the list: 5\n",
      "2. Updated list: ['spider man', 'thor', 'hulk', 'iron man', 'captain america', 'black panther']\n",
      "3. After changing the positionof black panther: ['spider man', 'thor', 'hulk', 'black panther', 'iron man', 'captain america']\n",
      "4. After replacing thor and hulk with doctor strange: ['spider man', 'doctor strange', 'black panther', 'iron man', 'captain america']\n",
      "5. Heros in alphabetical order: ['black panther', 'captain america', 'doctor strange', 'iron man', 'spider man']\n"
     ]
    }
   ],
   "source": [
    "heros = ['spider man','thor','hulk','iron man','captain america']\n",
    "\n",
    "#1\n",
    "print(\"1. Length of the list:\",len(heros))\n",
    "\n",
    "#2\n",
    "heros.append('black panther')\n",
    "print(\"2. Updated list:\",heros)\n",
    "\n",
    "#3\n",
    "heros.remove('black panther')\n",
    "heros.insert(3,'black panther')\n",
    "print(\"3. After changing the positionof black panther:\",heros)\n",
    "\n",
    "#4\n",
    "heros[1:3] = ['doctor strange']\n",
    "print(\"4. After replacing thor and hulk with doctor strange:\",heros)\n",
    "\n",
    "#5\n",
    "heros.sort()\n",
    "print(\"5. Heros in alphabetical order:\",heros)"
   ]
  },
  {
   "cell_type": "markdown",
   "id": "8faf78e9",
   "metadata": {},
   "source": [
    "Exercise: Python If Condition"
   ]
  },
  {
   "cell_type": "markdown",
   "id": "d6572486",
   "metadata": {},
   "source": [
    "Using following list of cities per country,\n",
    "\n",
    "india = [\"mumbai\", \"banglore\", \"chennai\", \"delhi\"]\n",
    "\n",
    "pakistan = [\"lahore\",\"karachi\",\"islamabad\"]\n",
    "\n",
    "bangladesh = [\"dhaka\", \"khulna\", \"rangpur\"]\n",
    "\n",
    "1.Write a program that asks user to enter a city name and it should tell which country the city belongs to\n",
    "\n",
    "2.Write a program that asks user to enter two cities and it tells you if they both are in same country or not. For example if I enter mumbai and chennai, it will print \"Both cities are in India\" but if I enter mumbai and dhaka it should print \"They don't belong to same country\""
   ]
  },
  {
   "cell_type": "code",
   "execution_count": 33,
   "id": "40e6e38e",
   "metadata": {},
   "outputs": [
    {
     "name": "stdout",
     "output_type": "stream",
     "text": [
      "Enter the city name:Banglore\n",
      "Banglore belongs to INDIA\n",
      "Enter the name of 1st city:Mumbai\n",
      "Enter the name of 2nd city:chennai\n",
      "Both cities belongs to INDIA\n"
     ]
    }
   ],
   "source": [
    "india = ['mumbai','banglore','chennai','delhi']\n",
    "pakistan = ['lahore','karachi','islamabad']\n",
    "bangladesh = ['dhaka','khulna','rangpur']\n",
    "\n",
    "#1\n",
    "cityName = input(\"Enter the city name:\")\n",
    "#Converting the city name entered to lowercase just to make sure that everything is in lowercase as it is inside the lists \n",
    "if cityName.lower() in india : print(cityName,\"belongs to INDIA\")\n",
    "elif cityName.lower() in pakistan : print(cityName,'belongs to PAKISTAN')\n",
    "elif cityName.lower() in bangladesh : print(cityName,'belongs to BANGLADESH')\n",
    "else : print(\"Enter valid city name.\")\n",
    "    \n",
    "\n",
    "#2\n",
    "city1 = input(\"Enter the name of 1st city:\").lower()\n",
    "city2 = input(\"Enter the name of 2nd city:\").lower()\n",
    "\n",
    "if city1 in india and city2 in india : print(\"Both cities belongs to INDIA\")\n",
    "elif city1 in pakistan and city2 in pakistan : print(\"Both cities belongs to PAKISTAN\")\n",
    "elif city1 in bangladesh and city2 in bangladesh : print(\"Both cities belongs to BANGLADESH\")\n",
    "else : print(\"They don't belong to same country\")"
   ]
  },
  {
   "cell_type": "markdown",
   "id": "1da60b72",
   "metadata": {},
   "source": [
    "Write a python program that can tell you if your sugar is normal or not. Normal fasting level sugar range is 80 to 100.\n",
    "\n",
    "1.Ask user to enter his fasting sugar level\n",
    "\n",
    "2.If it is below 80 to 100 range then print that sugar is low\n",
    "\n",
    "3.If it is above 100 then print that it is high otherwise print that it is normal"
   ]
  },
  {
   "cell_type": "code",
   "execution_count": 36,
   "id": "69737c04",
   "metadata": {},
   "outputs": [
    {
     "name": "stdout",
     "output_type": "stream",
     "text": [
      "Enter your fasting sugar level:75\n",
      "Sugar level is LOW\n"
     ]
    }
   ],
   "source": [
    "sugarLevel = int(input(\"Enter your fasting sugar level:\"))\n",
    "\n",
    "if sugarLevel<80 : print(\"Sugar level is LOW\")\n",
    "elif sugarLevel>100 : print(\"Sugar level is HIGH\")\n",
    "else : print(\"NORMAL\")"
   ]
  },
  {
   "cell_type": "markdown",
   "id": "5c3e8d6f",
   "metadata": {},
   "source": [
    "Exercise: Python for loop"
   ]
  },
  {
   "cell_type": "markdown",
   "id": "c40e6226",
   "metadata": {},
   "source": [
    "1.After flipping a coin 10 times you got this result,\n",
    "\n",
    "result = [\"heads\",\"tails\",\"tails\",\"heads\",\"tails\",\"heads\",\"heads\",\"tails\",\"tails\",\"tails\"]\n",
    "\n",
    "Using for loop figure out how many times you got heads"
   ]
  },
  {
   "cell_type": "code",
   "execution_count": 37,
   "id": "011c21c1",
   "metadata": {},
   "outputs": [
    {
     "name": "stdout",
     "output_type": "stream",
     "text": [
      "Total heads count: 4\n"
     ]
    }
   ],
   "source": [
    "result = [\"heads\",\"tails\",\"tails\",\"heads\",\"tails\",\"heads\",\"heads\",\"tails\",\"tails\",\"tails\"]\n",
    "\n",
    "headsCount = 0\n",
    "\n",
    "for toss in result:\n",
    "    if toss == 'heads' : headsCount += 1\n",
    "\n",
    "print(\"Total heads count:\",headsCount)"
   ]
  },
  {
   "cell_type": "markdown",
   "id": "56cd62b2",
   "metadata": {},
   "source": [
    "2.Print square of all numbers between 1 to 10 except even numbers"
   ]
  },
  {
   "cell_type": "code",
   "execution_count": 40,
   "id": "4c434059",
   "metadata": {},
   "outputs": [
    {
     "name": "stdout",
     "output_type": "stream",
     "text": [
      "square of all numbers between 1 to 10 except even numbers:\n",
      " [1, 9, 25, 49, 81]\n"
     ]
    }
   ],
   "source": [
    "squares = []\n",
    "\n",
    "for num in range(1,10,2) :\n",
    "    squares.append(num**2)\n",
    "\n",
    "print(\"square of all numbers between 1 to 10 except even numbers:\\n\",squares)"
   ]
  },
  {
   "cell_type": "markdown",
   "id": "a974361b",
   "metadata": {},
   "source": [
    "3. Your monthly expense list (from Jan to May) looks like this,\n",
    "\n",
    "expense_list = [2340, 2500, 2100, 3100, 2980]\n",
    "\n",
    "Write a program that asks you to enter an expense amount and program should tell you in which month that expense occurred. If expense is not found then it should print that as well."
   ]
  },
  {
   "cell_type": "code",
   "execution_count": 53,
   "id": "543264a1",
   "metadata": {},
   "outputs": [
    {
     "name": "stdout",
     "output_type": "stream",
     "text": [
      "Enter the expense amount:3100\n",
      "3100 is the expense of April month\n"
     ]
    }
   ],
   "source": [
    "month_list = ['January','February','March','April','May']\n",
    "expense_list = [2340, 2500, 2100, 3100, 2980]\n",
    "\n",
    "expense = int(input(\"Enter the expense amount:\"))\n",
    "\n",
    "'''\n",
    "#Using if-else statement\n",
    "if expense in expense_list :\n",
    "    expenseIndex = expense_list.index(expense)\n",
    "    print(expense,\"is the expense of\",month_list[expenseIndex],\"month\")\n",
    "\n",
    "else : print(expense,\"is not found in any month\")\n",
    "'''\n",
    "\n",
    "#Using for loop\n",
    "month = -1 #Because if we assign it to 0, it indicates Jan month in the month_list\n",
    "for i in range(len(expense_list)) :\n",
    "    if expense == expense_list[i] :\n",
    "        month = i\n",
    "        break\n",
    "\n",
    "if month != -1 :\n",
    "    print(expense,\"is the expense of\",month_list[month],\"month\")\n",
    "else : print(expense,\"is not found in any month\")\n",
    "\n",
    "\n",
    "    "
   ]
  },
  {
   "cell_type": "markdown",
   "id": "2ce68460",
   "metadata": {},
   "source": [
    "4. Lets say you are running a 5 km race. Write a program that,\n",
    "\n",
    "i.   Upon completing each 1 km asks you \"are you tired?\"\n",
    "\n",
    "ii.  If you reply \"yes\" then it should break and print \"you didn't finish the race\"\n",
    "\n",
    "iii. If you reply \"no\" then it should continue and ask \"are you tired\" on every km\n",
    "\n",
    "iv.  If you finish all 5 km then it should print congratulations message\n"
   ]
  },
  {
   "cell_type": "code",
   "execution_count": 6,
   "id": "cbba8892",
   "metadata": {},
   "outputs": [
    {
     "name": "stdout",
     "output_type": "stream",
     "text": [
      "You have completed 1 km\n",
      "Are you tired:no\n",
      "You have completed 2 km\n",
      "Are you tired:no\n",
      "You have completed 3 km\n",
      "Are you tired:yes\n",
      "You didn't finish the 5km race, but congrats for completing 3 kms\n"
     ]
    }
   ],
   "source": [
    "for i in range(5):\n",
    "    \n",
    "    #Informing how many KMs completed\n",
    "    print(f'You have completed {i+1} km') #Since loop var i starts from 0\n",
    "    \n",
    "    #Checking if it is 5th km, if it is then no need of asking \"Are you tired?\", since it'll be the end of race\n",
    "    if i==4 : \n",
    "        break\n",
    "    \n",
    "    else :\n",
    "        tired = input(\"Are you tired:\").lower()\n",
    "        \n",
    "        #If the input is 'yes' and it's not 5th km running\n",
    "        if tired == 'yes' and i != 4:\n",
    "            print(\"You didn't finish the 5km race, but congrats for completing\", i+1,\"kms\")\n",
    "            break\n",
    "    \n",
    "#After completing the 5km race (when i =4)\n",
    "if i == 4 :\n",
    "    print(\"Congratulation on completing 5kms race. Have a good day!!\")"
   ]
  },
  {
   "cell_type": "raw",
   "id": "64ad21cb",
   "metadata": {},
   "source": [
    "5.Write a program that prints following shape\n",
    "*\n",
    "**\n",
    "***\n",
    "****\n",
    "*****"
   ]
  },
  {
   "cell_type": "code",
   "execution_count": 7,
   "id": "bd4e5287",
   "metadata": {},
   "outputs": [
    {
     "name": "stdout",
     "output_type": "stream",
     "text": [
      "*\n",
      "**\n",
      "***\n",
      "****\n",
      "*****\n"
     ]
    }
   ],
   "source": [
    "for i in range(5):\n",
    "    print((i+1)*'*')"
   ]
  },
  {
   "cell_type": "code",
   "execution_count": null,
   "id": "9dd78085",
   "metadata": {},
   "outputs": [],
   "source": []
  }
 ],
 "metadata": {
  "kernelspec": {
   "display_name": "Python 3 (ipykernel)",
   "language": "python",
   "name": "python3"
  },
  "language_info": {
   "codemirror_mode": {
    "name": "ipython",
    "version": 3
   },
   "file_extension": ".py",
   "mimetype": "text/x-python",
   "name": "python",
   "nbconvert_exporter": "python",
   "pygments_lexer": "ipython3",
   "version": "3.11.5"
  }
 },
 "nbformat": 4,
 "nbformat_minor": 5
}
