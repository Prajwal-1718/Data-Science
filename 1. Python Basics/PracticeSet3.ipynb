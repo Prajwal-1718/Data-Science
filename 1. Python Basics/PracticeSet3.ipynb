{
 "cells": [
  {
   "cell_type": "markdown",
   "id": "b9ad0460",
   "metadata": {},
   "source": [
    "# Exercise: Functions in python"
   ]
  },
  {
   "cell_type": "markdown",
   "id": "9eb1e94e",
   "metadata": {},
   "source": [
    "1. Write a function called calculate_area that takes base and height as an input and returns area of a triangle. Equation of an area of a triangle is,\n",
    "\n",
    "area = (1/2)*base*height"
   ]
  },
  {
   "cell_type": "code",
   "execution_count": 3,
   "id": "8a5524a4",
   "metadata": {},
   "outputs": [
    {
     "name": "stdout",
     "output_type": "stream",
     "text": [
      "Enter the base of triangle:2\n",
      "Enter the height of triangle:5\n",
      "The area of triangle is: 5.0\n"
     ]
    }
   ],
   "source": [
    "def calculate_area(dimension1, dimension2):\n",
    "    '''\n",
    "    This function takes base(dimension1) and height(dimension2) of a triangle.\n",
    "    And returns the AREA of triangle\n",
    "    '''\n",
    "    areaOfTriangle = (1/2)*int(dimension1)*int(dimension2)\n",
    "    \n",
    "    return areaOfTriangle\n",
    "    \n",
    "base = input(\"Enter the base of triangle:\")\n",
    "height = input(\"Enter the height of triangle:\")\n",
    "\n",
    "print(f'The area of triangle is: {calculate_area(base, height)}')"
   ]
  },
  {
   "cell_type": "markdown",
   "id": "333df1e6",
   "metadata": {},
   "source": [
    "2. Modify above function to take third parameter shape type. It can be either \"triangle\" or \"rectangle\". Based on shape type it will calculate area. Equation of rectangle's area is,\n",
    "\n",
    "rectangle area=length*width"
   ]
  },
  {
   "cell_type": "code",
   "execution_count": null,
   "id": "89f1d54e",
   "metadata": {},
   "outputs": [],
   "source": [
    "def calculate_area(dimension1, dimension2, shape='triangle'):\n",
    "    '''\n",
    "    This function takes base(dimension1) and height(dimension2) for a triangle.\n",
    "    And for rectangle length(dimension1) and width(dimension2).\n",
    "    Shape variable to decide triangle or rectangle.\n",
    "    By default the shape will be triangle\n",
    "    And returns the AREA of that particular shape\n",
    "    '''\n",
    "    \n",
    "    if shape == 'triangle' :\n",
    "        areaOfShape = (1/2)*int(dimension1)*int(dimension2)\n",
    "    elif shape == 'rectangle' :\n",
    "        areaOfShape = int(dimension1)*int(dimension2)\n",
    "    \n",
    "    return areaOfShape\n",
    "\n",
    "\n",
    "\n",
    "base = input(\"Enter the base of triangle:\")\n",
    "height = input(\"Enter the height of the triangle:\")\n",
    "print(\"Area of triangle:\",calculate_area(base,height))\n",
    "\n",
    "\n",
    "length = input(\"Enter the lenght of the rectangle:\")\n",
    "width = input(\"Enter the width of the rectangle:\")\n",
    "print(\"Area of rectangle:\",calculate_area(length,width,'rectangle'))"
   ]
  },
  {
   "cell_type": "raw",
   "id": "ba2e41bc",
   "metadata": {},
   "source": [
    "3. Write a function called print_pattern that takes integer number as an argument and prints following pattern if input number is 3,\n",
    "*\n",
    "**\n",
    "***"
   ]
  },
  {
   "cell_type": "code",
   "execution_count": 4,
   "id": "289b9941",
   "metadata": {
    "scrolled": true
   },
   "outputs": [
    {
     "name": "stdout",
     "output_type": "stream",
     "text": [
      "Enter the number for which you want to print the pattern:6\n",
      "Printing the patter for number 6\n",
      "*\n",
      "**\n",
      "***\n",
      "****\n",
      "*****\n",
      "******\n"
     ]
    }
   ],
   "source": [
    "def print_pattern(num = 5):\n",
    "    \"\"\"\n",
    "    This function takes one number as input.\n",
    "    Based on that it prints the number of lines which we call it as pettern\n",
    "    And the pattern goes like this :\n",
    "    for n=3\n",
    "    *\n",
    "    **\n",
    "    ***\n",
    "    \n",
    "    for n=4\n",
    "    *\n",
    "    **\n",
    "    ***\n",
    "    ****\n",
    "    \n",
    "    When the number is not passed, the default value will be 5\n",
    "    \"\"\"\n",
    "    \n",
    "    for i in range(num):\n",
    "        print((i+1)*'*')\n",
    "        \n",
    "\n",
    "number = int(input(\"Enter the number for which you want to print the pattern:\"))\n",
    "print(\"Printing the patter for number\",number)\n",
    "print_pattern(number)"
   ]
  },
  {
   "cell_type": "markdown",
   "id": "d52cf003",
   "metadata": {},
   "source": [
    "# Exercise: Python Dict and Tuples"
   ]
  },
  {
   "cell_type": "raw",
   "id": "e8584e5f",
   "metadata": {},
   "source": [
    "We have following information on countries and their population (population is in crores),\n",
    "\n",
    "Country\tPopulation\n",
    "China\t   143\n",
    "India\t   136\n",
    "USA\t       32\n",
    "Pakistan   21\n",
    "\n",
    "i.Using above create a dictionary of countries and its population\n",
    "\n",
    "ii.Write a program that asks user for three type of inputs,\n",
    "    a.print: if user enter print then it should print all countries with their population in this format,\n",
    "        china==>143\n",
    "        india==>136\n",
    "        usa==>32\n",
    "        pakistan==>21\n",
    "    b.add: if user input add then it should further ask for a country name to add. If country already exist in our dataset then it should print that it exist and do nothing. If it doesn't then it asks for population and add that new country/population in our dictionary and print it\n",
    "    c.remove: when user inputs remove it should ask for a country to remove. If country exist in our dictionary then remove it and print new dictionary using format shown above in (a). Else print that country doesn't exist!\n",
    "    d.query: on this again ask user for which country he or she wants to query. When user inputs that country it will print population of that country."
   ]
  },
  {
   "cell_type": "code",
   "execution_count": 14,
   "id": "0bdf5ef9",
   "metadata": {},
   "outputs": [
    {
     "name": "stdout",
     "output_type": "stream",
     "text": [
      "Enter the operation (add, remove, query, print):query\n",
      "Enter the country name:INDIA\n",
      "Population of the india is : 136 cr\n"
     ]
    }
   ],
   "source": [
    "countryPopulation = {\n",
    "    'china' : 143,\n",
    "    'india' : 136,\n",
    "    'usa' : 32,\n",
    "    'pakistan' : 21\n",
    "}\n",
    "\n",
    "\n",
    "def print_all():\n",
    "    \"\"\"\n",
    "    This functions prints entire dictionary when user inputs 'print'\n",
    "    \"\"\"\n",
    "    \n",
    "    for country in countryPopulation :\n",
    "        print(f'{country}==>{countryPopulation[country]}')\n",
    "\n",
    "        \n",
    "def add():\n",
    "    \"\"\"\n",
    "    This function adds new country and it's population to the database\n",
    "    If the country is not already present in the databse.\n",
    "    After adding it call the 'print_all' function to print the updated database\n",
    "    \"\"\"\n",
    "    country = input(\"Enter the country name to add:\").lower()\n",
    "    if country in countryPopulation:\n",
    "        print(f'{country} is already present in our database')\n",
    "        return\n",
    "    \n",
    "    else :\n",
    "        population = int(input(f\"Enter the population for {country}\"))\n",
    "        countryPopulation[country] = population\n",
    "        print(\"Updated country and population database:\")\n",
    "        print_all()\n",
    "    \n",
    "def remove():\n",
    "    \"\"\"\n",
    "    This function removes country and it's population data from the database.\n",
    "    And calls the 'print_all' function to print the updated database after removing the data\n",
    "    \"\"\"\n",
    "    \n",
    "    country = input(\"Enter the country name to remove:\").lower()\n",
    "    if country in countryPopulation :\n",
    "        del countryPopulation[country]\n",
    "        print(\"Updated country and population database:\")\n",
    "        print_all()\n",
    "        return\n",
    "    else:\n",
    "        print(f\"{country} does not exist in the database\")\n",
    "        \n",
    "def query():\n",
    "    \"\"\"\n",
    "    This function prints the population the country that the user wishes to know\n",
    "    \"\"\"\n",
    "    country = input(\"Enter the country name:\").lower()\n",
    "    \n",
    "    if country in countryPopulation :\n",
    "        print(f'Population of the {country} is : {countryPopulation[country]} cr')\n",
    "        return\n",
    "    else :\n",
    "        print(f'{country} does not exist in our database')\n",
    "              \n",
    "if __name__ == '__main__':\n",
    "              \n",
    "              operation = input(\"Enter the operation (add, remove, query, print):\").lower()\n",
    "              \n",
    "              if operation == 'add':\n",
    "                  add()\n",
    "              elif operation == 'remove':\n",
    "                  remove()\n",
    "              elif operation == 'query':\n",
    "                  query()\n",
    "              elif operation == 'print':\n",
    "                  print_all()\n",
    "              else :\n",
    "                  print(\"Entered operation is invalid!!!\\nEnter Valid operation.\")"
   ]
  },
  {
   "cell_type": "raw",
   "id": "19d6182c",
   "metadata": {},
   "source": [
    "You are given following list of stocks and their prices in last 3 days,\n",
    "\n",
    "Stock\tPrices\n",
    "info\t[600,630,620]\n",
    "ril\t    [1430,1490,1567]\n",
    "mtl  \t[234,180,160]\n",
    "\n",
    "Write a program that asks user for operation. Value of operations could be,\n",
    "    a.print: When user enters print it should print following,\n",
    "            info ==> [600, 630, 620] ==> avg:  616.67\n",
    "            ril ==> [1430, 1490, 1567] ==> avg:  1495.67\n",
    "            mtl ==> [234, 180, 160] ==> avg:  191.33\n",
    "     \n",
    "    b.add: When user enters 'add', it asks for stock ticker and price. If stock already exist in your list (like info, ril etc) then it will append the price to the list. Otherwise it will create new entry in your dictionary. For example entering 'tata' and 560 will add tata ==> [560] to the dictionary of stocks."
   ]
  },
  {
   "cell_type": "code",
   "execution_count": 32,
   "id": "2cfdaa47",
   "metadata": {},
   "outputs": [
    {
     "name": "stdout",
     "output_type": "stream",
     "text": [
      "Enter the operation [add or print]:add\n",
      "Enter the stock name:Tata Motors\n",
      "Enter the price of tata motors:860\n",
      "Updated database:\n",
      "info ==> [600, 630, 620] ==> avg:  616.67\n",
      "ril ==> [1430, 1490, 1567] ==> avg:  1495.67\n",
      "mtl ==> [234, 180, 160] ==> avg:  191.33\n",
      "tata motors ==> [860.0] ==> avg:  860.0\n"
     ]
    }
   ],
   "source": [
    "import statistics as stat\n",
    "\n",
    "\n",
    "stocksPrice = {\n",
    "    'info' : [600,630,620],\n",
    "    'ril' : [1430,1490,1567],\n",
    "    'mtl' : [234,180,160]\n",
    "}\n",
    "\n",
    "\n",
    "\n",
    "def print_all():\n",
    "    \n",
    "    \"\"\"\n",
    "    This functions prints all the stocks and their price for last 3 days.\n",
    "    And also it calculates the avg price of each stock and prints them too\n",
    "    \"\"\"\n",
    "    \n",
    "    for stock, price in stocksPrice.items() :\n",
    "        #price = stocksPrice[stock]\n",
    "        #total = 0\n",
    "        #for item in price:\n",
    "        #    total += item\n",
    "        avg = stat.mean(price) #mean function in statistics module computes the avg of the data given as input\n",
    "        print(f\"{stock} ==> {stocksPrice[stock]} ==> avg: \",round(avg,2))\n",
    "        \n",
    "        \n",
    "def add():\n",
    "    \n",
    "    \"\"\"\n",
    "    When user enters 'add', it asks for stock ticker and price.\n",
    "    If stock already exist in your list, then it will append the price to the list.\n",
    "    Otherwise it will create new entry in your dictionary.\n",
    "    \"\"\"\n",
    "    \n",
    "    stock = input(\"Enter the stock name:\").lower()\n",
    "    price = float(input(f\"Enter the price of {stock}:\"))\n",
    "    \n",
    "    #If stock is already  present, then the price list gets appended with the user entered price\n",
    "    if stock in stocksPrice:\n",
    "        stocksPrice[stock].append(price)\n",
    "    \n",
    "    #If the stock is not present, then creayes new 'key:value' pair in the dictionary\n",
    "    else:\n",
    "        stocksPrice[stock] = [price]\n",
    "    \n",
    "    print(\"Updated database:\")\n",
    "    print_all()\n",
    "    \n",
    "\n",
    "    \n",
    "    \n",
    "if __name__ == '__main__' :\n",
    "    \n",
    "    operation = input(\"Enter the operation [add or print]:\").lower()\n",
    "    \n",
    "    if operation == 'add':\n",
    "        add()\n",
    "        \n",
    "    elif operation == 'print':\n",
    "        print_all()\n",
    "        \n",
    "    else : \n",
    "        print(\"Entered operation is invalid!!\\n\")\n",
    "    \n"
   ]
  },
  {
   "cell_type": "raw",
   "id": "6a915d5b",
   "metadata": {},
   "source": [
    "Write circle_calc() function that takes radius of a circle as an input from user and then it calculates and returns area, circumference and diameter. You should get these values in your main program by calling circle_calc function and then print them"
   ]
  },
  {
   "cell_type": "code",
   "execution_count": 35,
   "id": "c6ae6eca",
   "metadata": {},
   "outputs": [
    {
     "name": "stdout",
     "output_type": "stream",
     "text": [
      "Enter the radius of the circle:5\n",
      "Area : 78.53981633974483\n",
      "Circumference : 31.41592653589793\n",
      "Diameter : 10.0\n"
     ]
    }
   ],
   "source": [
    "import math\n",
    "\n",
    "def circle_calc(radius):\n",
    "    \n",
    "    '''\n",
    "    This function takes radius of a circle as an input from user.\n",
    "    And then it calculates and returns area, circumference and diameter.\n",
    "    '''\n",
    "    \n",
    "    area = math.pi*(radius**2) #area of circle = pi(r)^2\n",
    "    circumference = 2*math.pi*radius #circumference of circle = 2pir\n",
    "    diameter = 2*radius #diameter of circle = 2r\n",
    "    \n",
    "    return (area, circumference, diameter)\n",
    "\n",
    "if __name__ == '__main__':\n",
    "    radius = float(input(\"Enter the radius of the circle:\"))\n",
    "    \n",
    "    area, circumference, diameter = circle_calc(radius)\n",
    "    \n",
    "    print(f'Area : {area}\\nCircumference : {circumference}\\nDiameter : {diameter}')"
   ]
  },
  {
   "cell_type": "code",
   "execution_count": null,
   "id": "822b66d3",
   "metadata": {},
   "outputs": [],
   "source": []
  }
 ],
 "metadata": {
  "kernelspec": {
   "display_name": "Python 3 (ipykernel)",
   "language": "python",
   "name": "python3"
  },
  "language_info": {
   "codemirror_mode": {
    "name": "ipython",
    "version": 3
   },
   "file_extension": ".py",
   "mimetype": "text/x-python",
   "name": "python",
   "nbconvert_exporter": "python",
   "pygments_lexer": "ipython3",
   "version": "3.11.5"
  }
 },
 "nbformat": 4,
 "nbformat_minor": 5
}
