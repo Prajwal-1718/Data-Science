{
 "cells": [
  {
   "cell_type": "markdown",
   "id": "cf908c76",
   "metadata": {},
   "source": [
    "# Exercise: Python Read Write File"
   ]
  },
  {
   "cell_type": "raw",
   "id": "a638b9b4",
   "metadata": {},
   "source": [
    "poem.txt contains famous poem \"Road not taken\" by poet Robert Frost. You have to read this file in your python program and find out words with maximum occurance."
   ]
  },
  {
   "cell_type": "code",
   "execution_count": 30,
   "id": "4c6d2ea3",
   "metadata": {},
   "outputs": [
    {
     "name": "stdout",
     "output_type": "stream",
     "text": [
      "Max count that any word has occured is 9\n",
      "Words with max occurances:\n",
      "I\n"
     ]
    }
   ],
   "source": [
    "wordsStat = {}\n",
    "\n",
    "\n",
    "#Opening a file in read mode with file_handle as 'f'\n",
    "with open('poem.txt','r') as f:\n",
    "    \n",
    "    #Taking each line in the text\n",
    "  for line in f:\n",
    "    #Lines are split into words as a list\n",
    "    words = line.split(' ')\n",
    "    \n",
    "    #Checking whether the word is already in the wordsStat, if present, then add 1 to it.\n",
    "    #Else new 'key:value' pair is created in the wordsStat\n",
    "    for word in words :\n",
    "        if word in wordsStat :\n",
    "            wordsStat[word] += 1\n",
    "        else :\n",
    "            wordsStat[word] = 1\n",
    "\n",
    "        \n",
    "#print(wordsStat)  \n",
    "\n",
    "#This is because the next line character present in the file which will not be considered as a word\n",
    "del wordsStat['\\n']\n",
    "\n",
    "\n",
    "#Getting only the counts of words in a separate list to find the max occurance\n",
    "wordOccurances = list(wordsStat.values())\n",
    "\n",
    "#Finding the max count\n",
    "maxCount = max(wordOccurances)\n",
    "\n",
    "print(f'Max count that any word has occured is {maxCount}')\n",
    "\n",
    "#Now we are finding the word which has occured max using maxCount\n",
    "print(\"Words with max occurances:\")\n",
    "for word, count in wordsStat.items():\n",
    "    if count == maxCount:\n",
    "        print(word)\n",
    "    \n"
   ]
  },
  {
   "cell_type": "raw",
   "id": "13c7e6cf",
   "metadata": {},
   "source": [
    "stocks.csv contains stock price, earnings per share and book value. You are writing a stock market application that will process this file and create a new file with financial metrics such as pe ratio and price to book ratio. These are calculated as,\n",
    "pe ratio = price / earnings per share\n",
    "price to book ratio = price / book value\n",
    "\n",
    "Your input format (stocks.csv) is,\n",
    "\n",
    "Company Name\tPrice\tEarnings Per Share\tBook Value\n",
    "Reliance\t    1467\t66\t                 653\n",
    "Tata Steel\t    391\t    89\t                 572\n",
    "\n",
    "Output.csv should look like this,\n",
    "\n",
    "Company Name\tPE Ratio\tPB Ratio\n",
    "Reliance\t    22.23\t     2.25\n",
    "Tata Steel\t    4.39\t     0.68"
   ]
  },
  {
   "cell_type": "code",
   "execution_count": 10,
   "id": "ec913a8d",
   "metadata": {},
   "outputs": [],
   "source": [
    "f = open(\"stocks.csv\",\"w\")\n",
    "f.write(\"Company Name,Price,Earnings Per Share, Book Value,\\n\")\n",
    "f.write(\"Reliance,1467,66,653,\\n\")\n",
    "f.write(\"Tata Steel,391,89,572,\\n\")\n",
    "f.write(\"Infosys,650,35,147,\\n\")\n",
    "f.write(\"Axis Bank,739,19,263,\\n\")\n",
    "f.write(\"Bajaj Finance,4044,69,341,\\n\")\n",
    "f.close()"
   ]
  },
  {
   "cell_type": "code",
   "execution_count": 17,
   "id": "23f2aa92",
   "metadata": {},
   "outputs": [
    {
     "name": "stdout",
     "output_type": "stream",
     "text": [
      "Company Name, PE Ratio, PB Ratio\n",
      "\n",
      "Reliance,22.23,2.25\n",
      "\n",
      "Tata Steel,4.39,0.68\n",
      "\n",
      "Infosys,18.57,4.42\n",
      "\n",
      "Axis Bank,38.89,2.81\n",
      "\n",
      "Bajaj Finance,58.61,11.86\n",
      "\n"
     ]
    }
   ],
   "source": [
    "with open(\"stocks.csv\",'r') as f, open(\"output.csv\",'w') as out:\n",
    "    out.write(\"Company Name, PE Ratio, PB Ratio\\n\")\n",
    "    print(\"Company Name, PE Ratio, PB Ratio\\n\") #Printing for ref\n",
    "    #To skip the first line in stocks.csv, cus it contains header in order:\n",
    "    #Company Name, Price, Earnings per share, Book value\n",
    "    next(f)\n",
    "    \n",
    "    for line in f:\n",
    "        details = line.split(',')\n",
    "        stock = details[0]\n",
    "        price = float(details[1])\n",
    "        earningPerShare = float(details[2])\n",
    "        bookValue = float(details[3])\n",
    "        \n",
    "        peRatio = round(price/earningPerShare,2)\n",
    "        pbRatio = round(price/bookValue,2)\n",
    "        \n",
    "        print(f'{stock},{peRatio},{pbRatio}\\n') #Printing for ref\n",
    "        out.write(f'{stock},{peRatio},{pbRatio}\\n')\n",
    "        \n",
    "    \n"
   ]
  },
  {
   "cell_type": "markdown",
   "id": "450313c8",
   "metadata": {},
   "source": [
    "# Exercise: Class and Objects"
   ]
  },
  {
   "cell_type": "raw",
   "id": "4eef41f9",
   "metadata": {},
   "source": [
    "1.Create a sample class named Employee with two attributes id and name\n",
    "employee :\n",
    "    id\n",
    "    name\n",
    "object initializes id and name dynamically for every Employee object created.\n",
    "emp = Employee(1, \"coder\")\n",
    "\n",
    "2.Use del property to first delete id attribute and then the entire object"
   ]
  },
  {
   "cell_type": "code",
   "execution_count": 23,
   "id": "e23cd179",
   "metadata": {},
   "outputs": [
    {
     "name": "stdout",
     "output_type": "stream",
     "text": [
      "Id : 25 \n",
      "Name : Prajwal\n",
      "emp1.id is not defined\n",
      "emp1 is not defined\n"
     ]
    }
   ],
   "source": [
    "class Employee:\n",
    "    \n",
    "    def __init__(self,id,name) :\n",
    "        self.id = id\n",
    "        self.name = name\n",
    "        \n",
    "    def display(self):\n",
    "        print(f'Id : {self.id} \\nName : {self.name}')\n",
    "              \n",
    "\n",
    "#1        \n",
    "#Creating the object of Employee class\n",
    "emp1 = Employee(25,'Prajwal')\n",
    "emp1.display()\n",
    "\n",
    "\n",
    "#2\n",
    "#Deleting the id attribute\n",
    "del emp1.id\n",
    "\n",
    "try:\n",
    "    print(emp1.id)\n",
    "except AttributeError:\n",
    "    print(\"emp1.id is not defined\")\n",
    "   \n",
    "#Deleting the class object\n",
    "del emp1\n",
    "\n",
    "try:\n",
    "    print(emp1.display())\n",
    "except NameError:\n",
    "    print(\"emp1 is not defined\")"
   ]
  },
  {
   "cell_type": "markdown",
   "id": "072f2f85",
   "metadata": {},
   "source": [
    "# Exercise: Inheritance"
   ]
  },
  {
   "cell_type": "raw",
   "id": "2812c851",
   "metadata": {},
   "source": [
    "1.create inheritance using animal Dog relation.\n",
    "for example, \n",
    "    Animal and Dog both has same habitat so create a method for habitat \n",
    "\n",
    "2.use super() constructor for calling parent constructor.\n",
    "class Animal:\n",
    "    #code\n",
    "\n",
    "class Dog(Animal):\n",
    "    super()-it refers Animal class,now you can call Animal's methods."
   ]
  },
  {
   "cell_type": "code",
   "execution_count": 24,
   "id": "ac337d81",
   "metadata": {},
   "outputs": [
    {
     "name": "stdout",
     "output_type": "stream",
     "text": [
      "Kennel\n",
      "Dogs bark!!\n"
     ]
    }
   ],
   "source": [
    "class Animal:\n",
    "    \n",
    "    def __init__(self,habitat):\n",
    "        self.habitat = habitat\n",
    "        \n",
    "    def printHabitat(self):\n",
    "        print(self.habitat)\n",
    "        \n",
    "    def sound(self):\n",
    "        print(\"Animals make different kinds of sound\")\n",
    "        \n",
    "class Dog(Animal):\n",
    "    \n",
    "    def __init__(self):\n",
    "        super().__init__(\"Kennel\")\n",
    "    \n",
    "    def sound(self):\n",
    "        print(\"Dogs bark!!\")\n",
    "        \n",
    "        \n",
    "d = Dog()\n",
    "d.printHabitat()\n",
    "d.sound()"
   ]
  },
  {
   "cell_type": "markdown",
   "id": "8634e09a",
   "metadata": {},
   "source": [
    "# Exercise: Multiple Inheritance"
   ]
  },
  {
   "cell_type": "raw",
   "id": "b2111f3b",
   "metadata": {},
   "source": [
    "1.Create multiple inheritance on teacher,student and youtuber.\n",
    "Q. if we have created teacher and now one student joins master degree with becoming teacher then what??\n",
    "Ans :  just make subclass from  teacher so that student will become teacher\n",
    "\n",
    "2.Now student is teacher as well as youtuber then what???\n",
    "-just use multiple inheritance for these three relations"
   ]
  },
  {
   "cell_type": "code",
   "execution_count": 25,
   "id": "25164193",
   "metadata": {},
   "outputs": [
    {
     "name": "stdout",
     "output_type": "stream",
     "text": [
      "I can teach!!\n",
      "I can code!!\n",
      "I can code and teach!!\n"
     ]
    }
   ],
   "source": [
    "class Teacher:\n",
    "    \n",
    "    def teacherAction(self):\n",
    "        print(\"I can teach!!\")\n",
    "\n",
    "class Engineer:\n",
    "    \n",
    "    def engineerAction(self):\n",
    "        print(\"I can code!!\")\n",
    "        \n",
    "class Youtuber:\n",
    "    \n",
    "    def youtuberAction(self):\n",
    "        print(\"I can code and teach!!\")\n",
    "        \n",
    "\n",
    "#Creating multiple inheritance        \n",
    "class Person(Teacher, Engineer, Youtuber):\n",
    "    pass\n",
    "\n",
    "\n",
    "student = Person()\n",
    "student.teacherAction()\n",
    "student.engineerAction()\n",
    "student.youtuberAction()"
   ]
  },
  {
   "cell_type": "markdown",
   "id": "8ba35ef0",
   "metadata": {},
   "source": [
    "# Exercise: Raise Exception And Finally"
   ]
  },
  {
   "cell_type": "raw",
   "id": "f2be31da",
   "metadata": {},
   "source": [
    "1.Create a custom exception AdultException.\n",
    "\n",
    "2.Create a class Person with attributes name and age in it.\n",
    "\n",
    "3.Create a function get_minor_age() in the class. It throws an exception if the person is adult otherwise returns age.\n",
    "\n",
    "4.Create a function display_person() which prints the age and name of a person.\n",
    "\n",
    "let us say,\n",
    "\n",
    "if age>18 \n",
    "    he is major\n",
    "else\n",
    "    raise exception\n",
    "\n",
    "create cusomException named ismajor and raise it if age<18."
   ]
  },
  {
   "cell_type": "code",
   "execution_count": 26,
   "id": "761fa740",
   "metadata": {},
   "outputs": [
    {
     "name": "stdout",
     "output_type": "stream",
     "text": [
      "Age : 15\n",
      "Name : Baby Thor\n",
      "Person is adult\n",
      "Name : Thor\n"
     ]
    }
   ],
   "source": [
    "\n",
    "#1.Create a custom exception AdultException.\n",
    "class AdultException(Exception):\n",
    "    pass\n",
    "\n",
    "#2.Create a class Person with attributes name and age in it.\n",
    "class Person:\n",
    "    \n",
    "    def __init__(self,name,age):\n",
    "        self.name = name\n",
    "        self.age = age\n",
    "        \n",
    "#3.Create a function get_minor_age() in the class. It throws an exception if the person is adult otherwise returns age.\n",
    "    def get_minor_age(self):\n",
    "        if int(self.age) >= 18:\n",
    "            raise AdultException\n",
    "        else :\n",
    "            return self.age\n",
    "        \n",
    "#4.Create a function display_person() which prints the age and name of a person.\n",
    "    def display_person(self):\n",
    "        try :\n",
    "            print(f'Age : {self.get_minor_age()}')\n",
    "        except AdultException:\n",
    "            print(\"Person is adult\")\n",
    "        finally :\n",
    "            print(f'Name : {self.name}')\n",
    "            \n",
    "            \n",
    "#No Exception\n",
    "P1 = Person('Baby Thor',15)\n",
    "P1.display_person()\n",
    "\n",
    "#Exception raised\n",
    "P2 = Person('Thor',28)\n",
    "P2.display_person()"
   ]
  },
  {
   "cell_type": "code",
   "execution_count": null,
   "id": "66da9384",
   "metadata": {},
   "outputs": [],
   "source": []
  }
 ],
 "metadata": {
  "kernelspec": {
   "display_name": "Python 3 (ipykernel)",
   "language": "python",
   "name": "python3"
  },
  "language_info": {
   "codemirror_mode": {
    "name": "ipython",
    "version": 3
   },
   "file_extension": ".py",
   "mimetype": "text/x-python",
   "name": "python",
   "nbconvert_exporter": "python",
   "pygments_lexer": "ipython3",
   "version": "3.11.5"
  }
 },
 "nbformat": 4,
 "nbformat_minor": 5
}
