{
 "cells": [
  {
   "cell_type": "markdown",
   "id": "343414fd",
   "metadata": {},
   "source": [
    " * Creating ndarray with different dimensions\n"
   ]
  },
  {
   "cell_type": "code",
   "execution_count": 1,
   "id": "1a07c0b7",
   "metadata": {},
   "outputs": [
    {
     "name": "stdout",
     "output_type": "stream",
     "text": [
      "0D array: 42\n",
      "\n",
      "1D array: [ 2  5 45 26]\n",
      "\n",
      "2D array: [[1 2 3 4]\n",
      " [5 6 7 8]]\n",
      "\n",
      "3D array: [[[ 1  2  3]\n",
      "  [ 4  5  6]]\n",
      "\n",
      " [[ 7  8  9]\n",
      "  [10 11 12]]]\n"
     ]
    }
   ],
   "source": [
    "import numpy as np\n",
    "\n",
    "#0D array\n",
    "array1 = np.array(42)\n",
    "\n",
    "#1D array\n",
    "array2 = np.array([2,5,45,26])\n",
    "\n",
    "#2D array\n",
    "array3 = np.array([[1,2,3,4],[5,6,7,8]])\n",
    "\n",
    "#3D array\n",
    "array4 = np.array([[[1, 2, 3], [4, 5, 6]], [[7, 8, 9], [10, 11, 12]]])\n",
    "\n",
    "print(\"0D array:\",array1)\n",
    "print(\"\\n1D array:\",array2)\n",
    "print(\"\\n2D array:\",array3)\n",
    "print(\"\\n3D array:\",array4)"
   ]
  },
  {
   "cell_type": "markdown",
   "id": "30e616c8",
   "metadata": {},
   "source": [
    "* 'ndim' attribute is used to check the dimension of the ndarray "
   ]
  },
  {
   "cell_type": "code",
   "execution_count": 2,
   "id": "67a3a57f",
   "metadata": {},
   "outputs": [
    {
     "name": "stdout",
     "output_type": "stream",
     "text": [
      "0\n",
      "1\n",
      "2\n",
      "3\n"
     ]
    }
   ],
   "source": [
    "print(array1.ndim)\n",
    "print(array2.ndim)\n",
    "print(array3.ndim)\n",
    "print(array4.ndim)"
   ]
  },
  {
   "cell_type": "markdown",
   "id": "5031d0a4",
   "metadata": {},
   "source": [
    "* To know the size of items store in the array we itemsize attribute."
   ]
  },
  {
   "cell_type": "code",
   "execution_count": 3,
   "id": "89cf39cb",
   "metadata": {},
   "outputs": [
    {
     "name": "stdout",
     "output_type": "stream",
     "text": [
      "4\n"
     ]
    }
   ],
   "source": [
    "print(array1.itemsize)"
   ]
  },
  {
   "cell_type": "markdown",
   "id": "2332dcb2",
   "metadata": {},
   "source": [
    "* To create an array with 0 filled in each place, we use zeros() method."
   ]
  },
  {
   "cell_type": "code",
   "execution_count": 4,
   "id": "e79063c8",
   "metadata": {},
   "outputs": [
    {
     "name": "stdout",
     "output_type": "stream",
     "text": [
      "[[0. 0. 0. 0. 0.]\n",
      " [0. 0. 0. 0. 0.]\n",
      " [0. 0. 0. 0. 0.]\n",
      " [0. 0. 0. 0. 0.]]\n",
      "\n",
      " [[1. 1. 1. 1. 1.]\n",
      " [1. 1. 1. 1. 1.]\n",
      " [1. 1. 1. 1. 1.]]\n"
     ]
    }
   ],
   "source": [
    "zeroArray = np.zeros((4,5)) #Inside the zeros() method, pass the shape of an array you want to create\n",
    "onesArray = np.ones((3,5)) #Inside the ones() method, pass the shape of an array you want to create\n",
    "print(zeroArray)\n",
    "print(\"\\n\",onesArray)"
   ]
  },
  {
   "cell_type": "markdown",
   "id": "31567f3c",
   "metadata": {},
   "source": [
    "* We use arange() function which give elements within that range\n",
    "* We use linspace() function to get linearly spaced elements"
   ]
  },
  {
   "cell_type": "code",
   "execution_count": 5,
   "id": "5f5d8b72",
   "metadata": {},
   "outputs": [
    {
     "name": "stdout",
     "output_type": "stream",
     "text": [
      "Arange array :  [0 1 2 3 4]\n",
      "\n",
      "Linpsapce array :  [ 0.   2.5  5.   7.5 10. ]\n"
     ]
    }
   ],
   "source": [
    "arrayArange = np.arange(0,5) #arange(start,stop,step)\n",
    "arrayLinspace = np.linspace(0,10,5) #linspace(start,stop,numberOfElements)\n",
    "\n",
    "print(\"Arange array : \",arrayArange)\n",
    "print(\"\\nLinpsapce array : \",arrayLinspace)"
   ]
  },
  {
   "cell_type": "markdown",
   "id": "d6b82ece",
   "metadata": {},
   "source": [
    "* Creating higher dimensional array using 'ndmin' attribute."
   ]
  },
  {
   "cell_type": "code",
   "execution_count": 6,
   "id": "1cdc6fec",
   "metadata": {},
   "outputs": [
    {
     "name": "stdout",
     "output_type": "stream",
     "text": [
      "Dimension of the array is : 7\n",
      "[[[[[[[1 2 3 4 5 6]]]]]]]\n"
     ]
    }
   ],
   "source": [
    "arr = np.array([1,2,3,4,5,6], ndmin=7)\n",
    "print(f\"Dimension of the array is : {arr.ndim}\")\n",
    "print(arr)"
   ]
  },
  {
   "cell_type": "markdown",
   "id": "90e94036",
   "metadata": {},
   "source": [
    "* Array Indexing to Access the elements"
   ]
  },
  {
   "cell_type": "code",
   "execution_count": 7,
   "id": "78e818f6",
   "metadata": {},
   "outputs": [
    {
     "name": "stdout",
     "output_type": "stream",
     "text": [
      "26\n",
      "7\n",
      "8\n",
      "45\n",
      "4\n",
      "12\n"
     ]
    }
   ],
   "source": [
    "#Accessing 1D array\n",
    "print(array2[3]) #Accessing 4th element in 1D array 'array2'\n",
    "\n",
    "#Accessing 2D array\n",
    "print(array3[1,2]) #Accessing 3rd element of 2nd array in 2D array 'array3'\n",
    "\n",
    "#Accessing 3D array\n",
    "print(array4[1,0,1]) #Accessing 2nd element of 1st array of 2nd array in 3D array 'array4'\n",
    "\n",
    "#Accessing elements ny negative indexing\n",
    "print(array2[-2]) #Accessing last 2nd element from array2\n",
    "print(array3[0,-1]) #Accessing last element of 1st array from array3\n",
    "print(array4[1,1,-1]) #Accessing last element of 2nd array of 2nd array\n"
   ]
  },
  {
   "cell_type": "markdown",
   "id": "4eee26f3",
   "metadata": {},
   "source": [
    "* Slicing"
   ]
  },
  {
   "cell_type": "code",
   "execution_count": 8,
   "id": "561f13aa",
   "metadata": {},
   "outputs": [
    {
     "name": "stdout",
     "output_type": "stream",
     "text": [
      "[ 2  5 45]\n",
      "[6 7]\n",
      "[2 6]\n",
      "[[ 2  5]\n",
      " [ 8 11]]\n"
     ]
    }
   ],
   "source": [
    "print(array2[0:3]) #Slicing array2 from index 0 till index 3(not included)\n",
    "print(array3[1, 1:3]) #Slicing array3 from index 1 till index 3(not included) of 2nd array \n",
    "print(array3[0:2, 1]) #Getting 2nd element of both 1st and 2nd array from array3 \n",
    "print(array4[0:,0:,1]) #Getting 2nd element of all the arrays of all dimension from array4. Returns 2D arraay"
   ]
  },
  {
   "cell_type": "markdown",
   "id": "726430b5",
   "metadata": {},
   "source": [
    "* Data Types"
   ]
  },
  {
   "cell_type": "code",
   "execution_count": 9,
   "id": "66fbaaee",
   "metadata": {},
   "outputs": [
    {
     "name": "stdout",
     "output_type": "stream",
     "text": [
      "int32\n",
      "<U6\n"
     ]
    }
   ],
   "source": [
    "arrint = np.array([1, 2, 3, 4])\n",
    "arrstr = np.array(['apple', 'banana', 'cherry']) #Unicode string [U]\n",
    "print(arrint.dtype)\n",
    "print(arrstr.dtype)"
   ]
  },
  {
   "cell_type": "markdown",
   "id": "ab39904e",
   "metadata": {},
   "source": [
    "* Creating arrays with different data types"
   ]
  },
  {
   "cell_type": "code",
   "execution_count": 10,
   "id": "36b33a42",
   "metadata": {},
   "outputs": [
    {
     "name": "stdout",
     "output_type": "stream",
     "text": [
      "|S1\n",
      "float64\n"
     ]
    }
   ],
   "source": [
    "#Creating an ndarray of string data type\n",
    "arraytype = np.array([1,2,3], dtype='S')\n",
    "\n",
    "#Creating an ndarray of float data type of size 64\n",
    "arraytype1 = np.array([3,4,8,5], dtype = np.float64)\n",
    "\n",
    "print(arraytype.dtype)\n",
    "print(arraytype1.dtype)"
   ]
  },
  {
   "cell_type": "markdown",
   "id": "b3e6ff5f",
   "metadata": {},
   "source": [
    "* To know the size of an array i.e., the no. of elements in an array, we use size attribute."
   ]
  },
  {
   "cell_type": "code",
   "execution_count": 11,
   "id": "76eb9fab",
   "metadata": {},
   "outputs": [
    {
     "name": "stdout",
     "output_type": "stream",
     "text": [
      "Array size of arraytype :  3\n",
      "\n",
      "Array size of arraytype1 :  4\n"
     ]
    }
   ],
   "source": [
    "print(\"Array size of arraytype : \",arraytype.size)\n",
    "print(\"\\nArray size of arraytype1 : \",arraytype1.size)"
   ]
  },
  {
   "cell_type": "markdown",
   "id": "895ff7d2",
   "metadata": {},
   "source": [
    "* Converting the data type of an array using 'astype()'"
   ]
  },
  {
   "cell_type": "code",
   "execution_count": 12,
   "id": "9ddaffb9",
   "metadata": {},
   "outputs": [
    {
     "name": "stdout",
     "output_type": "stream",
     "text": [
      "[1 2 3]\n",
      "int32\n",
      "[b'1.1' b'2.1' b'3.1']\n",
      "|S32\n",
      "[ True False  True]\n",
      "bool\n"
     ]
    }
   ],
   "source": [
    "arr1 = np.array([1.1, 2.1, 3.1])\n",
    "arr2 = np.array([1.1, 2.1, 3.1])\n",
    "arr3 = np.array([1, 0, 3])\n",
    "\n",
    "newarr1 = arr1.astype('i') #Converting the float into integer by using 'i' as parameter\n",
    "newarr2 = arr2.astype('S') #Converting the float into string \n",
    "newarr3 = arr3.astype(bool) #Converting the integer into boolean type\n",
    "\n",
    "print(newarr1)\n",
    "print(newarr1.dtype)\n",
    "print(newarr2)\n",
    "print(newarr2.dtype)\n",
    "print(newarr3)\n",
    "print(newarr3.dtype)"
   ]
  },
  {
   "cell_type": "markdown",
   "id": "2617421b",
   "metadata": {},
   "source": [
    "* NumPy copy() vs view()\n",
    "\n",
    "copy() - owns the data and no connection between original and copy\n",
    "\n",
    "view() - doesn't owns the data and any change in either of the array it'll affect the other\n",
    "\n",
    "base - If it returns the base array, then that array does not owns the data.\n",
    "       If it returns 'none', then that array owns the data."
   ]
  },
  {
   "cell_type": "code",
   "execution_count": 13,
   "id": "95ffbae7",
   "metadata": {},
   "outputs": [
    {
     "name": "stdout",
     "output_type": "stream",
     "text": [
      "After modifiying the view and copy arrays\n",
      "Original Array: [1 8 3 4 5 6]\n",
      "View Array: [1 8 3 4 5 6]\n",
      "Copy Array: [1 7 3 4 5 6]\n",
      "\n",
      "After modifiying the original array\n",
      "Original Array: [1 8 3 4 5 9]\n",
      "View Array: [1 8 3 4 5 9]\n",
      "Copy Array: [1 7 3 4 5 6]\n",
      "\n",
      "[1 8 3 4 5 9]\n",
      "None\n"
     ]
    }
   ],
   "source": [
    "arrayExample = np.array([1,2,3,4,5,6])\n",
    "\n",
    "arrayView = arrayExample.view() #Creating view of an array\n",
    "arrayCopy = arrayExample.copy() #Creating copy of an array\n",
    "\n",
    "arrayView[1] = 8 #Changing the value in view array\n",
    "arrayCopy[1] = 7 #Changing the value in copy array\n",
    "\n",
    "print(f'After modifiying the view and copy arrays\\nOriginal Array: {arrayExample}\\nView Array: {arrayView}\\nCopy Array: {arrayCopy}\\n')\n",
    "\n",
    "arrayExample[-1] = 9\n",
    "print(f'After modifiying the original array\\nOriginal Array: {arrayExample}\\nView Array: {arrayView}\\nCopy Array: {arrayCopy}\\n')\n",
    "\n",
    "#To check if the array owns the data or not\n",
    "print(arrayView.base)\n",
    "print(arrayCopy.base)"
   ]
  },
  {
   "cell_type": "markdown",
   "id": "d925a855",
   "metadata": {},
   "source": [
    "* Shape of an array : Gives you the number of elements in each dimension  ('shape')"
   ]
  },
  {
   "cell_type": "code",
   "execution_count": 14,
   "id": "5ab280f8",
   "metadata": {},
   "outputs": [
    {
     "name": "stdout",
     "output_type": "stream",
     "text": [
      "()\n",
      "(4,)\n",
      "(2, 4)\n",
      "(2, 2, 3)\n"
     ]
    }
   ],
   "source": [
    "print(array1.shape) #0D array\n",
    "print(array2.shape) #1D array\n",
    "print(array3.shape) #2D array\n",
    "print(array4.shape) #3D array"
   ]
  },
  {
   "cell_type": "markdown",
   "id": "ba9425c0",
   "metadata": {},
   "source": [
    "* Reshaping Array using 'reshape()' method\n",
    "\n",
    "\n",
    "\n"
   ]
  },
  {
   "cell_type": "code",
   "execution_count": 15,
   "id": "366ccdfb",
   "metadata": {},
   "outputs": [
    {
     "name": "stdout",
     "output_type": "stream",
     "text": [
      "Reshaped array from 1D to 2D:\n",
      " [[1 2]\n",
      " [3 4]\n",
      " [5 6]\n",
      " [7 8]]\n",
      "\n",
      "Reshaped array from 1D to 3D:\n",
      " [[[1 2]\n",
      "  [3 4]]\n",
      "\n",
      " [[5 6]\n",
      "  [7 8]]]\n",
      "\n",
      " [1 2 3 4 5 6 7 8]\n",
      "\n",
      "Reshapped array by passing one of the dimension as unknown: \n",
      "[[[1]\n",
      "  [2]]\n",
      "\n",
      " [[3]\n",
      "  [4]]\n",
      "\n",
      " [[5]\n",
      "  [6]]\n",
      "\n",
      " [[7]\n",
      "  [8]]]\n",
      "And the dimension after reshaping is : \n",
      "(4, 2, 1)\n",
      "\n",
      "Flattening array3D:\n",
      " [1 2 3 4 5 6 7 8]\n"
     ]
    }
   ],
   "source": [
    "arrayForReshape = np.array([1,2,3,4,5,6,7,8])\n",
    "\n",
    "#Changing 1D to 2D\n",
    "array2D = arrayForReshape.reshape(4,2)\n",
    "print(\"Reshaped array from 1D to 2D:\\n\",array2D)\n",
    "\n",
    "#Changing 1D to 3D\n",
    "array3D = arrayForReshape.reshape(2,2,2)\n",
    "print(\"\\nReshaped array from 1D to 3D:\\n\",array3D)\n",
    "\n",
    "#When you don't store the reshaped array into new variable, then it returns as view of the original array\n",
    "print(\"\\n\",arrayForReshape.reshape(2,4).base)\n",
    "\n",
    "#Reshaping an array by passing one of the dimension as unkown by passing it as '-1'\n",
    "arrayUnknown = arrayForReshape.reshape(4,2,-1)\n",
    "print(f\"\\nReshapped array by passing one of the dimension as unknown: \\n{arrayUnknown}\\nAnd the dimension after reshaping is : \\n{arrayUnknown.shape}\")\n",
    "\n",
    "#Flattening an array\n",
    "arrayFlattening = array3D.reshape(-1)\n",
    "print(\"\\nFlattening array3D:\\n\",arrayFlattening)"
   ]
  },
  {
   "cell_type": "markdown",
   "id": "c6ebb2e5",
   "metadata": {},
   "source": [
    "* Iterating through arrays using nditer()"
   ]
  },
  {
   "cell_type": "code",
   "execution_count": 16,
   "id": "67601df4",
   "metadata": {},
   "outputs": [
    {
     "name": "stdout",
     "output_type": "stream",
     "text": [
      "1\n",
      "2\n",
      "3\n",
      "4\n",
      "5\n",
      "6\n",
      "7\n",
      "8\n"
     ]
    }
   ],
   "source": [
    "for scalar in np.nditer(array3D) :\n",
    "    print(scalar)"
   ]
  },
  {
   "cell_type": "markdown",
   "id": "eeff167f",
   "metadata": {},
   "source": [
    "* Iterating Array With Different Data Types"
   ]
  },
  {
   "cell_type": "code",
   "execution_count": 17,
   "id": "c3a5f28d",
   "metadata": {},
   "outputs": [
    {
     "name": "stdout",
     "output_type": "stream",
     "text": [
      "b'1'\n",
      "b'2'\n",
      "b'3'\n",
      "b'4'\n",
      "b'5'\n",
      "b'6'\n",
      "b'7'\n",
      "b'8'\n"
     ]
    }
   ],
   "source": [
    "for scalar in np.nditer(arrayUnknown, op_dtypes = 'S', flags=['buffered']) :\n",
    "    print(scalar)"
   ]
  },
  {
   "cell_type": "code",
   "execution_count": 18,
   "id": "2f35b5f1",
   "metadata": {},
   "outputs": [
    {
     "name": "stdout",
     "output_type": "stream",
     "text": [
      "(0, 0, 0) 1\n",
      "(0, 0, 1) 2\n",
      "(0, 1, 0) 3\n",
      "(0, 1, 1) 4\n",
      "(1, 0, 0) 5\n",
      "(1, 0, 1) 6\n",
      "(1, 1, 0) 7\n",
      "(1, 1, 1) 8\n"
     ]
    }
   ],
   "source": [
    "for index, scalar in np.ndenumerate(array3D) :\n",
    "    print(index, scalar)"
   ]
  },
  {
   "cell_type": "markdown",
   "id": "d6d8026c",
   "metadata": {},
   "source": [
    "* Join arrays using concatenate()\n"
   ]
  },
  {
   "cell_type": "code",
   "execution_count": 19,
   "id": "828109c7",
   "metadata": {},
   "outputs": [
    {
     "name": "stdout",
     "output_type": "stream",
     "text": [
      "[1 2 3 4 5 6]\n"
     ]
    }
   ],
   "source": [
    "arr1 = np.array([1,2,3])\n",
    "arr2 = np.array([4,5,6])\n",
    "\n",
    "arrayJoin = np.concatenate((arr1, arr2))\n",
    "\n",
    "print(arrayJoin)"
   ]
  },
  {
   "cell_type": "markdown",
   "id": "f9f35ec5",
   "metadata": {},
   "source": [
    "* Join two 2-D arrays along rows (axis=1):"
   ]
  },
  {
   "cell_type": "code",
   "execution_count": 20,
   "id": "891c9b41",
   "metadata": {},
   "outputs": [
    {
     "name": "stdout",
     "output_type": "stream",
     "text": [
      "Join with axis :\n",
      "[[1 2 3 5 6 7]\n",
      " [4 5 6 7 8 9]]\n",
      "\n",
      "Join without axis:\n",
      "[[1 2 3]\n",
      " [4 5 6]\n",
      " [5 6 7]\n",
      " [7 8 9]]\n"
     ]
    }
   ],
   "source": [
    "arr3 = np.array([[1,2,3],[4,5,6]])\n",
    "arr4 = np.array([[5,6,7],[7,8,9]])\n",
    "\n",
    "#Joining the array along the rows by passing axis = 1.\n",
    "arrJoinWithAxis = np.concatenate((arr3,arr4), axis=1)\n",
    "\n",
    "#Joining the array along the rows without axis\n",
    "arrJoinWithoutAxis = np.concatenate((arr3,arr4))\n",
    "\n",
    "print(f'Join with axis :\\n{arrJoinWithAxis}\\n\\nJoin without axis:\\n{arrJoinWithoutAxis}')"
   ]
  },
  {
   "cell_type": "markdown",
   "id": "32672c8a",
   "metadata": {},
   "source": [
    "* Stacking the arrays using stack()"
   ]
  },
  {
   "cell_type": "code",
   "execution_count": 21,
   "id": "9ff94a07",
   "metadata": {},
   "outputs": [
    {
     "name": "stdout",
     "output_type": "stream",
     "text": [
      "Join with axis :\n",
      "[[1 4]\n",
      " [2 5]\n",
      " [3 6]]\n",
      "\n",
      "Join without axis:\n",
      "[[1 2 3]\n",
      " [4 5 6]]\n"
     ]
    }
   ],
   "source": [
    "arr1 = np.array([1,2,3])\n",
    "arr2 = np.array([4,5,6])\n",
    "\n",
    "arrayStackWithAxis = np.stack((arr1, arr2),axis=1)\n",
    "arrayStackWithoutAxis = np.stack((arr1, arr2))\n",
    "\n",
    "print(f'Join with axis :\\n{arrayStackWithAxis}\\n\\nJoin without axis:\\n{arrayStackWithoutAxis}')"
   ]
  },
  {
   "cell_type": "markdown",
   "id": "ec01c04b",
   "metadata": {},
   "source": [
    "* hstack() : to stack along rows\n",
    "* vstack() : to stack along columns\n",
    "* dstack() : to stack along depth or height"
   ]
  },
  {
   "cell_type": "code",
   "execution_count": 22,
   "id": "3b5543df",
   "metadata": {},
   "outputs": [
    {
     "name": "stdout",
     "output_type": "stream",
     "text": [
      "Stacking along ROWS:\n",
      "[1 2 3 4 5 6]\n",
      "\n",
      "Stacking along COLUMNS:\n",
      "[[1 2 3]\n",
      " [4 5 6]]\n",
      "\n",
      "Stacking along the DEPTH:\n",
      "[[[1 4]\n",
      "  [2 5]\n",
      "  [3 6]]]\n"
     ]
    }
   ],
   "source": [
    "arr1 = np.array([1,2,3])\n",
    "arr2 = np.array([4,5,6])\n",
    "\n",
    "arrayRowStack = np.hstack((arr1,arr2))\n",
    "arrayColumnStack = np.vstack((arr1,arr2))\n",
    "arrayDepthStack = np.dstack((arr1,arr2))\n",
    "\n",
    "print(f'Stacking along ROWS:\\n{arrayRowStack}\\n\\nStacking along COLUMNS:\\n{arrayColumnStack}\\n\\nStacking along the DEPTH:\\n{arrayDepthStack}')"
   ]
  },
  {
   "cell_type": "markdown",
   "id": "44d04f8c",
   "metadata": {},
   "source": [
    "* NumPy Splitting Array"
   ]
  },
  {
   "cell_type": "code",
   "execution_count": 23,
   "id": "10e2f0d7",
   "metadata": {},
   "outputs": [
    {
     "name": "stdout",
     "output_type": "stream",
     "text": [
      "[array([1, 2]), array([3, 4]), array([5, 6])]\n"
     ]
    }
   ],
   "source": [
    "arraySplit = np.array_split(arrayRowStack,3)\n",
    "\n",
    "print(arraySplit)"
   ]
  },
  {
   "cell_type": "code",
   "execution_count": 24,
   "id": "57d85214",
   "metadata": {},
   "outputs": [
    {
     "name": "stdout",
     "output_type": "stream",
     "text": [
      "[array([1, 2]), array([3])]\n"
     ]
    }
   ],
   "source": [
    "arraySplit1 = np.array_split(arr1, 2)\n",
    "\n",
    "#When the elements is less than required\n",
    "print(arraySplit1)"
   ]
  },
  {
   "cell_type": "code",
   "execution_count": 25,
   "id": "cb6b46a1",
   "metadata": {},
   "outputs": [
    {
     "name": "stdout",
     "output_type": "stream",
     "text": [
      "[3]\n"
     ]
    }
   ],
   "source": [
    "print(arraySplit1[1])"
   ]
  },
  {
   "cell_type": "code",
   "execution_count": 26,
   "id": "2e99893b",
   "metadata": {},
   "outputs": [
    {
     "name": "stdout",
     "output_type": "stream",
     "text": [
      "[array([[ 1],\n",
      "       [ 4],\n",
      "       [ 7],\n",
      "       [10],\n",
      "       [13],\n",
      "       [16]]), array([[ 2],\n",
      "       [ 5],\n",
      "       [ 8],\n",
      "       [11],\n",
      "       [14],\n",
      "       [17]]), array([[ 3],\n",
      "       [ 6],\n",
      "       [ 9],\n",
      "       [12],\n",
      "       [15],\n",
      "       [18]])]\n"
     ]
    }
   ],
   "source": [
    "arr = np.array([[1, 2, 3], [4, 5, 6], [7, 8, 9], [10, 11, 12], [13, 14, 15], [16, 17, 18]])\n",
    "\n",
    "newarr = np.array_split(arr, 3, axis=1)\n",
    "\n",
    "print(newarr)"
   ]
  },
  {
   "cell_type": "markdown",
   "id": "f9075958",
   "metadata": {},
   "source": [
    "* NumPy Array Searching using where()"
   ]
  },
  {
   "cell_type": "code",
   "execution_count": 69,
   "id": "65d52ef8",
   "metadata": {},
   "outputs": [
    {
     "name": "stdout",
     "output_type": "stream",
     "text": [
      "(array([3, 5, 6], dtype=int64),)\n"
     ]
    }
   ],
   "source": [
    "arr = np.array([1, 2, 3, 4, 5, 4, 4])\n",
    "\n",
    "x = np.where(arr == 4)\n",
    "\n",
    "#If yoou pass the below command, it will give you the first apperance of the specified element\n",
    "#x = np.where(arr == 4)[0][0]\n",
    "#[0][1]   -  Second appearance\n",
    "#[0][n]   -  nth appearance\n",
    "\n",
    "print(x)"
   ]
  },
  {
   "cell_type": "markdown",
   "id": "72ce0a20",
   "metadata": {},
   "source": [
    "* Finding the index values of even numbers in an array"
   ]
  },
  {
   "cell_type": "code",
   "execution_count": 28,
   "id": "53845ce4",
   "metadata": {},
   "outputs": [
    {
     "name": "stdout",
     "output_type": "stream",
     "text": [
      "Even Number's Index values : (array([ 1,  4,  5,  6,  8,  9, 10, 11], dtype=int64),)\n",
      "Odd Number's Index values : (array([0, 2, 3, 7], dtype=int64),)\n"
     ]
    }
   ],
   "source": [
    "arr = np.array([1,2,5,3,4,6,8,15,26,28,10,50])\n",
    "\n",
    "evenNumberIndex = np.where(arr%2 == 0)\n",
    "oddNumberIndex = np.where(arr%2 != 0) # or np.where(arr%2 ==1)\n",
    "\n",
    "print(f'Even Number\\'s Index values : {evenNumberIndex}\\nOdd Number\\'s Index values : {oddNumberIndex}')"
   ]
  },
  {
   "cell_type": "markdown",
   "id": "b1a1333c",
   "metadata": {},
   "source": [
    "* Seach Sorted using searchsorted() : Which gives the index position where the specifed value would be inserted to maintain the search order"
   ]
  },
  {
   "cell_type": "code",
   "execution_count": 29,
   "id": "edaee05b",
   "metadata": {},
   "outputs": [
    {
     "name": "stdout",
     "output_type": "stream",
     "text": [
      "4\n"
     ]
    }
   ],
   "source": [
    "arr = np.array([0,1,2,3,5,7,9])\n",
    "\n",
    "indexValue = np.searchsorted(arr, 4)\n",
    "\n",
    "print(indexValue)"
   ]
  },
  {
   "cell_type": "code",
   "execution_count": 30,
   "id": "6892c448",
   "metadata": {},
   "outputs": [
    {
     "name": "stdout",
     "output_type": "stream",
     "text": [
      "4\n"
     ]
    }
   ],
   "source": [
    "indexValueFromRight = np.searchsorted(arr, 4, side='right')\n",
    "\n",
    "print(indexValueFromRight)"
   ]
  },
  {
   "cell_type": "code",
   "execution_count": 31,
   "id": "6491d900",
   "metadata": {},
   "outputs": [
    {
     "name": "stdout",
     "output_type": "stream",
     "text": [
      "[4 5 6]\n"
     ]
    }
   ],
   "source": [
    "indexForMultipleVlaues = np.searchsorted(arr, [4,6,8])\n",
    "\n",
    "print(indexForMultipleVlaues)"
   ]
  },
  {
   "cell_type": "markdown",
   "id": "b57545c8",
   "metadata": {},
   "source": [
    "* Sorting an array using sort()"
   ]
  },
  {
   "cell_type": "code",
   "execution_count": 32,
   "id": "7a9d2ec9",
   "metadata": {},
   "outputs": [
    {
     "name": "stdout",
     "output_type": "stream",
     "text": [
      "Sorted array : [0 2 3 4 5 8 9]\n"
     ]
    }
   ],
   "source": [
    "randomArray = np.array([5,9,3,4,8,0,2])\n",
    "\n",
    "sortedArray = np.sort(randomArray)\n",
    "\n",
    "print(f'Sorted array : {sortedArray}')"
   ]
  },
  {
   "cell_type": "code",
   "execution_count": 33,
   "id": "1173998c",
   "metadata": {},
   "outputs": [
    {
     "name": "stdout",
     "output_type": "stream",
     "text": [
      "['apple' 'banana' 'cherry']\n"
     ]
    }
   ],
   "source": [
    "arr = np.array(['banana', 'cherry', 'apple'])\n",
    "\n",
    "print(np.sort(arr))"
   ]
  },
  {
   "cell_type": "code",
   "execution_count": 34,
   "id": "2dfa4a7f",
   "metadata": {},
   "outputs": [
    {
     "name": "stdout",
     "output_type": "stream",
     "text": [
      "[False  True  True]\n"
     ]
    }
   ],
   "source": [
    "\n",
    "arr = np.array([True, False, True])\n",
    "\n",
    "print(np.sort(arr))"
   ]
  },
  {
   "cell_type": "markdown",
   "id": "39d8498e",
   "metadata": {},
   "source": [
    "Filtering Arrays : \n",
    "\n",
    "Getting some elements out of an existing array and creating a new array out of them is called filtering.\n",
    "\n",
    "In NumPy, you filter an array using a boolean index list.\n",
    "\n",
    "A boolean index list is a list of booleans corresponding to indexes in the array."
   ]
  },
  {
   "cell_type": "code",
   "execution_count": 35,
   "id": "cacaa1ad",
   "metadata": {},
   "outputs": [
    {
     "name": "stdout",
     "output_type": "stream",
     "text": [
      "Filtered array is : [51 25 54]\n"
     ]
    }
   ],
   "source": [
    "arr = np.array([51,25,17,54,20,90])\n",
    "\n",
    "indexValues = [True, True, False, True, False, False]\n",
    "\n",
    "newArray = arr[indexValues]\n",
    "\n",
    "print(f'Filtered array is : {newArray}')"
   ]
  },
  {
   "cell_type": "markdown",
   "id": "f1a726ad",
   "metadata": {},
   "source": [
    "* The above one is hard coded. Now we filter using condition based approach for the above array itself\n"
   ]
  },
  {
   "cell_type": "code",
   "execution_count": 36,
   "id": "4f040536",
   "metadata": {},
   "outputs": [
    {
     "name": "stdout",
     "output_type": "stream",
     "text": [
      "Index where the values are below 20:\n",
      "[False, True, True, False, True, False]\n",
      "\n",
      "The values which are below 20 are : \n",
      "[25 17 20]\n"
     ]
    }
   ],
   "source": [
    "# this code will return the values which are below 50\n",
    "\n",
    "#Creating an empty list to store the TRUE or FALSE values\n",
    "indexValue1 = []\n",
    "\n",
    "#To iter through the array\n",
    "for value in np.nditer(arr):\n",
    "    \n",
    "    if value<50 :\n",
    "        indexValue1.append(True)\n",
    "        \n",
    "    else :\n",
    "        indexValue1.append(False)\n",
    "        \n",
    "print(f'Index where the values are below 20:\\n{indexValue1}\\n')\n",
    "\n",
    "newArray1 = arr[indexValue1]\n",
    "\n",
    "print(f'The values which are below 20 are : \\n{newArray1}')"
   ]
  },
  {
   "cell_type": "markdown",
   "id": "ef7db09f",
   "metadata": {},
   "source": [
    "* Creating Filter Directly From Array\n"
   ]
  },
  {
   "cell_type": "code",
   "execution_count": 42,
   "id": "d9396ca7",
   "metadata": {},
   "outputs": [
    {
     "name": "stdout",
     "output_type": "stream",
     "text": [
      "[51 54 90]\n"
     ]
    }
   ],
   "source": [
    "#Below code returns the values which >=50\n",
    "\n",
    "filterArrayIndex = arr >= 50\n",
    "\n",
    "filterArray = arr[filterArrayIndex]\n",
    "\n",
    "print(filterArray)"
   ]
  },
  {
   "cell_type": "markdown",
   "id": "0932d6cf",
   "metadata": {},
   "source": [
    "* Replace the elements in arr whose value is > 50 with 100"
   ]
  },
  {
   "cell_type": "code",
   "execution_count": 48,
   "id": "c801a246",
   "metadata": {},
   "outputs": [
    {
     "name": "stdout",
     "output_type": "stream",
     "text": [
      "[100  25  17 100  20 100]\n"
     ]
    }
   ],
   "source": [
    "arr[arr>50] = 100\n",
    "print(arr)"
   ]
  },
  {
   "cell_type": "markdown",
   "id": "0b7a9f42",
   "metadata": {},
   "source": [
    "* min() : gives the minimum value of entire array\n",
    "* max() : gives the maximum value of entire array\n",
    "* sum() : gives the addition value of entire array\n",
    "* sqrt() : gives the square root each element of entire array\n",
    "* std() : gives the standard deviation of entire array"
   ]
  },
  {
   "cell_type": "code",
   "execution_count": 40,
   "id": "ceae9760",
   "metadata": {},
   "outputs": [
    {
     "name": "stdout",
     "output_type": "stream",
     "text": [
      "Minimum value :  1\n",
      "Maximum value :  36\n",
      "Sum :  91\n",
      "Sum along rows:  [ 5 25 61]\n",
      "Sum along columns :  [35 56]\n",
      "Square root : \n",
      " [[1. 2.]\n",
      " [3. 4.]\n",
      " [5. 6.]]\n",
      "Standar Deviation :  12.212243401148248\n"
     ]
    }
   ],
   "source": [
    "arrayExample = np.array([[1,4],[9,16],[25,36]])\n",
    "\n",
    "print(\"Minimum value : \",arrayExample.min())\n",
    "print(\"Maximum value : \",arrayExample.max())\n",
    "print(\"Sum : \",arrayExample.sum()) #Sum of entire array\n",
    "print(\"Sum along rows: \",arrayExample.sum(axis=1)) #By passign axis as 0 means it is column\n",
    "print(\"Sum along columns : \",arrayExample.sum(axis=0)) #By passing axis as 1 means it is rows\n",
    "print(\"Square root : \\n\",np.sqrt(arrayExample))\n",
    "print(\"Standar Deviation : \",np.std(arrayExample))"
   ]
  },
  {
   "cell_type": "code",
   "execution_count": 49,
   "id": "a5600d98",
   "metadata": {},
   "outputs": [
    {
     "name": "stdout",
     "output_type": "stream",
     "text": [
      "Original array:\n",
      " [[ 1  4]\n",
      " [ 9 16]\n",
      " [25 36]]\n",
      "\n",
      "Items in C order:\n",
      "\n",
      "1\n",
      "4\n",
      "9\n",
      "16\n",
      "25\n",
      "36\n",
      "\n",
      "Items in F order:\n",
      "\n",
      "1\n",
      "9\n",
      "25\n",
      "4\n",
      "16\n",
      "36\n"
     ]
    }
   ],
   "source": [
    "print(\"Original array:\\n\",arrayExample)\n",
    "\n",
    "print(\"\\nItems in C order:\\n\")\n",
    "for item in np.nditer(arrayExample, order='C'): #C order - iter through rows\n",
    "    print(item)\n",
    "    \n",
    "print(\"\\nItems in F order:\\n\")\n",
    "for item in np.nditer(arrayExample, order='F'): #F order - iter through column\n",
    "    print(item)\n",
    "    "
   ]
  },
  {
   "cell_type": "code",
   "execution_count": 52,
   "id": "979a346b",
   "metadata": {},
   "outputs": [
    {
     "name": "stdout",
     "output_type": "stream",
     "text": [
      "[[ 1  4]\n",
      " [25 36]]\n"
     ]
    }
   ],
   "source": [
    "print(arrayExample[::2,:]) #From start take every other row and all elements from selected array"
   ]
  },
  {
   "cell_type": "code",
   "execution_count": 71,
   "id": "f9f86dd2",
   "metadata": {},
   "outputs": [
    {
     "name": "stdout",
     "output_type": "stream",
     "text": [
      "H\n"
     ]
    }
   ],
   "source": [
    "x = \"Hello\"[0]\n",
    "print(x)\n"
   ]
  },
  {
   "cell_type": "code",
   "execution_count": null,
   "id": "ee36fd12",
   "metadata": {},
   "outputs": [],
   "source": []
  }
 ],
 "metadata": {
  "kernelspec": {
   "display_name": "Python 3 (ipykernel)",
   "language": "python",
   "name": "python3"
  },
  "language_info": {
   "codemirror_mode": {
    "name": "ipython",
    "version": 3
   },
   "file_extension": ".py",
   "mimetype": "text/x-python",
   "name": "python",
   "nbconvert_exporter": "python",
   "pygments_lexer": "ipython3",
   "version": "3.11.5"
  }
 },
 "nbformat": 4,
 "nbformat_minor": 5
}
