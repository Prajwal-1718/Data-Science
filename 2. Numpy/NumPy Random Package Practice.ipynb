{
 "cells": [
  {
   "cell_type": "markdown",
   "id": "38771566",
   "metadata": {},
   "source": [
    "# NumPy Random Module"
   ]
  },
  {
   "cell_type": "code",
   "execution_count": 1,
   "id": "7e58c1d3",
   "metadata": {},
   "outputs": [],
   "source": [
    "import numpy as np\n",
    "from numpy import random as r"
   ]
  },
  {
   "cell_type": "markdown",
   "id": "fdf9c5f4",
   "metadata": {},
   "source": [
    "## Generate random numbers\n"
   ]
  },
  {
   "cell_type": "markdown",
   "id": "bfc61caf",
   "metadata": {},
   "source": [
    "* randint(low, <high=None>, <size=None>, <dtype=int>)  -  Generates random integers between low and high.\n",
    "* rand(shape)  -  Generate random float values between 0 & 1 in the specifed shape. \n",
    "* using randint() which takes size as parameter, we can generate random array of desired shape and size.\n",
    "* choice()    -    Takes array as parameter and returns one random value out of the array values. Can also take size as parameter and based on that it returns array of values.\n",
    "\n"
   ]
  },
  {
   "cell_type": "code",
   "execution_count": 2,
   "id": "c688919c",
   "metadata": {},
   "outputs": [
    {
     "name": "stdout",
     "output_type": "stream",
     "text": [
      "[ 8 15 13  4 23 16  8  8 11 13  8 16  6 18 14  4  5  2  8 21] \n",
      "\n",
      "[[[0.40645318 0.34032863 0.84699263]\n",
      "  [0.50021258 0.35130513 0.32219884]]\n",
      "\n",
      " [[0.27670197 0.13909366 0.2534512 ]\n",
      "  [0.2910537  0.55434587 0.6466693 ]]\n",
      "\n",
      " [[0.9934135  0.12871262 0.61938645]\n",
      "  [0.03972335 0.41667784 0.7265027 ]]] \n",
      "\n",
      "[[23 14 13]\n",
      " [11 11  8]\n",
      " [ 8 13  5]\n",
      " [11 16  8]] \n",
      "\n"
     ]
    }
   ],
   "source": [
    "#Generating random array of intergers from 0 to 25 of size = 20\n",
    "intArray = r.randint(0,25,size=20)\n",
    "print(intArray,\"\\n\")\n",
    "\n",
    "#Generating random array of float values of shape 3x2x3\n",
    "floatArray = r.rand(3,2,3)\n",
    "print(floatArray,\"\\n\")\n",
    "\n",
    "#Generating random array out of intArray f shape 4x3\n",
    "choiceArray = r.choice(intArray,size=(4,3))\n",
    "print(choiceArray,\"\\n\")"
   ]
  },
  {
   "cell_type": "markdown",
   "id": "c86ddf69",
   "metadata": {},
   "source": [
    "## Random Data Distribution"
   ]
  },
  {
   "cell_type": "markdown",
   "id": "e723e25c",
   "metadata": {},
   "source": [
    "Generate a 2-D array containing 30 values of shape 5x6, where each value has to be 3, 5, 7 or 9.\n",
    "\n",
    "* The probability for the value to be 3 is set to be 0.1\n",
    "\n",
    "* The probability for the value to be 5 is set to be 0.3\n",
    "\n",
    "* The probability for the value to be 7 is set to be 0.6\n",
    "\n",
    "* The probability for the value to be 9 is set to be 0"
   ]
  },
  {
   "cell_type": "code",
   "execution_count": 3,
   "id": "1b53ae7f",
   "metadata": {},
   "outputs": [
    {
     "name": "stdout",
     "output_type": "stream",
     "text": [
      "[[7 7 5 7 7 5]\n",
      " [7 7 7 5 7 7]\n",
      " [7 7 3 7 7 7]\n",
      " [7 7 7 7 7 7]\n",
      " [7 5 5 3 7 7]]\n"
     ]
    }
   ],
   "source": [
    "#Probability priority order : 7 -> 5 -> 3 -> 9\n",
    "#9 will never occur since it's probability of occurance is 0.\n",
    "sampleArray = r.choice([3,5,7,9],p=[0.1,0.3,0.6,0],size=(5,6))\n",
    "print(sampleArray)"
   ]
  },
  {
   "cell_type": "markdown",
   "id": "38fce7c5",
   "metadata": {},
   "source": [
    "## Random Permutation"
   ]
  },
  {
   "cell_type": "markdown",
   "id": "f2f4eca0",
   "metadata": {},
   "source": [
    "Permutation - Arrangement of elements in different ways\n",
    "\n",
    "* shuffle() : re-arranges the original array\n",
    "* permutation() : returns the re-arranged array and leaves the original array un-touched"
   ]
  },
  {
   "cell_type": "code",
   "execution_count": 7,
   "id": "c4064500",
   "metadata": {},
   "outputs": [
    {
     "name": "stdout",
     "output_type": "stream",
     "text": [
      "Original Array :\n",
      "[1 3 4 6 2 8]\n",
      "\n",
      "Original Array after permutation method is applied:\n",
      "[1 3 4 6 2 8]\n",
      "\n",
      "Array after permutation method is applied:\n",
      "[8 3 1 6 4 2]\n",
      "\n",
      "Original Array after shuffle method is applied:\n",
      "[1 3 2 6 8 4]\n",
      "\n"
     ]
    }
   ],
   "source": [
    "arr1 = np.array([1,3,4,6,2,8])\n",
    "\n",
    "print(f'Original Array :\\n{arr1}\\n')\n",
    "\n",
    "#permutation method\n",
    "arr2 = r.permutation(arr1)\n",
    "\n",
    "print(f'Original Array after permutation method is applied:\\n{arr1}\\n')\n",
    "print(f'Array after permutation method is applied:\\n{arr2}\\n')\n",
    "\n",
    "#shuffle method\n",
    "r.shuffle(arr1)\n",
    "\n",
    "print(f'Original Array after shuffle method is applied:\\n{arr1}\\n')"
   ]
  },
  {
   "cell_type": "code",
   "execution_count": null,
   "id": "8bc7c529",
   "metadata": {},
   "outputs": [],
   "source": []
  }
 ],
 "metadata": {
  "kernelspec": {
   "display_name": "Python 3 (ipykernel)",
   "language": "python",
   "name": "python3"
  },
  "language_info": {
   "codemirror_mode": {
    "name": "ipython",
    "version": 3
   },
   "file_extension": ".py",
   "mimetype": "text/x-python",
   "name": "python",
   "nbconvert_exporter": "python",
   "pygments_lexer": "ipython3",
   "version": "3.11.5"
  }
 },
 "nbformat": 4,
 "nbformat_minor": 5
}
