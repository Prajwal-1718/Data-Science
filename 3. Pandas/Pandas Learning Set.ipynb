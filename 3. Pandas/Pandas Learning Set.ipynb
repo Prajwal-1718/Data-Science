{
 "cells": [
  {
   "cell_type": "markdown",
   "id": "bbc15a23",
   "metadata": {},
   "source": [
    "# PANDAS"
   ]
  },
  {
   "cell_type": "markdown",
   "id": "7b167a3b",
   "metadata": {},
   "source": [
    "## Pandas Series"
   ]
  },
  {
   "cell_type": "code",
   "execution_count": 1,
   "id": "b93c3f67",
   "metadata": {},
   "outputs": [],
   "source": [
    "import pandas as pd"
   ]
  },
  {
   "cell_type": "markdown",
   "id": "caf79bd5",
   "metadata": {},
   "source": [
    "* Series(array/dict,index = [ labels ]) - Column in table which holds a 1-D array of data of anytype.\n",
    "* The above method takes index as parameter which create labels for the data passed as array inside the Series().\n",
    "* Array or Dictionary can be passed.\n",
    "* Keys of dict becomes labels for values"
   ]
  },
  {
   "cell_type": "code",
   "execution_count": 2,
   "id": "a0b1375c",
   "metadata": {},
   "outputs": [
    {
     "name": "stdout",
     "output_type": "stream",
     "text": [
      "n    17\n",
      "p    25\n",
      "j    18\n",
      "r    28\n",
      "o     5\n",
      "dtype: int64 \n",
      "\n",
      "ni    17\n",
      "pr    25\n",
      "jy    18\n",
      "ra    28\n",
      "on     5\n",
      "dtype: int64 \n",
      "\n",
      "ni    17\n",
      "pr    25\n",
      "dtype: int64 \n",
      "\n"
     ]
    }
   ],
   "source": [
    "arr1 = [17, 25, 18, 28, 5] # 1D array or LIST\n",
    "dict1 = {\"ni\":17, \"pr\":25, \"jy\":18, \"ra\":28, \"on\":5} # Dictionary\n",
    "\n",
    "#Creating a series by passing the arr1 as input with labels ['n','p','j','r','o'] respectively for the values.\n",
    "series1 = pd.Series(arr1,index=['n','p','j','r','o'])\n",
    "print(series1,\"\\n\")\n",
    "\n",
    "#Creating a series by passing dict1 as input\n",
    "series2 = pd.Series(dict1)\n",
    "print(series2,\"\\n\")\n",
    "\n",
    "#Creating a series by passing dict1 as input and using \"ni\" and \"pr\"\n",
    "series3 = pd.Series(dict1, index=[\"ni\",\"pr\"])\n",
    "print(series3,\"\\n\")"
   ]
  },
  {
   "cell_type": "markdown",
   "id": "fcd39f1e",
   "metadata": {},
   "source": [
    "## DataFrames"
   ]
  },
  {
   "cell_type": "markdown",
   "id": "ad763e34",
   "metadata": {},
   "source": [
    "* DataFrame(data) - used to load the data into dataframe object\n",
    "* You can use index for naming the index value\n",
    "* loc[] - used to get the row(s) from the dataframe."
   ]
  },
  {
   "cell_type": "code",
   "execution_count": 3,
   "id": "d23d6624",
   "metadata": {},
   "outputs": [
    {
     "name": "stdout",
     "output_type": "stream",
     "text": [
      "The DataFrame :\n",
      "      calories  duration\n",
      "day1       420        50\n",
      "day2       460        55\n",
      "day3       480        60\n",
      "\n",
      "Data as of DAY1:\n",
      "calories    420\n",
      "duration     50\n",
      "Name: day1, dtype: int64\n",
      "\n",
      "Data as of DAY2 and DAY3:\n",
      "      calories  duration\n",
      "day2       460        55\n",
      "day3       480        60\n"
     ]
    }
   ],
   "source": [
    "data = {\"calories\" : [420,460,480],\n",
    "        \"duration\" : [50,55,60]}\n",
    "\n",
    "#Load data into DataFrame object\n",
    "df1 = pd.DataFrame(data,index=[\"day1\",\"day2\",\"day3\"])\n",
    "\n",
    "print(f'The DataFrame :\\n{df1}\\n')\n",
    "\n",
    "#Printing the \"day1\" separatley \n",
    "print(f'Data as of DAY1:\\n{df1.loc[\"day1\"]}\\n')\n",
    "\n",
    "#Printing  \"day2\",\"day3\" separatley\n",
    "print(f'Data as of DAY2 and DAY3:\\n{df1.loc[[\"day2\",\"day3\"]]}')\n",
    "\n",
    "\n"
   ]
  },
  {
   "cell_type": "markdown",
   "id": "f9f54eba",
   "metadata": {},
   "source": [
    "### Loading CSV files"
   ]
  },
  {
   "cell_type": "markdown",
   "id": "e4db135e",
   "metadata": {},
   "source": [
    "* read_csv('file.csv')   -   This will read and load the csv file into dataframe object.\n",
    "* to_string()   -    Using this, we can print the entire DataFrame.\n",
    "* options.display.max_rows    -   used to check and change how many rows that system can display."
   ]
  },
  {
   "cell_type": "code",
   "execution_count": 4,
   "id": "1f9797fb",
   "metadata": {},
   "outputs": [
    {
     "name": "stdout",
     "output_type": "stream",
     "text": [
      "60\n"
     ]
    }
   ],
   "source": [
    "print(pd.options.display.max_rows)"
   ]
  },
  {
   "cell_type": "code",
   "execution_count": 5,
   "id": "4b9c0695",
   "metadata": {},
   "outputs": [
    {
     "name": "stdout",
     "output_type": "stream",
     "text": [
      "     Duration  Pulse  Maxpulse  Calories\n",
      "0          60    110       130     409.1\n",
      "1          60    117       145     479.0\n",
      "2          60    103       135     340.0\n",
      "3          45    109       175     282.4\n",
      "4          45    117       148     406.0\n",
      "..        ...    ...       ...       ...\n",
      "164        60    105       140     290.8\n",
      "165        60    110       145     300.0\n",
      "166        60    115       145     310.2\n",
      "167        75    120       150     320.4\n",
      "168        75    125       150     330.4\n",
      "\n",
      "[169 rows x 4 columns]\n",
      "     Duration  Pulse  Maxpulse  Calories\n",
      "0          60    110       130     409.1\n",
      "1          60    117       145     479.0\n",
      "2          60    103       135     340.0\n",
      "3          45    109       175     282.4\n",
      "4          45    117       148     406.0\n",
      "5          60    102       127     300.0\n",
      "6          60    110       136     374.0\n",
      "7          45    104       134     253.3\n",
      "8          30    109       133     195.1\n",
      "9          60     98       124     269.0\n",
      "10         60    103       147     329.3\n",
      "11         60    100       120     250.7\n",
      "12         60    106       128     345.3\n",
      "13         60    104       132     379.3\n",
      "14         60     98       123     275.0\n",
      "15         60     98       120     215.2\n",
      "16         60    100       120     300.0\n",
      "17         45     90       112       NaN\n",
      "18         60    103       123     323.0\n",
      "19         45     97       125     243.0\n",
      "20         60    108       131     364.2\n",
      "21         45    100       119     282.0\n",
      "22         60    130       101     300.0\n",
      "23         45    105       132     246.0\n",
      "24         60    102       126     334.5\n",
      "25         60    100       120     250.0\n",
      "26         60     92       118     241.0\n",
      "27         60    103       132       NaN\n",
      "28         60    100       132     280.0\n",
      "29         60    102       129     380.3\n",
      "30         60     92       115     243.0\n",
      "31         45     90       112     180.1\n",
      "32         60    101       124     299.0\n",
      "33         60     93       113     223.0\n",
      "34         60    107       136     361.0\n",
      "35         60    114       140     415.0\n",
      "36         60    102       127     300.0\n",
      "37         60    100       120     300.0\n",
      "38         60    100       120     300.0\n",
      "39         45    104       129     266.0\n",
      "40         45     90       112     180.1\n",
      "41         60     98       126     286.0\n",
      "42         60    100       122     329.4\n",
      "43         60    111       138     400.0\n",
      "44         60    111       131     397.0\n",
      "45         60     99       119     273.0\n",
      "46         60    109       153     387.6\n",
      "47         45    111       136     300.0\n",
      "48         45    108       129     298.0\n",
      "49         60    111       139     397.6\n",
      "50         60    107       136     380.2\n",
      "51         80    123       146     643.1\n",
      "52         60    106       130     263.0\n",
      "53         60    118       151     486.0\n",
      "54         30    136       175     238.0\n",
      "55         60    121       146     450.7\n",
      "56         60    118       121     413.0\n",
      "57         45    115       144     305.0\n",
      "58         20    153       172     226.4\n",
      "59         45    123       152     321.0\n",
      "60        210    108       160    1376.0\n",
      "61        160    110       137    1034.4\n",
      "62        160    109       135     853.0\n",
      "63         45    118       141     341.0\n",
      "64         20    110       130     131.4\n",
      "65        180     90       130     800.4\n",
      "66        150    105       135     873.4\n",
      "67        150    107       130     816.0\n",
      "68         20    106       136     110.4\n",
      "69        300    108       143    1500.2\n",
      "70        150     97       129    1115.0\n",
      "71         60    109       153     387.6\n",
      "72         90    100       127     700.0\n",
      "73        150     97       127     953.2\n",
      "74         45    114       146     304.0\n",
      "75         90     98       125     563.2\n",
      "76         45    105       134     251.0\n",
      "77         45    110       141     300.0\n",
      "78        120    100       130     500.4\n",
      "79        270    100       131    1729.0\n",
      "80         30    159       182     319.2\n",
      "81         45    149       169     344.0\n",
      "82         30    103       139     151.1\n",
      "83        120    100       130     500.0\n",
      "84         45    100       120     225.3\n",
      "85         30    151       170     300.0\n",
      "86         45    102       136     234.0\n",
      "87        120    100       157    1000.1\n",
      "88         45    129       103     242.0\n",
      "89         20     83       107      50.3\n",
      "90        180    101       127     600.1\n",
      "91         45    107       137       NaN\n",
      "92         30     90       107     105.3\n",
      "93         15     80       100      50.5\n",
      "94         20    150       171     127.4\n",
      "95         20    151       168     229.4\n",
      "96         30     95       128     128.2\n",
      "97         25    152       168     244.2\n",
      "98         30    109       131     188.2\n",
      "99         90     93       124     604.1\n",
      "100        20     95       112      77.7\n",
      "101        90     90       110     500.0\n",
      "102        90     90       100     500.0\n",
      "103        90     90       100     500.4\n",
      "104        30     92       108      92.7\n",
      "105        30     93       128     124.0\n",
      "106       180     90       120     800.3\n",
      "107        30     90       120      86.2\n",
      "108        90     90       120     500.3\n",
      "109       210    137       184    1860.4\n",
      "110        60    102       124     325.2\n",
      "111        45    107       124     275.0\n",
      "112        15    124       139     124.2\n",
      "113        45    100       120     225.3\n",
      "114        60    108       131     367.6\n",
      "115        60    108       151     351.7\n",
      "116        60    116       141     443.0\n",
      "117        60     97       122     277.4\n",
      "118        60    105       125       NaN\n",
      "119        60    103       124     332.7\n",
      "120        30    112       137     193.9\n",
      "121        45    100       120     100.7\n",
      "122        60    119       169     336.7\n",
      "123        60    107       127     344.9\n",
      "124        60    111       151     368.5\n",
      "125        60     98       122     271.0\n",
      "126        60     97       124     275.3\n",
      "127        60    109       127     382.0\n",
      "128        90     99       125     466.4\n",
      "129        60    114       151     384.0\n",
      "130        60    104       134     342.5\n",
      "131        60    107       138     357.5\n",
      "132        60    103       133     335.0\n",
      "133        60    106       132     327.5\n",
      "134        60    103       136     339.0\n",
      "135        20    136       156     189.0\n",
      "136        45    117       143     317.7\n",
      "137        45    115       137     318.0\n",
      "138        45    113       138     308.0\n",
      "139        20    141       162     222.4\n",
      "140        60    108       135     390.0\n",
      "141        60     97       127       NaN\n",
      "142        45    100       120     250.4\n",
      "143        45    122       149     335.4\n",
      "144        60    136       170     470.2\n",
      "145        45    106       126     270.8\n",
      "146        60    107       136     400.0\n",
      "147        60    112       146     361.9\n",
      "148        30    103       127     185.0\n",
      "149        60    110       150     409.4\n",
      "150        60    106       134     343.0\n",
      "151        60    109       129     353.2\n",
      "152        60    109       138     374.0\n",
      "153        30    150       167     275.8\n",
      "154        60    105       128     328.0\n",
      "155        60    111       151     368.5\n",
      "156        60     97       131     270.4\n",
      "157        60    100       120     270.4\n",
      "158        60    114       150     382.8\n",
      "159        30     80       120     240.9\n",
      "160        30     85       120     250.4\n",
      "161        45     90       130     260.4\n",
      "162        45     95       130     270.0\n",
      "163        45    100       140     280.9\n",
      "164        60    105       140     290.8\n",
      "165        60    110       145     300.0\n",
      "166        60    115       145     310.2\n",
      "167        75    120       150     320.4\n",
      "168        75    125       150     330.4\n"
     ]
    }
   ],
   "source": [
    "csvfile1 = pd.read_csv('Files\\\\Practice\\\\data.csv')\n",
    "\n",
    "#prints headers and first 5 and last 5 rows if it is more than 60 rows\n",
    "print(csvfile1)\n",
    "\n",
    "#Printing the entire row using to_string() method\n",
    "print(csvfile1.to_string())"
   ]
  },
  {
   "cell_type": "markdown",
   "id": "dd3d0c09",
   "metadata": {},
   "source": [
    "### Loading JSON files"
   ]
  },
  {
   "cell_type": "markdown",
   "id": "450163ee",
   "metadata": {},
   "source": [
    "* read_json(file)  -   used to load the json file into dataframe\n",
    "* Rest all remains same like CSV file\n"
   ]
  },
  {
   "cell_type": "raw",
   "id": "27c5d311",
   "metadata": {},
   "source": [
    "#It won't work since there are no files in local memory of .json type\n",
    "jsonfile1 = pd.read_json(\"data.json\")\n",
    "\n",
    "print(jsonfile1)"
   ]
  },
  {
   "cell_type": "markdown",
   "id": "f63854d6",
   "metadata": {},
   "source": [
    "## Analyzing DataFrame"
   ]
  },
  {
   "cell_type": "markdown",
   "id": "4249d302",
   "metadata": {},
   "source": [
    "* head(value) - method used to get the header and specified number of rows from the top of DataFrame\n",
    "* tail(value) - method used to get the header and specified number of rows from the bottom of DataFrame\n",
    "* If value is not specified then it'll return top 5 rows for both accordingly. [head - top, tail - bottom]\n",
    "* info() - method used to get more information regarding the dataset"
   ]
  },
  {
   "cell_type": "code",
   "execution_count": 6,
   "id": "8acc3dbc",
   "metadata": {},
   "outputs": [
    {
     "name": "stdout",
     "output_type": "stream",
     "text": [
      "   Duration  Pulse  Maxpulse  Calories\n",
      "0        60    110       130     409.1\n",
      "1        60    117       145     479.0\n",
      "2        60    103       135     340.0\n",
      "3        45    109       175     282.4\n",
      "4        45    117       148     406.0\n",
      "5        60    102       127     300.0\n",
      "6        60    110       136     374.0\n",
      "7        45    104       134     253.3\n",
      "8        30    109       133     195.1\n",
      "9        60     98       124     269.0\n",
      "\n",
      "\n",
      "     Duration  Pulse  Maxpulse  Calories\n",
      "149        60    110       150     409.4\n",
      "150        60    106       134     343.0\n",
      "151        60    109       129     353.2\n",
      "152        60    109       138     374.0\n",
      "153        30    150       167     275.8\n",
      "154        60    105       128     328.0\n",
      "155        60    111       151     368.5\n",
      "156        60     97       131     270.4\n",
      "157        60    100       120     270.4\n",
      "158        60    114       150     382.8\n",
      "159        30     80       120     240.9\n",
      "160        30     85       120     250.4\n",
      "161        45     90       130     260.4\n",
      "162        45     95       130     270.0\n",
      "163        45    100       140     280.9\n",
      "164        60    105       140     290.8\n",
      "165        60    110       145     300.0\n",
      "166        60    115       145     310.2\n",
      "167        75    120       150     320.4\n",
      "168        75    125       150     330.4\n"
     ]
    }
   ],
   "source": [
    "# Printing the header and top 10 rows from the dataset\n",
    "print(csvfile1.head(10))\n",
    "\n",
    "print('\\n')\n",
    "\n",
    "# Printing the header and bottom 20 rows from the dataset\n",
    "print(csvfile1.tail(20))"
   ]
  },
  {
   "cell_type": "markdown",
   "id": "911120e8",
   "metadata": {},
   "source": [
    "## Cleaning Data"
   ]
  },
  {
   "cell_type": "markdown",
   "id": "44359087",
   "metadata": {},
   "source": [
    "* Fixing the bad data in the dataset\n",
    "* Bad data : \n",
    "    * Empty Cells\n",
    "    * Data in wrong format\n",
    "    * Wrong Data\n",
    "    * Duplicates"
   ]
  },
  {
   "cell_type": "markdown",
   "id": "280dd3f9",
   "metadata": {},
   "source": [
    "### 1.Empty Cells\n"
   ]
  },
  {
   "cell_type": "markdown",
   "id": "b4456d32",
   "metadata": {},
   "source": [
    "   * Removing the rows that contain empty cells\n",
    "   * dropna()  -  method removes the rows that contains NULL values and returns new DataFrame by keeping the original DataFrame unchanged\n",
    "   * To make changes to original DataFrame, pass ' inplace = True ' argument within dropna()."
   ]
  },
  {
   "cell_type": "code",
   "execution_count": 7,
   "id": "0b2a359e",
   "metadata": {},
   "outputs": [
    {
     "name": "stdout",
     "output_type": "stream",
     "text": [
      "     Duration  Pulse  Maxpulse  Calories\n",
      "0          60    110       130     409.1\n",
      "1          60    117       145     479.0\n",
      "2          60    103       135     340.0\n",
      "3          45    109       175     282.4\n",
      "4          45    117       148     406.0\n",
      "..        ...    ...       ...       ...\n",
      "164        60    105       140     290.8\n",
      "165        60    110       145     300.0\n",
      "166        60    115       145     310.2\n",
      "167        75    120       150     320.4\n",
      "168        75    125       150     330.4\n",
      "\n",
      "[164 rows x 4 columns]\n",
      "     Duration  Pulse  Maxpulse  Calories\n",
      "0          60    110       130     409.1\n",
      "1          60    117       145     479.0\n",
      "2          60    103       135     340.0\n",
      "3          45    109       175     282.4\n",
      "4          45    117       148     406.0\n",
      "..        ...    ...       ...       ...\n",
      "164        60    105       140     290.8\n",
      "165        60    110       145     300.0\n",
      "166        60    115       145     310.2\n",
      "167        75    120       150     320.4\n",
      "168        75    125       150     330.4\n",
      "\n",
      "[169 rows x 4 columns]\n",
      "     Duration  Pulse  Maxpulse  Calories\n",
      "0          60    110       130     409.1\n",
      "1          60    117       145     479.0\n",
      "2          60    103       135     340.0\n",
      "3          45    109       175     282.4\n",
      "4          45    117       148     406.0\n",
      "..        ...    ...       ...       ...\n",
      "164        60    105       140     290.8\n",
      "165        60    110       145     300.0\n",
      "166        60    115       145     310.2\n",
      "167        75    120       150     320.4\n",
      "168        75    125       150     330.4\n",
      "\n",
      "[164 rows x 4 columns]\n"
     ]
    }
   ],
   "source": [
    "#dropna() returns the new DataFrame.\n",
    "newDF = csvfile1.dropna()\n",
    "print(newDF)\n",
    "\n",
    "#Printing original DataFrame\n",
    "print(csvfile1)\n",
    "\n",
    "#To make changes to original DataFrame pass inplace = 'True' argument\n",
    "csvfile1.dropna(inplace = True)\n",
    "print(csvfile1)\n",
    "\n",
    "\n",
    "#You can able to see that 5 rows have been reduced"
   ]
  },
  {
   "cell_type": "markdown",
   "id": "44b0bb3e",
   "metadata": {},
   "source": [
    "* Replace the empty values\n",
    "* fillna() - method is used to replace all the empty cells with a value passed\n",
    "* returns new DataFrame by keeping the original DataFrame unchanged. To make changes to original DataFrame, pass ' inplace = True ' argument within"
   ]
  },
  {
   "cell_type": "code",
   "execution_count": 8,
   "id": "9238d244",
   "metadata": {},
   "outputs": [
    {
     "name": "stdout",
     "output_type": "stream",
     "text": [
      "     Duration  Pulse  Maxpulse  Calories\n",
      "0          60    110       130     409.1\n",
      "1          60    117       145     479.0\n",
      "2          60    103       135     340.0\n",
      "3          45    109       175     282.4\n",
      "4          45    117       148     406.0\n",
      "..        ...    ...       ...       ...\n",
      "164        60    105       140     290.8\n",
      "165        60    110       145     300.0\n",
      "166        60    115       145     310.2\n",
      "167        75    120       150     320.4\n",
      "168        75    125       150     330.4\n",
      "\n",
      "[169 rows x 4 columns]\n"
     ]
    }
   ],
   "source": [
    "csvfile2 = pd.read_csv('Files\\\\Practice\\\\data.csv')\n",
    "\n",
    "#Replacing all the empty cells with 130 into the original DataFrame\n",
    "csvfile2.fillna(130, inplace=True)\n",
    "print(csvfile2)"
   ]
  },
  {
   "cell_type": "markdown",
   "id": "871b770c",
   "metadata": {},
   "source": [
    "* Replace only for specified columns\n"
   ]
  },
  {
   "cell_type": "code",
   "execution_count": 9,
   "id": "7d1e02a5",
   "metadata": {},
   "outputs": [
    {
     "name": "stdout",
     "output_type": "stream",
     "text": [
      "     Duration  Pulse  Maxpulse  Calories\n",
      "0          60    110       130     409.1\n",
      "1          60    117       145     479.0\n",
      "2          60    103       135     340.0\n",
      "3          45    109       175     282.4\n",
      "4          45    117       148     406.0\n",
      "..        ...    ...       ...       ...\n",
      "164        60    105       140     290.8\n",
      "165        60    110       145     300.0\n",
      "166        60    115       145     310.2\n",
      "167        75    120       150     320.4\n",
      "168        75    125       150     330.4\n",
      "\n",
      "[169 rows x 4 columns]\n"
     ]
    }
   ],
   "source": [
    "csvfile3 = pd.read_csv('Files\\\\Practice\\\\data.csv')\n",
    "\n",
    "#Replacing the empty cells for \"Calories\" column with value 130 into the original DataFrame\n",
    "csvfile3[\"Calories\"].fillna(130,inplace=True)\n",
    "\n",
    "print(csvfile3)"
   ]
  },
  {
   "cell_type": "markdown",
   "id": "2f32c23c",
   "metadata": {},
   "source": [
    "* Replace the empty cells with mean, median or mode value of that specified column.\n",
    "    * mean() - Gives the avg value\n",
    "    * median() - Middle value after sorting the values in ascending order.\n",
    "    * mode() - Most frequently occured value."
   ]
  },
  {
   "cell_type": "code",
   "execution_count": 12,
   "id": "cdd5058a",
   "metadata": {},
   "outputs": [
    {
     "name": "stdout",
     "output_type": "stream",
     "text": [
      "Mean Value is : 375.79024390243904\n",
      "Replaced DataFrame : \n",
      "     Duration  Pulse  Maxpulse  Calories\n",
      "0          60    110       130     409.1\n",
      "1          60    117       145     479.0\n",
      "2          60    103       135     340.0\n",
      "3          45    109       175     282.4\n",
      "4          45    117       148     406.0\n",
      "..        ...    ...       ...       ...\n",
      "164        60    105       140     290.8\n",
      "165        60    110       145     300.0\n",
      "166        60    115       145     310.2\n",
      "167        75    120       150     320.4\n",
      "168        75    125       150     330.4\n",
      "\n",
      "[169 rows x 4 columns]\n",
      "\n",
      "Median Value is : 318.6\n",
      "Replaced DataFrame : \n",
      "     Duration  Pulse  Maxpulse  Calories\n",
      "0          60    110       130     409.1\n",
      "1          60    117       145     479.0\n",
      "2          60    103       135     340.0\n",
      "3          45    109       175     282.4\n",
      "4          45    117       148     406.0\n",
      "..        ...    ...       ...       ...\n",
      "164        60    105       140     290.8\n",
      "165        60    110       145     300.0\n",
      "166        60    115       145     310.2\n",
      "167        75    120       150     320.4\n",
      "168        75    125       150     330.4\n",
      "\n",
      "[169 rows x 4 columns]\n",
      "\n",
      "Mode Value is : 0    300.0\n",
      "Name: Calories, dtype: float64\n",
      "Replaced DataFrame : \n",
      "     Duration  Pulse  Maxpulse  Calories\n",
      "0          60    110       130     409.1\n",
      "1          60    117       145     479.0\n",
      "2          60    103       135     340.0\n",
      "3          45    109       175     282.4\n",
      "4          45    117       148     406.0\n",
      "..        ...    ...       ...       ...\n",
      "164        60    105       140     290.8\n",
      "165        60    110       145     300.0\n",
      "166        60    115       145     310.2\n",
      "167        75    120       150     320.4\n",
      "168        75    125       150     330.4\n",
      "\n",
      "[169 rows x 4 columns]\n",
      "\n"
     ]
    }
   ],
   "source": [
    "#Replacing with mean value for empty cells in \"Calories\" column to the original DataFrame\n",
    "csvfile4 = pd.read_csv('Files\\\\Practice\\\\data.csv')\n",
    "meanValue = csvfile4[\"Calories\"].mean()\n",
    "csvfile4.fillna(meanValue, inplace=True)\n",
    "print(f'Mean Value is : {meanValue}\\nReplaced DataFrame : \\n{csvfile4}\\n')\n",
    "\n",
    "#Replacing with median value for empty cells in \"Calories\" column to the original DataFrame\n",
    "csvfile5 = pd.read_csv('Files\\\\Practice\\\\data.csv')\n",
    "medianValue = csvfile5[\"Calories\"].median()\n",
    "csvfile5.fillna(medianValue, inplace=True)\n",
    "print(f'Median Value is : {medianValue}\\nReplaced DataFrame : \\n{csvfile5}\\n')\n",
    "\n",
    "#Replacing with mode value for empty cells in \"Calories\" column to the original DataFrame\n",
    "csvfile6 = pd.read_csv('Files\\\\Practice\\\\data.csv')\n",
    "modeValue = csvfile6[\"Calories\"].mode()\n",
    "csvfile6.fillna(modeValue, inplace=True)\n",
    "print(f'Mode Value is : {modeValue}\\nReplaced DataFrame : \\n{csvfile6}\\n')   "
   ]
  },
  {
   "cell_type": "markdown",
   "id": "8c4ebab6",
   "metadata": {},
   "source": [
    "### 2.Data in wrong format"
   ]
  },
  {
   "cell_type": "markdown",
   "id": "197d9dd4",
   "metadata": {},
   "source": [
    "    a. Convert all the cells in the column into the same format\n",
    "        We have lot of functions for the. Should use the appropriate one to tackle the data.\n",
    "        to_datetime() - this will convert the value into string with YYYY/MM/DD format\n",
    "    b. Removing the rows using dropna() method if the data didn't get convert into correct format."
   ]
  },
  {
   "cell_type": "markdown",
   "id": "c8dd6e0e",
   "metadata": {},
   "source": [
    "### 3.Wrong Data"
   ]
  },
  {
   "cell_type": "markdown",
   "id": "635c548e",
   "metadata": {},
   "source": [
    "    a. Replacing them with correct one or according to the boundaries set for the column to get values\n",
    "    b. Removing the rows using drop()"
   ]
  },
  {
   "cell_type": "code",
   "execution_count": 15,
   "id": "1cf6afaf",
   "metadata": {},
   "outputs": [
    {
     "name": "stdout",
     "output_type": "stream",
     "text": [
      "     Duration  Pulse  Maxpulse  Calories\n",
      "0          60    110       130     409.1\n",
      "1          60    117       145     479.0\n",
      "2          60    103       135     340.0\n",
      "3          45    109       175     282.4\n",
      "4          45    117       148     406.0\n",
      "..        ...    ...       ...       ...\n",
      "164        60    105       140     290.8\n",
      "165        60    110       145     300.0\n",
      "166        60    115       145     310.2\n",
      "167        75    120       150     320.4\n",
      "168        75    125       150     330.4\n",
      "\n",
      "[164 rows x 4 columns]\n",
      "     Duration  Pulse  Maxpulse  Calories\n",
      "0          60    110       130     409.1\n",
      "1          60    117       145     479.0\n",
      "2          60    103       135     340.0\n",
      "3          45    109       175     282.4\n",
      "4          45    117       148     406.0\n",
      "..        ...    ...       ...       ...\n",
      "164        60    105       140     290.8\n",
      "165        60    110       145     300.0\n",
      "166        60    115       145     310.2\n",
      "167        75    120       150     320.4\n",
      "168        75    125       150     330.4\n",
      "\n",
      "[151 rows x 4 columns]\n"
     ]
    }
   ],
   "source": [
    "#Using the csvfile1 DataFrame [which is cleaned for empty cells] for replacing the wrong data with correcto one\n",
    "\n",
    "for index in csvfile1.index : \n",
    "    \n",
    "    # Checking whether the duration is >120, if so replace them with 120\n",
    "    if csvfile1.loc[index, \"Duration\"] > 120 :\n",
    "        csvfile1.loc[index, \"Duration\"] = 120\n",
    "        \n",
    "print(csvfile1)\n",
    "        \n",
    "    \n",
    "#Removing the rows from newDF DataFrame whose \"Duration > 120\"\n",
    "\n",
    "for index in newDF.index :\n",
    "    \n",
    "    if newDF.loc[index, \"Duration\"] > 120 :\n",
    "        newDF.drop(index, inplace=True)\n",
    "        \n",
    "print(newDF)"
   ]
  },
  {
   "cell_type": "markdown",
   "id": "c4b49085",
   "metadata": {},
   "source": [
    "### 4.Removing Duplicates"
   ]
  },
  {
   "cell_type": "markdown",
   "id": "f7bf5533",
   "metadata": {},
   "source": [
    "    * duplicated() - method used to get the duplicate values. Returns 'True' against index having duplicate, else 'False' \n",
    "    * drop_duplicates() - method to remove the duplicates from the DataFrame"
   ]
  },
  {
   "cell_type": "code",
   "execution_count": 19,
   "id": "08aed18f",
   "metadata": {},
   "outputs": [
    {
     "name": "stdout",
     "output_type": "stream",
     "text": [
      "0      False\n",
      "1      False\n",
      "2      False\n",
      "3      False\n",
      "4      False\n",
      "5      False\n",
      "6      False\n",
      "7      False\n",
      "8      False\n",
      "9      False\n",
      "10     False\n",
      "11     False\n",
      "12     False\n",
      "13     False\n",
      "14     False\n",
      "15     False\n",
      "16     False\n",
      "18     False\n",
      "19     False\n",
      "20     False\n",
      "21     False\n",
      "22     False\n",
      "23     False\n",
      "24     False\n",
      "25     False\n",
      "26     False\n",
      "28     False\n",
      "29     False\n",
      "30     False\n",
      "31     False\n",
      "32     False\n",
      "33     False\n",
      "34     False\n",
      "35     False\n",
      "39     False\n",
      "41     False\n",
      "42     False\n",
      "43     False\n",
      "44     False\n",
      "45     False\n",
      "46     False\n",
      "47     False\n",
      "48     False\n",
      "49     False\n",
      "50     False\n",
      "51     False\n",
      "52     False\n",
      "53     False\n",
      "54     False\n",
      "55     False\n",
      "56     False\n",
      "57     False\n",
      "58     False\n",
      "59     False\n",
      "63     False\n",
      "64     False\n",
      "68     False\n",
      "72     False\n",
      "74     False\n",
      "75     False\n",
      "76     False\n",
      "77     False\n",
      "78     False\n",
      "80     False\n",
      "81     False\n",
      "82     False\n",
      "83     False\n",
      "84     False\n",
      "85     False\n",
      "86     False\n",
      "87     False\n",
      "88     False\n",
      "89     False\n",
      "92     False\n",
      "93     False\n",
      "94     False\n",
      "95     False\n",
      "96     False\n",
      "97     False\n",
      "98     False\n",
      "99     False\n",
      "100    False\n",
      "101    False\n",
      "102    False\n",
      "103    False\n",
      "104    False\n",
      "105    False\n",
      "107    False\n",
      "108    False\n",
      "110    False\n",
      "111    False\n",
      "112    False\n",
      "114    False\n",
      "115    False\n",
      "116    False\n",
      "117    False\n",
      "119    False\n",
      "120    False\n",
      "121    False\n",
      "122    False\n",
      "123    False\n",
      "124    False\n",
      "125    False\n",
      "126    False\n",
      "127    False\n",
      "128    False\n",
      "129    False\n",
      "130    False\n",
      "131    False\n",
      "132    False\n",
      "133    False\n",
      "134    False\n",
      "135    False\n",
      "136    False\n",
      "137    False\n",
      "138    False\n",
      "139    False\n",
      "140    False\n",
      "142    False\n",
      "143    False\n",
      "144    False\n",
      "145    False\n",
      "146    False\n",
      "147    False\n",
      "148    False\n",
      "149    False\n",
      "150    False\n",
      "151    False\n",
      "152    False\n",
      "153    False\n",
      "154    False\n",
      "156    False\n",
      "157    False\n",
      "158    False\n",
      "159    False\n",
      "160    False\n",
      "161    False\n",
      "162    False\n",
      "163    False\n",
      "164    False\n",
      "165    False\n",
      "166    False\n",
      "167    False\n",
      "168    False\n"
     ]
    }
   ],
   "source": [
    "# Checking the newDF for duplicates.\n",
    "print(newDF.duplicated().to_string())\n",
    "\n",
    "#Removing the duplicates from the newDF\n",
    "#newDF.drop_duplicates(inplace=True)\n",
    "#print(\"\\n\",newDF)\n",
    "\n",
    "#Since there are no duplicates in newDF, the above command of dropping duplicates doesn't work"
   ]
  },
  {
   "cell_type": "markdown",
   "id": "0d477e85",
   "metadata": {},
   "source": [
    "## Data Correlations"
   ]
  },
  {
   "cell_type": "markdown",
   "id": "99ff89d5",
   "metadata": {},
   "source": [
    "* corr() - Method used to calculate the relationship between columns\n"
   ]
  },
  {
   "cell_type": "code",
   "execution_count": 20,
   "id": "17cd25ac",
   "metadata": {},
   "outputs": [
    {
     "name": "stdout",
     "output_type": "stream",
     "text": [
      "          Duration     Pulse  Maxpulse  Calories\n",
      "Duration  1.000000 -0.294446 -0.183942  0.812940\n",
      "Pulse    -0.294446  1.000000  0.787362  0.040839\n",
      "Maxpulse -0.183942  0.787362  1.000000  0.165005\n",
      "Calories  0.812940  0.040839  0.165005  1.000000\n"
     ]
    }
   ],
   "source": [
    "print(newDF.corr())"
   ]
  },
  {
   "cell_type": "markdown",
   "id": "d6794b26",
   "metadata": {},
   "source": [
    "## Pandas Plotting"
   ]
  },
  {
   "cell_type": "markdown",
   "id": "138590ac",
   "metadata": {},
   "source": [
    "* plot() is used to create the diagrams\n",
    "* PyPlot, submodule of Matplotlib library is used to visulaize the diagrams"
   ]
  },
  {
   "cell_type": "code",
   "execution_count": 21,
   "id": "0f8d7656",
   "metadata": {},
   "outputs": [
    {
     "name": "stderr",
     "output_type": "stream",
     "text": [
      "Matplotlib is building the font cache; this may take a moment.\n"
     ]
    },
    {
     "data": {
      "image/png": "[encoded data removed]",
      "text/plain": [
       "<Figure size 640x480 with 1 Axes>"
      ]
     },
     "metadata": {},
     "output_type": "display_data"
    }
   ],
   "source": [
    "import matplotlib.pyplot as pt\n",
    "\n",
    "#Creating the diagram for newDF DataFrame\n",
    "newDF.plot()\n",
    "\n",
    "#Displaying the diagram using show() of 'pyplot' module\n",
    "pt.show()"
   ]
  },
  {
   "cell_type": "markdown",
   "id": "55edee84",
   "metadata": {},
   "source": [
    "* Scatter plot against \"Calories\" and \"Duration\"\n",
    "* Based on the correlation value of Duration against Calories, the plot should increase as there is good correlation between them.\n"
   ]
  },
  {
   "cell_type": "code",
   "execution_count": 22,
   "id": "958c7d80",
   "metadata": {},
   "outputs": [
    {
     "data": {
      "image/png": "[encoded data removed]",
      "text/plain": [
       "<Figure size 640x480 with 1 Axes>"
      ]
     },
     "metadata": {},
     "output_type": "display_data"
    }
   ],
   "source": [
    "#By passing kind='scatter', it creates scatter diagram against x and y axis mentioned\n",
    "newDF.plot(kind='scatter', x='Duration', y='Calories')\n",
    "\n",
    "pt.show()"
   ]
  },
  {
   "cell_type": "markdown",
   "id": "9540410e",
   "metadata": {},
   "source": [
    "* Histogram for \"Durtaion\"\n",
    "* Shows the frequency of each interval"
   ]
  },
  {
   "cell_type": "code",
   "execution_count": 25,
   "id": "0ebb4f74",
   "metadata": {},
   "outputs": [
    {
     "data": {
      "image/png": "[encoded data removed]",
      "text/plain": [
       "<Figure size 640x480 with 1 Axes>"
      ]
     },
     "metadata": {},
     "output_type": "display_data"
    }
   ],
   "source": [
    "#By passing kind='hist', it plots the histogram for the specified Series or Column\n",
    "newDF[\"Duration\"].plot(kind='hist')\n",
    "pt.show()"
   ]
  },
  {
   "cell_type": "code",
   "execution_count": null,
   "id": "f1e5f4d8",
   "metadata": {},
   "outputs": [],
   "source": []
  }
 ],
 "metadata": {
  "kernelspec": {
   "display_name": "Python 3 (ipykernel)",
   "language": "python",
   "name": "python3"
  },
  "language_info": {
   "codemirror_mode": {
    "name": "ipython",
    "version": 3
   },
   "file_extension": ".py",
   "mimetype": "text/x-python",
   "name": "python",
   "nbconvert_exporter": "python",
   "pygments_lexer": "ipython3",
   "version": "3.11.5"
  }
 },
 "nbformat": 4,
 "nbformat_minor": 5
}
