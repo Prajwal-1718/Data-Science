{
 "cells": [
  {
   "cell_type": "markdown",
   "id": "bfac20a4",
   "metadata": {},
   "source": [
    "# Bag-Of-Words : \n",
    "* It is a commonly used approach for **text classification** purposes.[**Text Vectorization**]\n",
    "* To use ML models on text, we need it to convert them into numbers. So the process of converting tokens into numbers is called **Vectorization**.\n",
    "* We use **Bag-Of-Words** technique for vectorizing text.\n",
    "* Bag-Of-Word doesn't consider the position of word in a document. Instead, it drops all the words in a big-bag and count the number of times each word appears in each document.\n",
    "* In order to get the vector for each token, we need to build the **Document-Term Matrix**.\n",
    "* **Document-Term Matrix (DTM)** describes the **frequency of terms** that occur in a **collection of documents** and is used as input to a ML classifier.\n",
    "* In Document-Term Matrix :\n",
    "    - Each Row -> Each Document\n",
    "    - Each Column -> Each Token\n",
    "* **Size of DTM = (# of Documents) * (Size of Vocabulary)**\n",
    "* **Vector size** of each token equals the **number of documents** in the corpus\n",
    "* Vector of each word is used as the feature for training a classifier.\n",
    "* **Corpus :** is set of documents or texts"
   ]
  },
  {
   "cell_type": "code",
   "execution_count": 1,
   "id": "a80f5111",
   "metadata": {},
   "outputs": [
    {
     "data": {
      "text/html": [
       "<div>\n",
       "<style scoped>\n",
       "    .dataframe tbody tr th:only-of-type {\n",
       "        vertical-align: middle;\n",
       "    }\n",
       "\n",
       "    .dataframe tbody tr th {\n",
       "        vertical-align: top;\n",
       "    }\n",
       "\n",
       "    .dataframe thead th {\n",
       "        text-align: right;\n",
       "    }\n",
       "</style>\n",
       "<table border=\"1\" class=\"dataframe\">\n",
       "  <thead>\n",
       "    <tr style=\"text-align: right;\">\n",
       "      <th></th>\n",
       "      <th>cups</th>\n",
       "      <th>do</th>\n",
       "      <th>flour</th>\n",
       "      <th>has</th>\n",
       "      <th>in</th>\n",
       "      <th>keyboard</th>\n",
       "      <th>mac</th>\n",
       "      <th>minutes</th>\n",
       "      <th>most</th>\n",
       "      <th>noisy</th>\n",
       "      <th>of</th>\n",
       "      <th>or</th>\n",
       "      <th>prefer</th>\n",
       "      <th>replace</th>\n",
       "      <th>the</th>\n",
       "      <th>windows</th>\n",
       "      <th>you</th>\n",
       "    </tr>\n",
       "  </thead>\n",
       "  <tbody>\n",
       "    <tr>\n",
       "      <th>0</th>\n",
       "      <td>1</td>\n",
       "      <td>0</td>\n",
       "      <td>1</td>\n",
       "      <td>0</td>\n",
       "      <td>0</td>\n",
       "      <td>0</td>\n",
       "      <td>0</td>\n",
       "      <td>0</td>\n",
       "      <td>0</td>\n",
       "      <td>0</td>\n",
       "      <td>1</td>\n",
       "      <td>0</td>\n",
       "      <td>0</td>\n",
       "      <td>0</td>\n",
       "      <td>0</td>\n",
       "      <td>0</td>\n",
       "      <td>0</td>\n",
       "    </tr>\n",
       "    <tr>\n",
       "      <th>1</th>\n",
       "      <td>0</td>\n",
       "      <td>0</td>\n",
       "      <td>1</td>\n",
       "      <td>0</td>\n",
       "      <td>0</td>\n",
       "      <td>0</td>\n",
       "      <td>0</td>\n",
       "      <td>0</td>\n",
       "      <td>0</td>\n",
       "      <td>0</td>\n",
       "      <td>0</td>\n",
       "      <td>0</td>\n",
       "      <td>0</td>\n",
       "      <td>1</td>\n",
       "      <td>1</td>\n",
       "      <td>0</td>\n",
       "      <td>0</td>\n",
       "    </tr>\n",
       "    <tr>\n",
       "      <th>2</th>\n",
       "      <td>0</td>\n",
       "      <td>0</td>\n",
       "      <td>0</td>\n",
       "      <td>0</td>\n",
       "      <td>1</td>\n",
       "      <td>1</td>\n",
       "      <td>0</td>\n",
       "      <td>1</td>\n",
       "      <td>0</td>\n",
       "      <td>0</td>\n",
       "      <td>0</td>\n",
       "      <td>0</td>\n",
       "      <td>0</td>\n",
       "      <td>1</td>\n",
       "      <td>1</td>\n",
       "      <td>0</td>\n",
       "      <td>0</td>\n",
       "    </tr>\n",
       "    <tr>\n",
       "      <th>3</th>\n",
       "      <td>0</td>\n",
       "      <td>1</td>\n",
       "      <td>0</td>\n",
       "      <td>0</td>\n",
       "      <td>0</td>\n",
       "      <td>0</td>\n",
       "      <td>1</td>\n",
       "      <td>0</td>\n",
       "      <td>0</td>\n",
       "      <td>0</td>\n",
       "      <td>0</td>\n",
       "      <td>1</td>\n",
       "      <td>1</td>\n",
       "      <td>0</td>\n",
       "      <td>0</td>\n",
       "      <td>1</td>\n",
       "      <td>1</td>\n",
       "    </tr>\n",
       "    <tr>\n",
       "      <th>4</th>\n",
       "      <td>0</td>\n",
       "      <td>0</td>\n",
       "      <td>0</td>\n",
       "      <td>1</td>\n",
       "      <td>0</td>\n",
       "      <td>1</td>\n",
       "      <td>1</td>\n",
       "      <td>0</td>\n",
       "      <td>1</td>\n",
       "      <td>1</td>\n",
       "      <td>0</td>\n",
       "      <td>0</td>\n",
       "      <td>0</td>\n",
       "      <td>0</td>\n",
       "      <td>2</td>\n",
       "      <td>0</td>\n",
       "      <td>0</td>\n",
       "    </tr>\n",
       "  </tbody>\n",
       "</table>\n",
       "</div>"
      ],
      "text/plain": [
       "   cups  do  flour  has  in  keyboard  mac  minutes  most  noisy  of  or  \\\n",
       "0     1   0      1    0   0         0    0        0     0      0   1   0   \n",
       "1     0   0      1    0   0         0    0        0     0      0   0   0   \n",
       "2     0   0      0    0   1         1    0        1     0      0   0   0   \n",
       "3     0   1      0    0   0         0    1        0     0      0   0   1   \n",
       "4     0   0      0    1   0         1    1        0     1      1   0   0   \n",
       "\n",
       "   prefer  replace  the  windows  you  \n",
       "0       0        0    0        0    0  \n",
       "1       0        1    1        0    0  \n",
       "2       0        1    1        0    0  \n",
       "3       1        0    0        1    1  \n",
       "4       0        0    2        0    0  "
      ]
     },
     "execution_count": 1,
     "metadata": {},
     "output_type": "execute_result"
    }
   ],
   "source": [
    "#Creating a Document-Term Matrix\n",
    "\n",
    "# Define the corpus\n",
    "corpus = [\n",
    "    \"2 cups of flour\",\n",
    "    \"replace the flour\",\n",
    "    \"replace the keyboard in 2 minutes\",\n",
    "    \"do you prefer Windows or Mac\",\n",
    "    \"the Mac has the most noisy keyboard\"\n",
    "]\n",
    "\n",
    "# Import and instantiate the vectorizer fro scikit-learn\n",
    "from sklearn.feature_extraction.text import CountVectorizer\n",
    "vectorizer = CountVectorizer()\n",
    "\n",
    "# Apply the vectorizer to the corpus\n",
    "X = vectorizer.fit_transform(corpus)\n",
    "\n",
    "# Display the Document-term Matrix as a DataFarme inorder to show the tokens\n",
    "\n",
    "import pandas as pd\n",
    "\n",
    "# Extract the token names (Vocabulary)\n",
    "vocab = vectorizer.get_feature_names_out()\n",
    "\n",
    "# Create a DataFrame to store the matrix\n",
    "docterm = pd.DataFrame(X.todense(), columns=vocab)\n",
    "\n",
    "docterm"
   ]
  },
  {
   "cell_type": "markdown",
   "id": "b88fbe1d",
   "metadata": {},
   "source": [
    "* **Reduce the Vocabulary size :**\n",
    "    - Vocabulary sixe directly impacts the document-term matrix dimension.\n",
    "    - Therefore, reducing the vocabulary size is essential to avoid performing calculations over gigantic matrices.\n",
    "    - Idea of reducing the vocabulary size if to **remove as many tokens as possible without throwing away relevant information**\n",
    "        * One strategy can be to filter out words that are **either too frequent or too rare**\n",
    "        * Another process involves applying of **dimension reduction techniques (PCA)** to document-term matrix.\n",
    "\n",
    "* **Sparse Matrix :** Bag of words approach results in a **document-term matrix** that is, for most part, **filled with zeros**"
   ]
  },
  {
   "cell_type": "markdown",
   "id": "0a124c87",
   "metadata": {},
   "source": [
    "### Building a classifier model using Bag-Of-Words :\n",
    "1. Feature extraction [**Vectorizing a corpus**]\n",
    "2. Splitting the dataset into training(70%) and testing set(30%) to simulate the moel's behavior on previously unseen data.\n",
    "3. Train the model on training set\n",
    "4. Evaluate the model's performance on the test set using the metrics such as **accuracy, recall, AUC(Area Under Curve) or by inspecting the confusion matrix**"
   ]
  },
  {
   "cell_type": "code",
   "execution_count": 2,
   "id": "be6f2535",
   "metadata": {},
   "outputs": [
    {
     "data": {
      "text/plain": [
       "(2000, 2)"
      ]
     },
     "execution_count": 2,
     "metadata": {},
     "output_type": "execute_result"
    }
   ],
   "source": [
    "# Load the datasets\n",
    "# We are using the classic Brown Corpus\n",
    "data = pd.read_csv(\"./Data/brown_corpus_extract_humor_science_fiction.csv\")\n",
    "data.shape"
   ]
  },
  {
   "cell_type": "code",
   "execution_count": 3,
   "id": "9e18e8b8",
   "metadata": {},
   "outputs": [
    {
     "data": {
      "text/html": [
       "<div>\n",
       "<style scoped>\n",
       "    .dataframe tbody tr th:only-of-type {\n",
       "        vertical-align: middle;\n",
       "    }\n",
       "\n",
       "    .dataframe tbody tr th {\n",
       "        vertical-align: top;\n",
       "    }\n",
       "\n",
       "    .dataframe thead th {\n",
       "        text-align: right;\n",
       "    }\n",
       "</style>\n",
       "<table border=\"1\" class=\"dataframe\">\n",
       "  <thead>\n",
       "    <tr style=\"text-align: right;\">\n",
       "      <th></th>\n",
       "      <th>topic</th>\n",
       "      <th>text</th>\n",
       "    </tr>\n",
       "  </thead>\n",
       "  <tbody>\n",
       "    <tr>\n",
       "      <th>0</th>\n",
       "      <td>humor</td>\n",
       "      <td>They were always leaping to light cigarettes, ...</td>\n",
       "    </tr>\n",
       "    <tr>\n",
       "      <th>1</th>\n",
       "      <td>science_fiction</td>\n",
       "      <td>No, the fish could eat their bodies for all th...</td>\n",
       "    </tr>\n",
       "    <tr>\n",
       "      <th>2</th>\n",
       "      <td>science_fiction</td>\n",
       "      <td>Fighting pleasure itself, he begged B'dikkat t...</td>\n",
       "    </tr>\n",
       "    <tr>\n",
       "      <th>3</th>\n",
       "      <td>science_fiction</td>\n",
       "      <td>that is all I can tell you about them.</td>\n",
       "    </tr>\n",
       "    <tr>\n",
       "      <th>4</th>\n",
       "      <td>humor</td>\n",
       "      <td>That's one thing I've never done  , she said p...</td>\n",
       "    </tr>\n",
       "  </tbody>\n",
       "</table>\n",
       "</div>"
      ],
      "text/plain": [
       "             topic                                               text\n",
       "0            humor  They were always leaping to light cigarettes, ...\n",
       "1  science_fiction  No, the fish could eat their bodies for all th...\n",
       "2  science_fiction  Fighting pleasure itself, he begged B'dikkat t...\n",
       "3  science_fiction             that is all I can tell you about them.\n",
       "4            humor  That's one thing I've never done  , she said p..."
      ]
     },
     "execution_count": 3,
     "metadata": {},
     "output_type": "execute_result"
    }
   ],
   "source": [
    "data.head()"
   ]
  },
  {
   "cell_type": "code",
   "execution_count": 4,
   "id": "24e4b679",
   "metadata": {},
   "outputs": [
    {
     "data": {
      "text/plain": [
       "topic\n",
       "humor              1052\n",
       "science_fiction     948\n",
       "Name: count, dtype: int64"
      ]
     },
     "execution_count": 4,
     "metadata": {},
     "output_type": "execute_result"
    }
   ],
   "source": [
    "# Let's see the topic counts\n",
    "data.topic.value_counts()"
   ]
  },
  {
   "cell_type": "code",
   "execution_count": 5,
   "id": "1d91a79c",
   "metadata": {},
   "outputs": [],
   "source": [
    "# Import the spaCy and load the \"small English\" model\n",
    "import spacy\n",
    "\n",
    "nlp = spacy.load(\"en_core_web_sm\")"
   ]
  },
  {
   "cell_type": "markdown",
   "id": "53e098c8",
   "metadata": {},
   "source": [
    "Steps involved in preprocessing the data :\n",
    "* Tokenization\n",
    "* Removing Stopwords and punctuations\n",
    "* Lemmatization"
   ]
  },
  {
   "cell_type": "code",
   "execution_count": 6,
   "id": "fad96b3c",
   "metadata": {},
   "outputs": [],
   "source": [
    "# Let's define a function which does.....\n",
    "# ....all the above mentioned steps as a part of preprocess of data\n",
    "\n",
    "def preprocess(text):\n",
    "    doc = nlp(text) # Tokenization\n",
    "    \n",
    "    # Removing Stopwords and punctuations and storing lemmas\n",
    "    tokens = [tk.lemma_ for tk in doc if not (tk.is_stop or tk.is_punct)] \n",
    "    \n",
    "    # Returnig the preprocessed data in form of text(strings format), not in form of tokens\n",
    "    return ' '.join(tokens)"
   ]
  },
  {
   "cell_type": "code",
   "execution_count": 7,
   "id": "1d708c36",
   "metadata": {},
   "outputs": [
    {
     "data": {
      "text/plain": [
       "'good time leave care'"
      ]
     },
     "execution_count": 7,
     "metadata": {},
     "output_type": "execute_result"
    }
   ],
   "source": [
    "# Let's check whether the function works properly or not\n",
    "\n",
    "text = \"These are good times, leave your cares behind.\"\n",
    "\n",
    "preprocess(text)"
   ]
  },
  {
   "cell_type": "code",
   "execution_count": 8,
   "id": "ced7006c",
   "metadata": {},
   "outputs": [],
   "source": [
    "# Adding couple of punctuations with multi characters as stopwords to the nlp spacy model\n",
    "nlp.Defaults.stop_words.add(\"`,\")\n",
    "nlp.Defaults.stop_words.add(\"``\")"
   ]
  },
  {
   "cell_type": "code",
   "execution_count": 9,
   "id": "c61465e8",
   "metadata": {},
   "outputs": [],
   "source": [
    "# Lets apply the preproess function to the enitre corpus text\n",
    "data['processedText'] = data.text.apply(lambda txt : preprocess(txt))"
   ]
  },
  {
   "cell_type": "markdown",
   "id": "d5ce2b9f",
   "metadata": {},
   "source": [
    "* Short text with just a few tokens won't have enough information for the classification model that want to train.\n",
    "* So, let's add a count of the number of tokens for each text and \n",
    "* Filter out the texts with **< N** tokens."
   ]
  },
  {
   "cell_type": "code",
   "execution_count": 10,
   "id": "0d945f11",
   "metadata": {},
   "outputs": [],
   "source": [
    "# Adding the 'token_count' column for each text \n",
    "data['token_count'] = data.text.apply(lambda txt : len(txt.split()))"
   ]
  },
  {
   "cell_type": "code",
   "execution_count": 11,
   "id": "15bb8864",
   "metadata": {},
   "outputs": [
    {
     "data": {
      "text/html": [
       "<div>\n",
       "<style scoped>\n",
       "    .dataframe tbody tr th:only-of-type {\n",
       "        vertical-align: middle;\n",
       "    }\n",
       "\n",
       "    .dataframe tbody tr th {\n",
       "        vertical-align: top;\n",
       "    }\n",
       "\n",
       "    .dataframe thead th {\n",
       "        text-align: right;\n",
       "    }\n",
       "</style>\n",
       "<table border=\"1\" class=\"dataframe\">\n",
       "  <thead>\n",
       "    <tr style=\"text-align: right;\">\n",
       "      <th></th>\n",
       "      <th>topic</th>\n",
       "      <th>text</th>\n",
       "      <th>processedText</th>\n",
       "      <th>token_count</th>\n",
       "    </tr>\n",
       "  </thead>\n",
       "  <tbody>\n",
       "    <tr>\n",
       "      <th>0</th>\n",
       "      <td>humor</td>\n",
       "      <td>They were always leaping to light cigarettes, ...</td>\n",
       "      <td>leap light cigarette open car door fill plate ...</td>\n",
       "      <td>38</td>\n",
       "    </tr>\n",
       "    <tr>\n",
       "      <th>1</th>\n",
       "      <td>science_fiction</td>\n",
       "      <td>No, the fish could eat their bodies for all th...</td>\n",
       "      <td>fish eat body Sturch care</td>\n",
       "      <td>12</td>\n",
       "    </tr>\n",
       "    <tr>\n",
       "      <th>2</th>\n",
       "      <td>science_fiction</td>\n",
       "      <td>Fighting pleasure itself, he begged B'dikkat t...</td>\n",
       "      <td>fight pleasure beg B'dikkat check record tell ...</td>\n",
       "      <td>20</td>\n",
       "    </tr>\n",
       "    <tr>\n",
       "      <th>3</th>\n",
       "      <td>science_fiction</td>\n",
       "      <td>that is all I can tell you about them.</td>\n",
       "      <td>tell</td>\n",
       "      <td>9</td>\n",
       "    </tr>\n",
       "    <tr>\n",
       "      <th>4</th>\n",
       "      <td>humor</td>\n",
       "      <td>That's one thing I've never done  , she said p...</td>\n",
       "      <td>thing   say promptly</td>\n",
       "      <td>10</td>\n",
       "    </tr>\n",
       "  </tbody>\n",
       "</table>\n",
       "</div>"
      ],
      "text/plain": [
       "             topic                                               text  \\\n",
       "0            humor  They were always leaping to light cigarettes, ...   \n",
       "1  science_fiction  No, the fish could eat their bodies for all th...   \n",
       "2  science_fiction  Fighting pleasure itself, he begged B'dikkat t...   \n",
       "3  science_fiction             that is all I can tell you about them.   \n",
       "4            humor  That's one thing I've never done  , she said p...   \n",
       "\n",
       "                                       processedText  token_count  \n",
       "0  leap light cigarette open car door fill plate ...           38  \n",
       "1                          fish eat body Sturch care           12  \n",
       "2  fight pleasure beg B'dikkat check record tell ...           20  \n",
       "3                                               tell            9  \n",
       "4                               thing   say promptly           10  "
      ]
     },
     "execution_count": 11,
     "metadata": {},
     "output_type": "execute_result"
    }
   ],
   "source": [
    "data.head()"
   ]
  },
  {
   "cell_type": "code",
   "execution_count": 12,
   "id": "723ccf03",
   "metadata": {},
   "outputs": [
    {
     "data": {
      "text/plain": [
       "count    2000.0000\n",
       "mean       15.5950\n",
       "std        11.2615\n",
       "min         1.0000\n",
       "25%         7.0000\n",
       "50%        13.0000\n",
       "75%        21.0000\n",
       "max        83.0000\n",
       "Name: token_count, dtype: float64"
      ]
     },
     "execution_count": 12,
     "metadata": {},
     "output_type": "execute_result"
    }
   ],
   "source": [
    "data.token_count.describe()"
   ]
  },
  {
   "cell_type": "code",
   "execution_count": 13,
   "id": "2ac52da0",
   "metadata": {},
   "outputs": [
    {
     "data": {
      "text/plain": [
       "<Axes: >"
      ]
     },
     "execution_count": 13,
     "metadata": {},
     "output_type": "execute_result"
    },
    {
     "data": {
      "image/png": "[encoded data removed]",
      "text/plain": [
       "<Figure size 640x480 with 1 Axes>"
      ]
     },
     "metadata": {},
     "output_type": "display_data"
    }
   ],
   "source": [
    "data.token_count.hist(bins=100)"
   ]
  },
  {
   "cell_type": "markdown",
   "id": "b133c83f",
   "metadata": {},
   "source": [
    "* Let's remove the texts with **tokens <= 4**"
   ]
  },
  {
   "cell_type": "code",
   "execution_count": 17,
   "id": "22ad24bd",
   "metadata": {},
   "outputs": [],
   "source": [
    "data = data[data.token_count > 4]\n",
    "data.reset_index(inplace=True, drop=True)"
   ]
  },
  {
   "cell_type": "code",
   "execution_count": 18,
   "id": "d4335554",
   "metadata": {},
   "outputs": [
    {
     "data": {
      "text/plain": [
       "<Axes: >"
      ]
     },
     "execution_count": 18,
     "metadata": {},
     "output_type": "execute_result"
    },
    {
     "data": {
      "image/png": "[encoded data removed]",
      "text/plain": [
       "<Figure size 640x480 with 1 Axes>"
      ]
     },
     "metadata": {},
     "output_type": "display_data"
    }
   ],
   "source": [
    "data.token_count.hist(bins=100)"
   ]
  },
  {
   "cell_type": "code",
   "execution_count": 20,
   "id": "39fec0a9",
   "metadata": {},
   "outputs": [
    {
     "data": {
      "text/plain": [
       "topic\n",
       "humor              965\n",
       "science_fiction    810\n",
       "Name: count, dtype: int64"
      ]
     },
     "execution_count": 20,
     "metadata": {},
     "output_type": "execute_result"
    }
   ],
   "source": [
    "data.topic.value_counts()"
   ]
  },
  {
   "cell_type": "code",
   "execution_count": 21,
   "id": "f5c012ac",
   "metadata": {
    "scrolled": true
   },
   "outputs": [
    {
     "data": {
      "text/plain": [
       "topic\n",
       "humor              965\n",
       "science_fiction    810\n",
       "Name: count, dtype: int64"
      ]
     },
     "execution_count": 21,
     "metadata": {},
     "output_type": "execute_result"
    }
   ],
   "source": [
    "data[data.token_count > 4].topic.value_counts()"
   ]
  },
  {
   "cell_type": "markdown",
   "id": "17cd26ea",
   "metadata": {},
   "source": [
    "* Above two cells is for checking in two ways whether the topics has same count after removing text which has **token count below 4**\n",
    "* Now **Vectorize** the texts in the dataframe"
   ]
  },
  {
   "cell_type": "code",
   "execution_count": 22,
   "id": "97eb9cde",
   "metadata": {},
   "outputs": [],
   "source": [
    "# We use CountVectorizer for vectorizing the data\n",
    "# We have instantiated CountVectorizer as 'vectorizer', and we gonna use the same here\n",
    "X = vectorizer.fit_transform(data.processedText)"
   ]
  },
  {
   "cell_type": "code",
   "execution_count": 23,
   "id": "1ed2fb1a",
   "metadata": {},
   "outputs": [
    {
     "data": {
      "text/plain": [
       "(1775, 4956)"
      ]
     },
     "execution_count": 23,
     "metadata": {},
     "output_type": "execute_result"
    }
   ],
   "source": [
    "X.shape"
   ]
  },
  {
   "cell_type": "markdown",
   "id": "d6215478",
   "metadata": {},
   "source": [
    "* Now **X** is a sparse matrix with **1775** rows(or **documents**) and **4956** columns(or **Vocabulary Size**)\n",
    "* Lets transform **topic** from **string** to **integer** "
   ]
  },
  {
   "cell_type": "code",
   "execution_count": 25,
   "id": "34fb5a1a",
   "metadata": {},
   "outputs": [
    {
     "name": "stderr",
     "output_type": "stream",
     "text": [
      "C:\\Users\\prajw\\AppData\\Local\\Temp\\ipykernel_2704\\3773093263.py:8: SettingWithCopyWarning: \n",
      "A value is trying to be set on a copy of a slice from a DataFrame.\n",
      "Try using .loc[row_indexer,col_indexer] = value instead\n",
      "\n",
      "See the caveats in the documentation: https://pandas.pydata.org/pandas-docs/stable/user_guide/indexing.html#returning-a-view-versus-a-copy\n",
      "  data.topic = data.topic.astype(int)\n"
     ]
    }
   ],
   "source": [
    "# For the topic == 'humor', we set the 'topic=0'\n",
    "data.loc[data.topic == 'humor', 'topic'] = 0\n",
    "\n",
    "# For the topic == 'science_fiction', we set the 'topic=1'\n",
    "data.loc[data.topic == 'science_fiction', 'topic'] = 1\n",
    "\n",
    "# Conver the topic value to 'integer' type\n",
    "data.topic = data.topic.astype(int)"
   ]
  },
  {
   "cell_type": "code",
   "execution_count": 26,
   "id": "9c7f3e37",
   "metadata": {},
   "outputs": [],
   "source": [
    "# Let's define the target variable\n",
    "y = data.topic"
   ]
  },
  {
   "cell_type": "markdown",
   "id": "11abc77f",
   "metadata": {},
   "source": [
    "So now we have : \n",
    "* X -> Features with labels\n",
    "* y -> Label"
   ]
  },
  {
   "cell_type": "markdown",
   "id": "6d811044",
   "metadata": {},
   "source": [
    "#### Train a Classifier\n",
    "* The **Navie Bayes** classifier performs well on the texts.\n",
    "* We use **MultinomialNB** model for this"
   ]
  },
  {
   "cell_type": "code",
   "execution_count": 27,
   "id": "9e68f8fe",
   "metadata": {},
   "outputs": [
    {
     "name": "stdout",
     "output_type": "stream",
     "text": [
      "Accuracy Score : 0.9538028169014084\n"
     ]
    }
   ],
   "source": [
    "from sklearn.naive_bayes import MultinomialNB\n",
    "from sklearn.metrics import accuracy_score\n",
    "\n",
    "# Create an instance of the ML model\n",
    "clf = MultinomialNB()\n",
    "\n",
    "# Train the model\n",
    "clf.fit(X, y)\n",
    "\n",
    "# Make predictions \n",
    "y_predict = clf.predict(X)\n",
    "\n",
    "# Calculate and display the accuracy score of the model\n",
    "print(f\"Accuracy Score : {accuracy_score(y, y_predict)}\")"
   ]
  },
  {
   "cell_type": "markdown",
   "id": "c71d79bf",
   "metadata": {},
   "source": [
    "* It shows that 95.4% of the texts are correctly classified \n",
    "* But we have trained and tested using the same entire data.\n",
    "* So now lets split the data into training and testing set (Splitting has to be done after the Vectorization of the text)"
   ]
  },
  {
   "cell_type": "code",
   "execution_count": 28,
   "id": "4f7893af",
   "metadata": {},
   "outputs": [],
   "source": [
    "from sklearn.model_selection import train_test_split\n",
    "\n",
    "# Splitting the data with seting test set size to 30%\n",
    "X_train, X_test, y_train, y_test = train_test_split(X, y, test_size=0.3, random_state=42)"
   ]
  },
  {
   "cell_type": "code",
   "execution_count": 29,
   "id": "a7ae3bd7",
   "metadata": {},
   "outputs": [
    {
     "name": "stdout",
     "output_type": "stream",
     "text": [
      "Shape of the X_train : (1242, 4956)\n",
      "Shape of the X_test : (533, 4956)\n"
     ]
    }
   ],
   "source": [
    "print(f'Shape of the X_train : {X_train.shape}')\n",
    "print(f'Shape of the X_test : {X_test.shape}')"
   ]
  },
  {
   "cell_type": "code",
   "execution_count": 30,
   "id": "71ebb869",
   "metadata": {},
   "outputs": [
    {
     "name": "stdout",
     "output_type": "stream",
     "text": [
      "Accuracy Score : 0.7467166979362101\n"
     ]
    }
   ],
   "source": [
    "# Now lets use the same model to train on these datasets\n",
    "clf = MultinomialNB()\n",
    "\n",
    "clf.fit(X_train, y_train)\n",
    "\n",
    "y_predict = clf.predict(X_test)\n",
    "\n",
    "print(f\"Accuracy Score : {accuracy_score(y_test, y_predict)}\")"
   ]
  },
  {
   "cell_type": "markdown",
   "id": "3f9fdf5c",
   "metadata": {},
   "source": [
    "By looking at the above accuracy score, we can mark the above trained model with entier dataset as **OVERFIT** model. And now after splitting, we have got around **74.7%** accuracy."
   ]
  },
  {
   "cell_type": "markdown",
   "id": "965d0484",
   "metadata": {},
   "source": [
    "## Tf-Idf Vectorizer :\n",
    "* Type of vectorizer, which will calculates the **weight for each word** based on it's **frequency in the document** and it's **rarity across the entire corpus of documents**.\n",
    "* By normalizing word counts, we can focus more on the **relative importance of words in individual documents or across a corpus**, rather than their raw occurance counts.\n",
    "* **Tf :** Term frewuency, the number of times the word appears in each document.\n",
    "* **Idf :** Inverse Document Frequency, an inverse count of the number of documents a word is in the whole coorpus\n",
    "    - **(Number of documents) / (Number of documents that contain the term t)**\n",
    "\n",
    "* **tf-idf score :** is a decimal number that measures the importance of a word in any document. It gives **small values to frequent** words across the corpus and **larger values to less** common ones.\n",
    "    - **tf-idf score = tf * idf**\n",
    "\n"
   ]
  },
  {
   "cell_type": "code",
   "execution_count": 32,
   "id": "16745f0d",
   "metadata": {
    "scrolled": true
   },
   "outputs": [
    {
     "data": {
      "text/html": [
       "<div>\n",
       "<style scoped>\n",
       "    .dataframe tbody tr th:only-of-type {\n",
       "        vertical-align: middle;\n",
       "    }\n",
       "\n",
       "    .dataframe tbody tr th {\n",
       "        vertical-align: top;\n",
       "    }\n",
       "\n",
       "    .dataframe thead th {\n",
       "        text-align: right;\n",
       "    }\n",
       "</style>\n",
       "<table border=\"1\" class=\"dataframe\">\n",
       "  <thead>\n",
       "    <tr style=\"text-align: right;\">\n",
       "      <th></th>\n",
       "      <th>cups</th>\n",
       "      <th>do</th>\n",
       "      <th>flour</th>\n",
       "      <th>has</th>\n",
       "      <th>in</th>\n",
       "      <th>keyboard</th>\n",
       "      <th>mac</th>\n",
       "      <th>minutes</th>\n",
       "      <th>most</th>\n",
       "      <th>noisy</th>\n",
       "      <th>of</th>\n",
       "      <th>or</th>\n",
       "      <th>prefer</th>\n",
       "      <th>replace</th>\n",
       "      <th>the</th>\n",
       "      <th>windows</th>\n",
       "      <th>you</th>\n",
       "    </tr>\n",
       "  </thead>\n",
       "  <tbody>\n",
       "    <tr>\n",
       "      <th>0</th>\n",
       "      <td>0.614189</td>\n",
       "      <td>0.000000</td>\n",
       "      <td>0.495524</td>\n",
       "      <td>0.000000</td>\n",
       "      <td>0.000000</td>\n",
       "      <td>0.000000</td>\n",
       "      <td>0.000000</td>\n",
       "      <td>0.000000</td>\n",
       "      <td>0.000000</td>\n",
       "      <td>0.000000</td>\n",
       "      <td>0.614189</td>\n",
       "      <td>0.000000</td>\n",
       "      <td>0.000000</td>\n",
       "      <td>0.000000</td>\n",
       "      <td>0.000000</td>\n",
       "      <td>0.000000</td>\n",
       "      <td>0.000000</td>\n",
       "    </tr>\n",
       "    <tr>\n",
       "      <th>1</th>\n",
       "      <td>0.000000</td>\n",
       "      <td>0.000000</td>\n",
       "      <td>0.609818</td>\n",
       "      <td>0.000000</td>\n",
       "      <td>0.000000</td>\n",
       "      <td>0.000000</td>\n",
       "      <td>0.000000</td>\n",
       "      <td>0.000000</td>\n",
       "      <td>0.000000</td>\n",
       "      <td>0.000000</td>\n",
       "      <td>0.000000</td>\n",
       "      <td>0.000000</td>\n",
       "      <td>0.000000</td>\n",
       "      <td>0.609818</td>\n",
       "      <td>0.506204</td>\n",
       "      <td>0.000000</td>\n",
       "      <td>0.000000</td>\n",
       "    </tr>\n",
       "    <tr>\n",
       "      <th>2</th>\n",
       "      <td>0.000000</td>\n",
       "      <td>0.000000</td>\n",
       "      <td>0.000000</td>\n",
       "      <td>0.000000</td>\n",
       "      <td>0.516374</td>\n",
       "      <td>0.416607</td>\n",
       "      <td>0.000000</td>\n",
       "      <td>0.516374</td>\n",
       "      <td>0.000000</td>\n",
       "      <td>0.000000</td>\n",
       "      <td>0.000000</td>\n",
       "      <td>0.000000</td>\n",
       "      <td>0.000000</td>\n",
       "      <td>0.416607</td>\n",
       "      <td>0.345822</td>\n",
       "      <td>0.000000</td>\n",
       "      <td>0.000000</td>\n",
       "    </tr>\n",
       "    <tr>\n",
       "      <th>3</th>\n",
       "      <td>0.000000</td>\n",
       "      <td>0.420669</td>\n",
       "      <td>0.000000</td>\n",
       "      <td>0.000000</td>\n",
       "      <td>0.000000</td>\n",
       "      <td>0.000000</td>\n",
       "      <td>0.339393</td>\n",
       "      <td>0.000000</td>\n",
       "      <td>0.000000</td>\n",
       "      <td>0.000000</td>\n",
       "      <td>0.000000</td>\n",
       "      <td>0.420669</td>\n",
       "      <td>0.420669</td>\n",
       "      <td>0.000000</td>\n",
       "      <td>0.000000</td>\n",
       "      <td>0.420669</td>\n",
       "      <td>0.420669</td>\n",
       "    </tr>\n",
       "    <tr>\n",
       "      <th>4</th>\n",
       "      <td>0.000000</td>\n",
       "      <td>0.000000</td>\n",
       "      <td>0.000000</td>\n",
       "      <td>0.405025</td>\n",
       "      <td>0.000000</td>\n",
       "      <td>0.326771</td>\n",
       "      <td>0.326771</td>\n",
       "      <td>0.000000</td>\n",
       "      <td>0.405025</td>\n",
       "      <td>0.405025</td>\n",
       "      <td>0.000000</td>\n",
       "      <td>0.000000</td>\n",
       "      <td>0.000000</td>\n",
       "      <td>0.000000</td>\n",
       "      <td>0.542500</td>\n",
       "      <td>0.000000</td>\n",
       "      <td>0.000000</td>\n",
       "    </tr>\n",
       "  </tbody>\n",
       "</table>\n",
       "</div>"
      ],
      "text/plain": [
       "       cups        do     flour       has        in  keyboard       mac  \\\n",
       "0  0.614189  0.000000  0.495524  0.000000  0.000000  0.000000  0.000000   \n",
       "1  0.000000  0.000000  0.609818  0.000000  0.000000  0.000000  0.000000   \n",
       "2  0.000000  0.000000  0.000000  0.000000  0.516374  0.416607  0.000000   \n",
       "3  0.000000  0.420669  0.000000  0.000000  0.000000  0.000000  0.339393   \n",
       "4  0.000000  0.000000  0.000000  0.405025  0.000000  0.326771  0.326771   \n",
       "\n",
       "    minutes      most     noisy        of        or    prefer   replace  \\\n",
       "0  0.000000  0.000000  0.000000  0.614189  0.000000  0.000000  0.000000   \n",
       "1  0.000000  0.000000  0.000000  0.000000  0.000000  0.000000  0.609818   \n",
       "2  0.516374  0.000000  0.000000  0.000000  0.000000  0.000000  0.416607   \n",
       "3  0.000000  0.000000  0.000000  0.000000  0.420669  0.420669  0.000000   \n",
       "4  0.000000  0.405025  0.405025  0.000000  0.000000  0.000000  0.000000   \n",
       "\n",
       "        the   windows       you  \n",
       "0  0.000000  0.000000  0.000000  \n",
       "1  0.506204  0.000000  0.000000  \n",
       "2  0.345822  0.000000  0.000000  \n",
       "3  0.000000  0.420669  0.420669  \n",
       "4  0.542500  0.000000  0.000000  "
      ]
     },
     "execution_count": 32,
     "metadata": {},
     "output_type": "execute_result"
    }
   ],
   "source": [
    "corpus = [\n",
    "    '2 cups of flour',\n",
    "    'replace the flour',\n",
    "    'replace the keyboard in 2 minutes',\n",
    "    'do you prefer Windows or Mac',\n",
    "    'the Mac has the most noisy keyboard',\n",
    "]\n",
    "\n",
    "# Import the Tf-idf Vectorizer\n",
    "from sklearn.feature_extraction.text import TfidfVectorizer\n",
    "tfIdfVc = TfidfVectorizer()\n",
    "\n",
    "# Apply the vectorizer to the document\n",
    "X = tfIdfVc.fit_transform(corpus)\n",
    "\n",
    "#  Extract the token names\n",
    "vocab = tfIdfVc.get_feature_names_out()\n",
    "\n",
    "# Dataframe to display the matrix\n",
    "docterm = pd.DataFrame(X.todense(), columns=vocab)\n",
    "docterm"
   ]
  },
  {
   "cell_type": "markdown",
   "id": "18313b43",
   "metadata": {},
   "source": [
    " Let's apply the `TfidfVectorizer` to the **Brown corpus** to check how the model would do better compared to `CountVectorizer`"
   ]
  },
  {
   "cell_type": "code",
   "execution_count": 33,
   "id": "bfa896b0",
   "metadata": {},
   "outputs": [
    {
     "name": "stdout",
     "output_type": "stream",
     "text": [
      "Accuracy Score of Tfidf Vectorizer : 0.7804878048780488\n"
     ]
    }
   ],
   "source": [
    "# Separating the features(X) and label(y)\n",
    "X = tfIdfVc.fit_transform(data.processedText)\n",
    "y = data.topic\n",
    "\n",
    "# Splitting the dataset\n",
    "X_train, X_test, y_train, y_test = train_test_split(X, y, test_size=0.3, random_state=42)\n",
    "\n",
    "# instantiate and Train the model\n",
    "clf = MultinomialNB()\n",
    "clf.fit(X_train, y_train)\n",
    "\n",
    "# Make predictions\n",
    "y_predict = clf.predict(X_test)\n",
    "\n",
    "# Calculate and disply the accuracy score\n",
    "print(f\"Accuracy Score of Tfidf Vectorizer : {accuracy_score(y_test, y_predict)}\")"
   ]
  },
  {
   "cell_type": "markdown",
   "id": "d5d82054",
   "metadata": {},
   "source": [
    "As you can see that the `TfidfVectorizer` has got the accuracy of **78%**, which is slightly better than `CountVectorizer`"
   ]
  },
  {
   "cell_type": "code",
   "execution_count": null,
   "id": "0ae6c170",
   "metadata": {},
   "outputs": [],
   "source": []
  }
 ],
 "metadata": {
  "kernelspec": {
   "display_name": "Python 3 (ipykernel)",
   "language": "python",
   "name": "python3"
  },
  "language_info": {
   "codemirror_mode": {
    "name": "ipython",
    "version": 3
   },
   "file_extension": ".py",
   "mimetype": "text/x-python",
   "name": "python",
   "nbconvert_exporter": "python",
   "pygments_lexer": "ipython3",
   "version": "3.11.5"
  }
 },
 "nbformat": 4,
 "nbformat_minor": 5
}
