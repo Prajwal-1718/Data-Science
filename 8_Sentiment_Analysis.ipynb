{
 "cells": [
  {
   "cell_type": "markdown",
   "id": "73e3ae20",
   "metadata": {},
   "source": [
    "# Sentiment Analysis\n",
    "* The goal of sentiment analysis is to **classify** a comment, review or sentence as **positive or negative**.\n",
    "* This is the most common classification application of Text Vectorization.\n",
    "* We use `TextBlob` library for processing textual data.\n",
    "    * This library provides a simple API for diving into common NLP tasks such as part-of-speech tagging, noun phrase extraction, sentiment analysis, classification and more.\n",
    "    "
   ]
  },
  {
   "cell_type": "code",
   "execution_count": 17,
   "id": "19238ebe",
   "metadata": {},
   "outputs": [],
   "source": [
    "# Let's install the TextBlob\n",
    "# !pip install -U textblob \n",
    "# python -m textblob.download_corpora\n"
   ]
  },
  {
   "cell_type": "markdown",
   "id": "7097a29d",
   "metadata": {},
   "source": [
    "* Similar to `spaCy`, when you apply `TextBlob` to a text, the text is parsed, and you get a list of all the sentences in the text. And with each sentence, you get the following :\n",
    "    * **Sentiment**, also known as its **polarity**.\n",
    "    * **ubjectivity**, a measure of the **intensity of the sentiment**."
   ]
  },
  {
   "cell_type": "code",
   "execution_count": 20,
   "id": "b2c73f9a",
   "metadata": {},
   "outputs": [
    {
     "name": "stdout",
     "output_type": "stream",
     "text": [
      "That was a narrow escape, Alice said. -0.2 0.4\n",
      "A good deal frightened at the sudden change. 0.35 0.55\n",
      "But very glad to find herself still in existence; 0.65 1.0\n"
     ]
    }
   ],
   "source": [
    "# Dictionary Based approach for Sentiment Analysis\n",
    "\n",
    "# Lets apply the text blob to a text\n",
    "from textblob import TextBlob\n",
    "\n",
    "text = '''That was a narrow escape, Alice said.\n",
    "A good deal frightened at the sudden change.\n",
    "But very glad to find herself still in existence;\n",
    "'''\n",
    "\n",
    "blob = TextBlob(text)\n",
    "\n",
    "# For each sentence, calculate the sentence's sentiment (polarity) and importance (subjectivity)\n",
    "for snt in blob.sentences:\n",
    "    print(snt.raw, snt.sentiment.polarity, snt.sentiment.subjectivity)"
   ]
  },
  {
   "cell_type": "markdown",
   "id": "82b19dc7",
   "metadata": {},
   "source": [
    "* In the above code :\n",
    "    - `snt.raw` : Returns the sentence in RAW format\n",
    "    - `snt.sentiment.polarity` : Returns the sentence's **sentiment (polarity)**\n",
    "    - `snt.sentiment.subjectivity` : Returns the **importance or intensity** of the sentiment (**subjectivity**)"
   ]
  },
  {
   "cell_type": "code",
   "execution_count": 19,
   "id": "0a817390",
   "metadata": {},
   "outputs": [
    {
     "name": "stdout",
     "output_type": "stream",
     "text": [
      "Sentiment(polarity=-0.2, subjectivity=0.4)\n",
      "Sentiment(polarity=0.35, subjectivity=0.55)\n",
      "Sentiment(polarity=0.65, subjectivity=1.0)\n"
     ]
    }
   ],
   "source": [
    "for snt in blob.sentences:\n",
    "    print(snt.sentiment)"
   ]
  },
  {
   "cell_type": "markdown",
   "id": "5d1bf81d",
   "metadata": {},
   "source": [
    "* By looking at the values :\n",
    "    * First sentence is been classified as **slightly negative (narrow escape)**\n",
    "    * Third sentence is been classified as **more positive (glad)**\n",
    "    * And the second one has polarity of **0.35** which indicates as **positive** but, Alice is saying **she is a good deal.......*frightened***. Not such a positive statement after all"
   ]
  },
  {
   "cell_type": "markdown",
   "id": "cd38cc20",
   "metadata": {},
   "source": [
    "Let's see what's happening here by calculating the polarity for different versions of that sentence."
   ]
  },
  {
   "cell_type": "code",
   "execution_count": 21,
   "id": "e85eecaf",
   "metadata": {},
   "outputs": [],
   "source": [
    "def polarity(text):\n",
    "    polarityScore = TextBlob(text).sentences[0].sentiment.polarity\n",
    "    print(f\"{polarityScore:5}\\t{text}\")\n",
    "    return"
   ]
  },
  {
   "cell_type": "code",
   "execution_count": 22,
   "id": "a817bf56",
   "metadata": {},
   "outputs": [
    {
     "name": "stdout",
     "output_type": "stream",
     "text": [
      " 0.35\tA good deal frightened at the sudden change.\n"
     ]
    }
   ],
   "source": [
    "# Let's pass the original sentence\n",
    "polarity(\"A good deal frightened at the sudden change.\")"
   ]
  },
  {
   "cell_type": "code",
   "execution_count": 23,
   "id": "f0a09c2b",
   "metadata": {},
   "outputs": [
    {
     "name": "stdout",
     "output_type": "stream",
     "text": [
      "  0.0\tfrightened at the sudden change.\n"
     ]
    }
   ],
   "source": [
    "# Remove 'a good deal'\n",
    "polarity(\"frightened at the sudden change.\")"
   ]
  },
  {
   "cell_type": "code",
   "execution_count": 24,
   "id": "86a5152b",
   "metadata": {},
   "outputs": [
    {
     "name": "stdout",
     "output_type": "stream",
     "text": [
      "  0.4\tHappy at the sudden change.\n"
     ]
    }
   ],
   "source": [
    "# What if we add negation, and change a noun\n",
    "polarity(\"Happy at the sudden change.\")"
   ]
  },
  {
   "cell_type": "code",
   "execution_count": 25,
   "id": "23291de1",
   "metadata": {},
   "outputs": [
    {
     "name": "stdout",
     "output_type": "stream",
     "text": [
      "  0.1\tVery frightened at the sudden change.\n"
     ]
    }
   ],
   "source": [
    "# Or adding the word 'Very'\n",
    "polarity(\"Very frightened at the sudden change.\")"
   ]
  },
  {
   "cell_type": "markdown",
   "id": "513a9574",
   "metadata": {},
   "source": [
    "* `TextBlob` takes **adjective** and their **polarity** to score the sentiment of a sentence.\n",
    "* When you look at the above cells output, we can say that **frightened** word is not considered as **negative**, though the word is **negative**. Because the `TextBlob` took the word as a **verb**, instead as **adjective**."
   ]
  },
  {
   "cell_type": "markdown",
   "id": "c8ef0162",
   "metadata": {},
   "source": [
    "### Dictionary Based Sentiment Analysis Approach:\n",
    "* When using this approach, **each word** will have a **fixed negative or positive polarity** and will be too rough to give reliable results.\n",
    "* This approach **cannot handle** the words that are **not already in the dictionary**. (**Out-Of-Vocabulary - OOV**)\n",
    "* It **does not** consider the **word context**. For example., ***green beans*** is **negative (-0.2)**, because *green* has a negative score in the `TextBlob` dictionary.\n",
    "* It propagates **bias**.\n",
    "\n",
    "### Cloud Based Sentiment Analysis :\n",
    "* Multiple companies offer out-of-box sentiment analysis services, such as **Microsoft Text Analysis**, **Google NLP**, **AWS comprehend**.\n",
    "* These services require you to register and get an **API key**. Once that is done, the process is to :\n",
    "    * Send a request to the API with your text\n",
    "    * Get back a JSON file with information on your text, such as polarity, named entities, part-of-speech and language detection\n",
    "    "
   ]
  }
 ],
 "metadata": {
  "kernelspec": {
   "display_name": "Python 3 (ipykernel)",
   "language": "python",
   "name": "python3"
  },
  "language_info": {
   "codemirror_mode": {
    "name": "ipython",
    "version": 3
   },
   "file_extension": ".py",
   "mimetype": "text/x-python",
   "name": "python",
   "nbconvert_exporter": "python",
   "pygments_lexer": "ipython3",
   "version": "3.11.5"
  }
 },
 "nbformat": 4,
 "nbformat_minor": 5
}
