{
 "cells": [
  {
   "cell_type": "markdown",
   "id": "150f8543",
   "metadata": {},
   "source": [
    "### Step 1 : Problem\n",
    "* Currency exchange rate forecasting means predicting future fluctuations in the value of one currency against another.\n",
    "* It involves the use of historical data, economic indicators, and mathematical models to make accurate predictions about the direction and magnitude of exchange rate movements\n",
    "* In this project we work on **INR - USD** conversion rate"
   ]
  },
  {
   "cell_type": "markdown",
   "id": "729021d0",
   "metadata": {},
   "source": [
    "### Step 2 : Gathering the data\n",
    "* Importing the necessary libraries and functions\n",
    "* Importing the relevant data to address the problem"
   ]
  },
  {
   "cell_type": "code",
   "execution_count": 15,
   "id": "1dc6c1d7",
   "metadata": {},
   "outputs": [],
   "source": [
    "# libraries\n",
    "import numpy as np\n",
    "import pandas as pd\n",
    "import matplotlib.pyplot as plt\n",
    "import seaborn as sns\n",
    "import plotly.express as px # It offers some interactivity on the plots\n",
    "import plotly.io as pio # provides functions for displaying and saving Plotly figures"
   ]
  },
  {
   "cell_type": "code",
   "execution_count": 16,
   "id": "4b9ec531",
   "metadata": {},
   "outputs": [
    {
     "data": {
      "text/html": [
       "<div>\n",
       "<style scoped>\n",
       "    .dataframe tbody tr th:only-of-type {\n",
       "        vertical-align: middle;\n",
       "    }\n",
       "\n",
       "    .dataframe tbody tr th {\n",
       "        vertical-align: top;\n",
       "    }\n",
       "\n",
       "    .dataframe thead th {\n",
       "        text-align: right;\n",
       "    }\n",
       "</style>\n",
       "<table border=\"1\" class=\"dataframe\">\n",
       "  <thead>\n",
       "    <tr style=\"text-align: right;\">\n",
       "      <th></th>\n",
       "      <th>Date</th>\n",
       "      <th>Open</th>\n",
       "      <th>High</th>\n",
       "      <th>Low</th>\n",
       "      <th>Close</th>\n",
       "      <th>Adj Close</th>\n",
       "      <th>Volume</th>\n",
       "    </tr>\n",
       "  </thead>\n",
       "  <tbody>\n",
       "    <tr>\n",
       "      <th>0</th>\n",
       "      <td>2003-12-01</td>\n",
       "      <td>45.709000</td>\n",
       "      <td>45.728001</td>\n",
       "      <td>45.449001</td>\n",
       "      <td>45.480000</td>\n",
       "      <td>45.480000</td>\n",
       "      <td>0.0</td>\n",
       "    </tr>\n",
       "    <tr>\n",
       "      <th>1</th>\n",
       "      <td>2003-12-08</td>\n",
       "      <td>45.474998</td>\n",
       "      <td>45.507999</td>\n",
       "      <td>45.352001</td>\n",
       "      <td>45.451000</td>\n",
       "      <td>45.451000</td>\n",
       "      <td>0.0</td>\n",
       "    </tr>\n",
       "    <tr>\n",
       "      <th>2</th>\n",
       "      <td>2003-12-15</td>\n",
       "      <td>45.450001</td>\n",
       "      <td>45.500000</td>\n",
       "      <td>45.332001</td>\n",
       "      <td>45.455002</td>\n",
       "      <td>45.455002</td>\n",
       "      <td>0.0</td>\n",
       "    </tr>\n",
       "    <tr>\n",
       "      <th>3</th>\n",
       "      <td>2003-12-22</td>\n",
       "      <td>45.417000</td>\n",
       "      <td>45.549000</td>\n",
       "      <td>45.296001</td>\n",
       "      <td>45.507999</td>\n",
       "      <td>45.507999</td>\n",
       "      <td>0.0</td>\n",
       "    </tr>\n",
       "    <tr>\n",
       "      <th>4</th>\n",
       "      <td>2003-12-29</td>\n",
       "      <td>45.439999</td>\n",
       "      <td>45.645000</td>\n",
       "      <td>45.421001</td>\n",
       "      <td>45.560001</td>\n",
       "      <td>45.560001</td>\n",
       "      <td>0.0</td>\n",
       "    </tr>\n",
       "  </tbody>\n",
       "</table>\n",
       "</div>"
      ],
      "text/plain": [
       "         Date       Open       High        Low      Close  Adj Close  Volume\n",
       "0  2003-12-01  45.709000  45.728001  45.449001  45.480000  45.480000     0.0\n",
       "1  2003-12-08  45.474998  45.507999  45.352001  45.451000  45.451000     0.0\n",
       "2  2003-12-15  45.450001  45.500000  45.332001  45.455002  45.455002     0.0\n",
       "3  2003-12-22  45.417000  45.549000  45.296001  45.507999  45.507999     0.0\n",
       "4  2003-12-29  45.439999  45.645000  45.421001  45.560001  45.560001     0.0"
      ]
     },
     "execution_count": 16,
     "metadata": {},
     "output_type": "execute_result"
    }
   ],
   "source": [
    "# Loading the data into pandas dataframe from CSV file\n",
    "data = pd.read_csv('INR-USD.csv')\n",
    "\n",
    "data.head()"
   ]
  },
  {
   "cell_type": "markdown",
   "id": "7071b8db",
   "metadata": {},
   "source": [
    "### Step 3 : Explore, Understand, and Preprocess the data"
   ]
  },
  {
   "cell_type": "code",
   "execution_count": 17,
   "id": "0243b324",
   "metadata": {},
   "outputs": [
    {
     "data": {
      "text/plain": [
       "Date         0\n",
       "Open         3\n",
       "High         3\n",
       "Low          3\n",
       "Close        3\n",
       "Adj Close    3\n",
       "Volume       3\n",
       "dtype: int64"
      ]
     },
     "execution_count": 17,
     "metadata": {},
     "output_type": "execute_result"
    }
   ],
   "source": [
    "# Checking if there are any missing values in the data\n",
    "data.isnull().sum()"
   ]
  },
  {
   "cell_type": "code",
   "execution_count": 18,
   "id": "6286ad39",
   "metadata": {},
   "outputs": [],
   "source": [
    "# The above output shows that there are some missing values in the data\n",
    "# Since the total number of missing values is less, we remove the entire rows of missing values\n",
    "data.dropna(inplace=True)"
   ]
  },
  {
   "cell_type": "code",
   "execution_count": 19,
   "id": "ac446ca4",
   "metadata": {},
   "outputs": [
    {
     "data": {
      "text/plain": [
       "Date         0\n",
       "Open         0\n",
       "High         0\n",
       "Low          0\n",
       "Close        0\n",
       "Adj Close    0\n",
       "Volume       0\n",
       "dtype: int64"
      ]
     },
     "execution_count": 19,
     "metadata": {},
     "output_type": "execute_result"
    }
   ],
   "source": [
    "# Check whether the missing values has been removed or not\n",
    "data.isnull().sum()"
   ]
  },
  {
   "cell_type": "code",
   "execution_count": 20,
   "id": "1e156905",
   "metadata": {},
   "outputs": [
    {
     "data": {
      "text/html": [
       "<div>\n",
       "<style scoped>\n",
       "    .dataframe tbody tr th:only-of-type {\n",
       "        vertical-align: middle;\n",
       "    }\n",
       "\n",
       "    .dataframe tbody tr th {\n",
       "        vertical-align: top;\n",
       "    }\n",
       "\n",
       "    .dataframe thead th {\n",
       "        text-align: right;\n",
       "    }\n",
       "</style>\n",
       "<table border=\"1\" class=\"dataframe\">\n",
       "  <thead>\n",
       "    <tr style=\"text-align: right;\">\n",
       "      <th></th>\n",
       "      <th>Open</th>\n",
       "      <th>High</th>\n",
       "      <th>Low</th>\n",
       "      <th>Close</th>\n",
       "      <th>Adj Close</th>\n",
       "      <th>Volume</th>\n",
       "    </tr>\n",
       "  </thead>\n",
       "  <tbody>\n",
       "    <tr>\n",
       "      <th>count</th>\n",
       "      <td>1013.000000</td>\n",
       "      <td>1013.000000</td>\n",
       "      <td>1013.000000</td>\n",
       "      <td>1013.000000</td>\n",
       "      <td>1013.000000</td>\n",
       "      <td>1013.0</td>\n",
       "    </tr>\n",
       "    <tr>\n",
       "      <th>mean</th>\n",
       "      <td>58.035208</td>\n",
       "      <td>58.506681</td>\n",
       "      <td>57.654706</td>\n",
       "      <td>58.056509</td>\n",
       "      <td>58.056509</td>\n",
       "      <td>0.0</td>\n",
       "    </tr>\n",
       "    <tr>\n",
       "      <th>std</th>\n",
       "      <td>12.614635</td>\n",
       "      <td>12.716632</td>\n",
       "      <td>12.565279</td>\n",
       "      <td>12.657407</td>\n",
       "      <td>12.657407</td>\n",
       "      <td>0.0</td>\n",
       "    </tr>\n",
       "    <tr>\n",
       "      <th>min</th>\n",
       "      <td>38.995998</td>\n",
       "      <td>39.334999</td>\n",
       "      <td>38.979000</td>\n",
       "      <td>39.044998</td>\n",
       "      <td>39.044998</td>\n",
       "      <td>0.0</td>\n",
       "    </tr>\n",
       "    <tr>\n",
       "      <th>25%</th>\n",
       "      <td>45.508999</td>\n",
       "      <td>45.775002</td>\n",
       "      <td>45.231998</td>\n",
       "      <td>45.498001</td>\n",
       "      <td>45.498001</td>\n",
       "      <td>0.0</td>\n",
       "    </tr>\n",
       "    <tr>\n",
       "      <th>50%</th>\n",
       "      <td>59.702999</td>\n",
       "      <td>60.342999</td>\n",
       "      <td>59.209999</td>\n",
       "      <td>59.840000</td>\n",
       "      <td>59.840000</td>\n",
       "      <td>0.0</td>\n",
       "    </tr>\n",
       "    <tr>\n",
       "      <th>75%</th>\n",
       "      <td>68.508499</td>\n",
       "      <td>69.099998</td>\n",
       "      <td>68.250000</td>\n",
       "      <td>68.538002</td>\n",
       "      <td>68.538002</td>\n",
       "      <td>0.0</td>\n",
       "    </tr>\n",
       "    <tr>\n",
       "      <th>max</th>\n",
       "      <td>82.917999</td>\n",
       "      <td>83.386002</td>\n",
       "      <td>82.563004</td>\n",
       "      <td>82.932999</td>\n",
       "      <td>82.932999</td>\n",
       "      <td>0.0</td>\n",
       "    </tr>\n",
       "  </tbody>\n",
       "</table>\n",
       "</div>"
      ],
      "text/plain": [
       "              Open         High          Low        Close    Adj Close  Volume\n",
       "count  1013.000000  1013.000000  1013.000000  1013.000000  1013.000000  1013.0\n",
       "mean     58.035208    58.506681    57.654706    58.056509    58.056509     0.0\n",
       "std      12.614635    12.716632    12.565279    12.657407    12.657407     0.0\n",
       "min      38.995998    39.334999    38.979000    39.044998    39.044998     0.0\n",
       "25%      45.508999    45.775002    45.231998    45.498001    45.498001     0.0\n",
       "50%      59.702999    60.342999    59.209999    59.840000    59.840000     0.0\n",
       "75%      68.508499    69.099998    68.250000    68.538002    68.538002     0.0\n",
       "max      82.917999    83.386002    82.563004    82.932999    82.932999     0.0"
      ]
     },
     "execution_count": 20,
     "metadata": {},
     "output_type": "execute_result"
    }
   ],
   "source": [
    "# Now lets have a look at the descriptive statistics of the dataset\n",
    "data.describe()"
   ]
  },
  {
   "cell_type": "markdown",
   "id": "6fd3c2fe",
   "metadata": {},
   "source": [
    "As we are using the USD – INR conversion rates data, let’s analyze the **conversion rates** between both currencies **over the years**. I’ll start with a line chart showing the **trend of conversion rates over the years:**"
   ]
  },
  {
   "cell_type": "code",
   "execution_count": 29,
   "id": "0e007532",
   "metadata": {},
   "outputs": [],
   "source": [
    "figure = px.line(data, x=\"Date\", y=\"Close\", title=\"INR-USD Conversion Rates over the years\")\n",
    "pio.write_image(figure, 'INR-USD Conversion Rates over the years.png')"
   ]
  },
  {
   "cell_type": "markdown",
   "id": "dc26e474",
   "metadata": {},
   "source": [
    "![Plot](INR-USD Conversion Rates over the years.png)"
   ]
  },
  {
   "cell_type": "code",
   "execution_count": 22,
   "id": "9d71c4dd",
   "metadata": {},
   "outputs": [
    {
     "data": {
      "text/html": [
       "<div>\n",
       "<style scoped>\n",
       "    .dataframe tbody tr th:only-of-type {\n",
       "        vertical-align: middle;\n",
       "    }\n",
       "\n",
       "    .dataframe tbody tr th {\n",
       "        vertical-align: top;\n",
       "    }\n",
       "\n",
       "    .dataframe thead th {\n",
       "        text-align: right;\n",
       "    }\n",
       "</style>\n",
       "<table border=\"1\" class=\"dataframe\">\n",
       "  <thead>\n",
       "    <tr style=\"text-align: right;\">\n",
       "      <th></th>\n",
       "      <th>Date</th>\n",
       "      <th>Open</th>\n",
       "      <th>High</th>\n",
       "      <th>Low</th>\n",
       "      <th>Close</th>\n",
       "      <th>Adj Close</th>\n",
       "      <th>Volume</th>\n",
       "      <th>Year</th>\n",
       "      <th>Month</th>\n",
       "    </tr>\n",
       "  </thead>\n",
       "  <tbody>\n",
       "    <tr>\n",
       "      <th>0</th>\n",
       "      <td>2003-12-01</td>\n",
       "      <td>45.709000</td>\n",
       "      <td>45.728001</td>\n",
       "      <td>45.449001</td>\n",
       "      <td>45.480000</td>\n",
       "      <td>45.480000</td>\n",
       "      <td>0.0</td>\n",
       "      <td>2003</td>\n",
       "      <td>12</td>\n",
       "    </tr>\n",
       "    <tr>\n",
       "      <th>1</th>\n",
       "      <td>2003-12-08</td>\n",
       "      <td>45.474998</td>\n",
       "      <td>45.507999</td>\n",
       "      <td>45.352001</td>\n",
       "      <td>45.451000</td>\n",
       "      <td>45.451000</td>\n",
       "      <td>0.0</td>\n",
       "      <td>2003</td>\n",
       "      <td>12</td>\n",
       "    </tr>\n",
       "    <tr>\n",
       "      <th>2</th>\n",
       "      <td>2003-12-15</td>\n",
       "      <td>45.450001</td>\n",
       "      <td>45.500000</td>\n",
       "      <td>45.332001</td>\n",
       "      <td>45.455002</td>\n",
       "      <td>45.455002</td>\n",
       "      <td>0.0</td>\n",
       "      <td>2003</td>\n",
       "      <td>12</td>\n",
       "    </tr>\n",
       "    <tr>\n",
       "      <th>3</th>\n",
       "      <td>2003-12-22</td>\n",
       "      <td>45.417000</td>\n",
       "      <td>45.549000</td>\n",
       "      <td>45.296001</td>\n",
       "      <td>45.507999</td>\n",
       "      <td>45.507999</td>\n",
       "      <td>0.0</td>\n",
       "      <td>2003</td>\n",
       "      <td>12</td>\n",
       "    </tr>\n",
       "    <tr>\n",
       "      <th>4</th>\n",
       "      <td>2003-12-29</td>\n",
       "      <td>45.439999</td>\n",
       "      <td>45.645000</td>\n",
       "      <td>45.421001</td>\n",
       "      <td>45.560001</td>\n",
       "      <td>45.560001</td>\n",
       "      <td>0.0</td>\n",
       "      <td>2003</td>\n",
       "      <td>12</td>\n",
       "    </tr>\n",
       "  </tbody>\n",
       "</table>\n",
       "</div>"
      ],
      "text/plain": [
       "        Date       Open       High        Low      Close  Adj Close  Volume  \\\n",
       "0 2003-12-01  45.709000  45.728001  45.449001  45.480000  45.480000     0.0   \n",
       "1 2003-12-08  45.474998  45.507999  45.352001  45.451000  45.451000     0.0   \n",
       "2 2003-12-15  45.450001  45.500000  45.332001  45.455002  45.455002     0.0   \n",
       "3 2003-12-22  45.417000  45.549000  45.296001  45.507999  45.507999     0.0   \n",
       "4 2003-12-29  45.439999  45.645000  45.421001  45.560001  45.560001     0.0   \n",
       "\n",
       "   Year  Month  \n",
       "0  2003     12  \n",
       "1  2003     12  \n",
       "2  2003     12  \n",
       "3  2003     12  \n",
       "4  2003     12  "
      ]
     },
     "execution_count": 22,
     "metadata": {},
     "output_type": "execute_result"
    }
   ],
   "source": [
    "# Split the 'Date' into separate 'year' and 'month' columns\n",
    "\n",
    "# Convert the 'Date' into 'datetime' type with \"YYYY-MM-DD\" format\n",
    "data.Date = pd.to_datetime(data['Date'], format='%Y-%m-%d')\n",
    "\n",
    "# Now create new 'Month' and 'Year' columns\n",
    "data['Year'] = data['Date'].dt.year\n",
    "data['Month'] = data['Date'].dt.month\n",
    "\n",
    "data.head()"
   ]
  },
  {
   "cell_type": "markdown",
   "id": "3fe7cc61",
   "metadata": {},
   "source": [
    "Now let's have a look at the **aggregated yearly growth** of the conversion rates between INR and USD\n",
    "\n",
    "The **growth rate** is calculated as the **percentage change in the closing price over the year**, relative to the **closing price at the beginning of the year**"
   ]
  },
  {
   "cell_type": "code",
   "execution_count": 30,
   "id": "1571538d",
   "metadata": {},
   "outputs": [],
   "source": [
    "import plotly.graph_objs as go #provides a low-level interface for creating plots with Plotly\n",
    "\n",
    "# Calculate yearly growth\n",
    "growth = data.groupby('Year').agg({'Close' : lambda x : (x.iloc[-1]-x.iloc[0]) / x.iloc[0] * 100})\n",
    "\n",
    "# Growth Rate = ( (Year's close price - Year's Open Price) / Year's Open Price) * 100\n",
    "# (x.iloc[-1]-x.iloc[0]) : Change in the closing price over year\n",
    "# x.iloc[0] : Closing price at the beginning of the year\n",
    "# Multiplying with 100 is to get the value in percentage\n",
    "\n",
    "# creating an empty figure object, which later will hold the traces or other layouts we want to add \n",
    "fig = go.Figure()\n",
    "\n",
    "# Adding a bar trace with :\n",
    "# x-axis -> Year column (Index of growth DF)\n",
    "# y-axis -> Close column (Aggregated close price)\n",
    "fig.add_trace(go.Bar(x = growth.index,\n",
    "                    y = growth['Close'],\n",
    "                    name='Yearly Growth'))\n",
    "\n",
    "\n",
    "# Updating the layouts with title, x-axis name, y-axis name ,height and width of the plot\n",
    "fig.update_layout(title=\"Yearly Growth of USD - INR Conversion Rate\",\n",
    "                 xaxis_title='Year',\n",
    "                 yaxis_title=\"Growth (%)\",\n",
    "                 width=900,\n",
    "                 height=600)\n",
    "\n",
    "\n",
    "pio.write_image(figure, 'Yearly Growth of USD - INR Conversion Rate.png')"
   ]
  },
  {
   "cell_type": "markdown",
   "id": "695cfaa5",
   "metadata": {},
   "source": [
    "![Plot](Yearly Growth of USD - INR Conversion Rate.png)"
   ]
  },
  {
   "cell_type": "markdown",
   "id": "d84b78b3",
   "metadata": {},
   "source": [
    "Now let's have a look at the **aggregated monthly growth rate** of the conversion rates between INR - USD "
   ]
  },
  {
   "cell_type": "code",
   "execution_count": 31,
   "id": "719a7da7",
   "metadata": {
    "scrolled": false
   },
   "outputs": [],
   "source": [
    "# Calculate the monthly growth rate for every month of every year\n",
    "data['Growth'] = data.groupby(['Year', 'Month'])['Close'].transform(lambda x : (x.iloc[-1] - x.iloc[0]) / x.iloc[0] * 100)\n",
    "\n",
    "# Now group the data by 'Month' and calculate average growth rate \n",
    "grouped_data = data.groupby('Month').mean().reset_index()\n",
    "\n",
    "# create an empty Figure instance\n",
    "fig = go.Figure()\n",
    "\n",
    "# Add the Bar trace\n",
    "fig.add_trace(go.Bar(x=grouped_data['Month'],\n",
    "                    y=grouped_data['Growth'],\n",
    "                    marker_color=grouped_data['Growth'],\n",
    "                    hovertemplate='Month : %{x}<br>Average Growth : %{y:.2f}%<extra></extra>')) # format of the hover tooltip\n",
    "\n",
    "# Update the layouts\n",
    "fig.update_layout(title = \"Aggregated Monthly Growth Conversion Rate of USD - INR\",\n",
    "                 xaxis_title = \"Month\",\n",
    "                 yaxis_title = \"Average Growth(%)\",\n",
    "                 width=900,\n",
    "                 height=600)\n",
    "\n",
    "pio.write_image(figure, 'Aggregated Monthly Growth Conversion Rate of USD - INR.png')"
   ]
  },
  {
   "cell_type": "markdown",
   "id": "7d8cba0d",
   "metadata": {},
   "source": [
    "![Plot](Aggregated Monthly Growth Conversion Rate of USD - INR.png)"
   ]
  },
  {
   "cell_type": "markdown",
   "id": "cf246687",
   "metadata": {},
   "source": [
    "From the above graph we could see that : \n",
    "* Value of USD always falls in January and March\n",
    "* While in the 2nd quarter, USD becomes very strong against INR every year\n",
    "* Value of USD peaks in August\n",
    "* Value falls more in March"
   ]
  },
  {
   "cell_type": "markdown",
   "id": "dbc3d26a",
   "metadata": {},
   "source": [
    "### Step 4 : Forecasting Exchange Rates Using Time Series Forecasting\n",
    "To choose the most appropriate time series forecasting model we need to perform **seasonal decomposition**, which will help us identifying any **recurring patterns, lon-term trends, and random fluctuations** present in USD - INR exchange rates data"
   ]
  },
  {
   "cell_type": "code",
   "execution_count": 25,
   "id": "f3a55a2f",
   "metadata": {},
   "outputs": [
    {
     "name": "stderr",
     "output_type": "stream",
     "text": [
      "C:\\Users\\prajw\\AppData\\Local\\Temp\\ipykernel_13344\\2966905141.py:11: UserWarning:\n",
      "\n",
      "Matplotlib is currently using module://matplotlib_inline.backend_inline, which is a non-GUI backend, so cannot show the figure.\n",
      "\n"
     ]
    },
    {
     "data": {
      "text/plain": [
       "<Figure size 640x480 with 0 Axes>"
      ]
     },
     "metadata": {},
     "output_type": "display_data"
    },
    {
     "data": {
      "image/png": "[encoded data removed]",
      "text/plain": [
       "<Figure size 800x600 with 4 Axes>"
      ]
     },
     "metadata": {},
     "output_type": "display_data"
    }
   ],
   "source": [
    "# to decompose a time series into its trend, seasonal, and residual components\n",
    "\n",
    "from statsmodels.tsa.seasonal import seasonal_decompose\n",
    "\n",
    "results = seasonal_decompose(data['Close'], model='multiplicative', period=24)\n",
    "\n",
    "fig = plt.figure()\n",
    "fig = results.plot()\n",
    "\n",
    "fig.set_size_inches(8, 6)\n",
    "fig.show()"
   ]
  },
  {
   "cell_type": "markdown",
   "id": "105f4d36",
   "metadata": {},
   "source": [
    "* From the above plots we can say that, there is a seasonal pattern in this data.\n",
    "* So **SARIMA** will be the most appropriate algorithm to this data.\n",
    "* Before using SARIMA, we need to find the **p, d, and q** values\n",
    "* For that we use **pmdarima** library"
   ]
  },
  {
   "cell_type": "markdown",
   "id": "3f079f87",
   "metadata": {},
   "source": [
    "* **SARIMAX** : Seasonal Auto Regressive Integrated Moving Average with eXogenous regressors\n",
    "* Class used for fitting and forecasting time series data.\n",
    "* Allow you to model and forecast time series data that exhibit both trend and seasonality, and they can also handle exogenous variables, which are external factors that may influence the time series.\n"
   ]
  },
  {
   "cell_type": "markdown",
   "id": "bbc10345",
   "metadata": {},
   "source": [
    "First find the values for p, d, q (Non-seasonal ARIMA parameters)\n",
    " * **AutoRegressive Order(p)** : AR component models the relationship between the current observation and a **number of lagged observations** (i.e., the relationship between an observation and a certain number of past observations).\n",
    " \n",
    " * **Differencing Order(d)** : The differencing component involves differencing the time series data to make it **stationary, removing trends or seasonal patterns. Number of differences needed to make the series stationary**\n",
    " \n",
    " * **Moving Average Order(q)** : MA component models the relationship between the current observation and a **residual error from a moving average model applied to lagged observations**. Specifies the **size of the moving average window**\n",
    "\n",
    "And we have a seasonal order (p, d, q, s) :\n",
    "* s : Seasonal Period\n",
    "    * **Number of observations per cycle**.\n",
    "    * If you have monthly data with yearly seasonality, s would be 12."
   ]
  },
  {
   "cell_type": "code",
   "execution_count": 26,
   "id": "3cef784f",
   "metadata": {},
   "outputs": [
    {
     "name": "stdout",
     "output_type": "stream",
     "text": [
      "(2, 1, 0)\n"
     ]
    }
   ],
   "source": [
    "from pmdarima.arima import auto_arima\n",
    "\n",
    "pdqModel = auto_arima(data['Close'], seasonal=True, m=52, suppress_warnings = True)\n",
    "\n",
    "print(pdqModel.order)\n",
    "\n",
    "p, d, q = pdqModel.order"
   ]
  },
  {
   "cell_type": "code",
   "execution_count": 27,
   "id": "c71a7e70",
   "metadata": {},
   "outputs": [
    {
     "name": "stderr",
     "output_type": "stream",
     "text": [
      "C:\\Users\\prajw\\anaconda3\\Lib\\site-packages\\statsmodels\\tsa\\base\\tsa_model.py:473: ValueWarning:\n",
      "\n",
      "An unsupported index was provided and will be ignored when e.g. forecasting.\n",
      "\n",
      "C:\\Users\\prajw\\anaconda3\\Lib\\site-packages\\statsmodels\\tsa\\base\\tsa_model.py:473: ValueWarning:\n",
      "\n",
      "An unsupported index was provided and will be ignored when e.g. forecasting.\n",
      "\n"
     ]
    },
    {
     "name": "stdout",
     "output_type": "stream",
     "text": [
      "                                     SARIMAX Results                                      \n",
      "==========================================================================================\n",
      "Dep. Variable:                              Close   No. Observations:                 1013\n",
      "Model:             SARIMAX(2, 1, 0)x(2, 1, 0, 52)   Log Likelihood                -905.797\n",
      "Date:                            Thu, 11 Apr 2024   AIC                           1821.594\n",
      "Time:                                    20:32:42   BIC                           1845.929\n",
      "Sample:                                         0   HQIC                          1830.861\n",
      "                                           - 1013                                         \n",
      "Covariance Type:                              opg                                         \n",
      "==============================================================================\n",
      "                 coef    std err          z      P>|z|      [0.025      0.975]\n",
      "------------------------------------------------------------------------------\n",
      "ar.L1          0.0313      0.026      1.194      0.233      -0.020       0.083\n",
      "ar.L2          0.0643      0.026      2.481      0.013       0.013       0.115\n",
      "ar.S.L52      -0.6358      0.026    -24.677      0.000      -0.686      -0.585\n",
      "ar.S.L104     -0.3075      0.029    -10.602      0.000      -0.364      -0.251\n",
      "sigma2         0.3767      0.013     28.481      0.000       0.351       0.403\n",
      "===================================================================================\n",
      "Ljung-Box (L1) (Q):                   0.00   Jarque-Bera (JB):                86.43\n",
      "Prob(Q):                              0.99   Prob(JB):                         0.00\n",
      "Heteroskedasticity (H):               1.57   Skew:                             0.06\n",
      "Prob(H) (two-sided):                  0.00   Kurtosis:                         4.47\n",
      "===================================================================================\n",
      "\n",
      "Warnings:\n",
      "[1] Covariance matrix calculated using the outer product of gradients (complex-step).\n"
     ]
    }
   ],
   "source": [
    "# Now lets call the model, train it and run forecasting with it\n",
    "\n",
    "from statsmodels.tsa.statespace.sarimax import SARIMAX\n",
    "\n",
    "# seasonal_order = (p, d, q, s)\n",
    "# s -> Seasonal Period : Number of observations per cycle\n",
    "model = SARIMAX(data[\"Close\"], order=(p, d, q), \n",
    "                seasonal_order=(p, d, q, 52))  \n",
    "\n",
    "fitted = model.fit() \n",
    "\n",
    "print(fitted.summary())"
   ]
  },
  {
   "cell_type": "markdown",
   "id": "a1db2fd6",
   "metadata": {},
   "source": [
    "#### Let's forecast the future exchange rates"
   ]
  },
  {
   "cell_type": "code",
   "execution_count": 28,
   "id": "da1b831c",
   "metadata": {},
   "outputs": [
    {
     "name": "stderr",
     "output_type": "stream",
     "text": [
      "C:\\Users\\prajw\\anaconda3\\Lib\\site-packages\\statsmodels\\tsa\\base\\tsa_model.py:836: ValueWarning:\n",
      "\n",
      "No supported index is available. Prediction results will be given with an integer index beginning at `start`.\n",
      "\n",
      "C:\\Users\\prajw\\anaconda3\\Lib\\site-packages\\statsmodels\\tsa\\base\\tsa_model.py:836: FutureWarning:\n",
      "\n",
      "No supported index is available. In the next version, calling this method in a model without a supported index will result in an exception.\n",
      "\n"
     ]
    },
    {
     "name": "stdout",
     "output_type": "stream",
     "text": [
      "1013    81.732811\n",
      "1014    81.886995\n",
      "1015    82.180324\n",
      "1016    82.607759\n",
      "1017    82.474250\n",
      "          ...    \n",
      "1069    84.906914\n",
      "1070    85.402571\n",
      "1071    85.520269\n",
      "1072    85.830599\n",
      "1073    85.687409\n",
      "Name: predicted_mean, Length: 61, dtype: float64\n"
     ]
    }
   ],
   "source": [
    "# We are making forecast for 60 more days from the last observation recorded.\n",
    "predictions = fitted.predict(len(data), len(data)+60)\n",
    "\n",
    "# len(data) -> Finding the index of the last observation recorded\n",
    "# len(data)+60 -> Index of last observation + 60 time steps into the future that you want to forecast\n",
    "\n",
    "print(predictions)"
   ]
  },
  {
   "cell_type": "markdown",
   "id": "11febc30",
   "metadata": {},
   "source": [
    "Let's visualize the forecasted results along with the training data"
   ]
  },
  {
   "cell_type": "code",
   "execution_count": null,
   "id": "532a7594",
   "metadata": {},
   "outputs": [],
   "source": []
  }
 ],
 "metadata": {
  "kernelspec": {
   "display_name": "Python 3 (ipykernel)",
   "language": "python",
   "name": "python3"
  },
  "language_info": {
   "codemirror_mode": {
    "name": "ipython",
    "version": 3
   },
   "file_extension": ".py",
   "mimetype": "text/x-python",
   "name": "python",
   "nbconvert_exporter": "python",
   "pygments_lexer": "ipython3",
   "version": "3.11.5"
  }
 },
 "nbformat": 4,
 "nbformat_minor": 5
}
